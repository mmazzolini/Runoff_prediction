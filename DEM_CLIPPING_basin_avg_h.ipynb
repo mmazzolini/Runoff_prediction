{
 "cells": [
  {
   "cell_type": "markdown",
   "id": "e3a39119",
   "metadata": {},
   "source": [
    "### CREATE DAILY INPUT FOR THE CNN MODEL"
   ]
  },
  {
   "cell_type": "code",
   "execution_count": 1,
   "id": "889e3048",
   "metadata": {},
   "outputs": [],
   "source": [
    "from create_daily_csv import interpolate_df,readnetcdf_in_shp,xarray2df,check_data_gap,readnetcdf_in_shp_db,get_discharge_from_DB\n",
    "from create_daily_csv import spatial_stats_daily_input\n",
    "import pandas as pd\n",
    "import numpy as np\n",
    "import os\n",
    "from matplotlib import pyplot as plot\n",
    "import rioxarray as xr\n",
    "import datetime\n",
    "import psycopg2\n",
    "from geopandas import GeoSeries\n",
    "\n",
    "import pandas as pd\n",
    "import numpy as np\n",
    "import xarray as xr\n",
    "import geopandas as gpd\n",
    "from shapely.geometry import Point, Polygon\n",
    "import matplotlib.pyplot as plt\n",
    "import psycopg2\n",
    "import shapely.wkb as wkb\n",
    "from geopandas import GeoSeries"
   ]
  },
  {
   "cell_type": "code",
   "execution_count": 2,
   "id": "dff9323e",
   "metadata": {},
   "outputs": [],
   "source": [
    "LIST = ['ADO_DSC_SI03_0148','ADO_DSC_SI03_0033','ADO_DSC_ITH1_0012',\n",
    "        'ADO_DSC_CH05_0201','ADO_DSC_CH07_0100','ADO_DSC_AT31_0206']\n",
    "\n",
    "tif_fileName =  r'C:\\Users\\mmazzolini\\OneDrive - Scientific Network South Tyrol\\DEM_EU\\DEM.tif'"
   ]
  },
  {
   "cell_type": "code",
   "execution_count": 3,
   "id": "1edd655a",
   "metadata": {},
   "outputs": [],
   "source": [
    "#\n",
    "table=pd.DataFrame(data=None)\n",
    "dem=xr.open_rasterio(tif_fileName)\n",
    "# Open the shape file and reproject it to the MESCAN-Surfex grid (unit=meters)\n",
    "\n",
    "conn = psycopg2.connect(host=\"10.8.244.31\",\n",
    "                   database=\"climate_data\",\n",
    "                   user=\"ado_user\",\n",
    "                   password=\"hydro#ado\",\n",
    "                   port=5432)\n",
    "cur = conn.cursor()\n",
    "\n",
    "for STAT_CODE in LIST:\n",
    "   \n",
    "\n",
    "    \n",
    "    # get the metadata\n",
    "    query = f\"\"\"\n",
    "            SELECT \"geom\" FROM \"hydrology\".\"catchment_area\" WHERE \"id_station\" = '{STAT_CODE}'    \n",
    "            \"\"\"\n",
    "    df = pd.read_sql_query(query, conn)\n",
    "    \n",
    "    # close the connection when finished\n",
    "    cur.close()\n",
    "    conn.close()\n",
    "    \n",
    "    shp=GeoSeries(wkb.loads(df.geom[0], hex=True))\n",
    "    shp=shp.set_crs(\"EPSG:4326\")\n",
    "    \n",
    "    \n",
    "    dem_catch=dem.rio.clip(shp[0],from_disk=True)\n",
    "\n",
    "    h=np.array(dem_catch)\n",
    "    h = h[h!=-99999.]\n",
    "    \n",
    "    h_mean=h.mean()\n",
    "    \n",
    "    update = {}\n",
    "    update['name'] = STAT_CODE\n",
    "    update['mean_h']=h_mean\n",
    "    \n",
    "    table = table.append(update,ignore_index=True)\n",
    "    "
   ]
  },
  {
   "cell_type": "code",
   "execution_count": 4,
   "id": "fe610a00",
   "metadata": {},
   "outputs": [
    {
     "data": {
      "text/html": [
       "<div>\n",
       "<style scoped>\n",
       "    .dataframe tbody tr th:only-of-type {\n",
       "        vertical-align: middle;\n",
       "    }\n",
       "\n",
       "    .dataframe tbody tr th {\n",
       "        vertical-align: top;\n",
       "    }\n",
       "\n",
       "    .dataframe thead th {\n",
       "        text-align: right;\n",
       "    }\n",
       "</style>\n",
       "<table border=\"1\" class=\"dataframe\">\n",
       "  <thead>\n",
       "    <tr style=\"text-align: right;\">\n",
       "      <th></th>\n",
       "      <th>name</th>\n",
       "      <th>mean_h</th>\n",
       "    </tr>\n",
       "  </thead>\n",
       "  <tbody>\n",
       "    <tr>\n",
       "      <th>0</th>\n",
       "      <td>ADO_DSC_SI03_0148</td>\n",
       "      <td>454.914398</td>\n",
       "    </tr>\n",
       "    <tr>\n",
       "      <th>1</th>\n",
       "      <td>ADO_DSC_SI03_0033</td>\n",
       "      <td>1298.302368</td>\n",
       "    </tr>\n",
       "    <tr>\n",
       "      <th>2</th>\n",
       "      <td>ADO_DSC_ITH1_0012</td>\n",
       "      <td>1796.362549</td>\n",
       "    </tr>\n",
       "    <tr>\n",
       "      <th>3</th>\n",
       "      <td>ADO_DSC_CH05_0201</td>\n",
       "      <td>914.721069</td>\n",
       "    </tr>\n",
       "    <tr>\n",
       "      <th>4</th>\n",
       "      <td>ADO_DSC_CH07_0100</td>\n",
       "      <td>1526.887695</td>\n",
       "    </tr>\n",
       "    <tr>\n",
       "      <th>5</th>\n",
       "      <td>ADO_DSC_AT31_0206</td>\n",
       "      <td>872.910583</td>\n",
       "    </tr>\n",
       "  </tbody>\n",
       "</table>\n",
       "</div>"
      ],
      "text/plain": [
       "                name       mean_h\n",
       "0  ADO_DSC_SI03_0148   454.914398\n",
       "1  ADO_DSC_SI03_0033  1298.302368\n",
       "2  ADO_DSC_ITH1_0012  1796.362549\n",
       "3  ADO_DSC_CH05_0201   914.721069\n",
       "4  ADO_DSC_CH07_0100  1526.887695\n",
       "5  ADO_DSC_AT31_0206   872.910583"
      ]
     },
     "execution_count": 4,
     "metadata": {},
     "output_type": "execute_result"
    }
   ],
   "source": [
    "table"
   ]
  },
  {
   "cell_type": "code",
   "execution_count": 5,
   "id": "4f6edb55",
   "metadata": {},
   "outputs": [],
   "source": [
    "table.to_csv('a3.csv')"
   ]
  },
  {
   "cell_type": "code",
   "execution_count": null,
   "id": "5430006c",
   "metadata": {},
   "outputs": [],
   "source": []
  }
 ],
 "metadata": {
  "kernelspec": {
   "display_name": "Python 3 (ipykernel)",
   "language": "python",
   "name": "python3"
  },
  "language_info": {
   "codemirror_mode": {
    "name": "ipython",
    "version": 3
   },
   "file_extension": ".py",
   "mimetype": "text/x-python",
   "name": "python",
   "nbconvert_exporter": "python",
   "pygments_lexer": "ipython3",
   "version": "3.9.6"
  }
 },
 "nbformat": 4,
 "nbformat_minor": 5
}
