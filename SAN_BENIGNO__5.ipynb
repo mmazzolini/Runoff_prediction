{
 "cells": [
  {
   "cell_type": "markdown",
   "id": "d2efdfdb",
   "metadata": {},
   "source": [
    "# ORCO RIVER BASIN\n",
    "\n",
    "13/10/2021\n",
    "\n",
    "In this notebook results of different feature selections are compared for the Candoglia basin (of which we have around 18 years of data)\n",
    "\n",
    "Input data is clipped from ERA5 metereological reanalysis quantile mapped and downscaled.\n",
    "\n",
    "10 days average (for the previous year) of pecipitation, temperature and potential evapotranspiration are selected as input.\n",
    "\n",
    "\n",
    "The settings are the following:\n",
    "\n",
    "    A) 180 features are selected with PCA, the same numeriosity as setting C) ;\n",
    "\n",
    "    B) 36 features are selectedwith PCA, the same numeriosity as setting D) ;\n",
    "        \n",
    "    C) metereological inputs spatial statistics are used as input: mean, the 5th, 25th, 75th and 95th quantiles are selected.\n",
    "        \n",
    "    D) metereological inputs are spatially averaged.\n",
    "\n",
    "\n"
   ]
  },
  {
   "cell_type": "markdown",
   "id": "19d31cfb",
   "metadata": {},
   "source": [
    "import sys\n",
    "sys.path.append('/time_unit')"
   ]
  },
  {
   "cell_type": "code",
   "execution_count": 1,
   "id": "efcc49ff",
   "metadata": {},
   "outputs": [],
   "source": [
    "from sf_runoff import daily_climatology, spatial_avg_daily_input, spatial_stats_daily_input, compute_anomalies, create_it_matrix\n",
    "from nested_CV import SVR_nested_CV_gridsearch, SVR_PCA_nested_CV_gridsearch\n",
    "from test import evaluate_prediction, plot_prediction, plot_anomalies\n",
    "from test import nested_CV_PCA_SVR_predict, nested_CV_SVR_predict\n",
    "from classic_CV_predict import classic_CV_PCA_SVR_predict, classic_CV_SVR_predict\n",
    "\n",
    "\n",
    "import pandas as pd\n",
    "import matplotlib.pyplot as plt\n",
    "import numpy as np\n",
    "import pandas as pd\n",
    "import numpy as np\n",
    "from scipy.stats import gaussian_kde\n",
    "\n",
    "from sklearn.svm import SVR\n",
    "from sklearn.preprocessing import StandardScaler\n",
    "from sklearn.pipeline import make_pipeline\n",
    "from sklearn.compose import TransformedTargetRegressor\n",
    "from sklearn.model_selection import GridSearchCV,TimeSeriesSplit\n",
    "from sklearn.metrics import mean_squared_error\n",
    "from sklearn.decomposition import PCA\n",
    "\n",
    "\n",
    "import matplotlib.pyplot as plt\n",
    "import os\n",
    "import pdb\n",
    "import seaborn as sns"
   ]
  },
  {
   "cell_type": "code",
   "execution_count": 2,
   "id": "cd514cbe",
   "metadata": {},
   "outputs": [],
   "source": [
    "path=r'C:\\Users\\mmazzolini\\OneDrive - Scientific Network South Tyrol\\Documents\\conda\\daily_input\\\\'\n",
    "\n",
    "daily_input = pd.read_csv(path+'SAN_BENIGNO_ORCO_2002_2019.csv', index_col=0, parse_dates=True)\n",
    "\n",
    "daily_input_TPE = spatial_avg_daily_input(daily_input)\n",
    "\n",
    "daily_input_stat = spatial_stats_daily_input(daily_input)"
   ]
  },
  {
   "cell_type": "code",
   "execution_count": 5,
   "id": "a6f9083a",
   "metadata": {},
   "outputs": [
    {
     "data": {
      "text/html": [
       "<div>\n",
       "<style scoped>\n",
       "    .dataframe tbody tr th:only-of-type {\n",
       "        vertical-align: middle;\n",
       "    }\n",
       "\n",
       "    .dataframe tbody tr th {\n",
       "        vertical-align: top;\n",
       "    }\n",
       "\n",
       "    .dataframe thead th {\n",
       "        text-align: right;\n",
       "    }\n",
       "</style>\n",
       "<table border=\"1\" class=\"dataframe\">\n",
       "  <thead>\n",
       "    <tr style=\"text-align: right;\">\n",
       "      <th></th>\n",
       "      <th>Q</th>\n",
       "      <th>T10</th>\n",
       "      <th>T11</th>\n",
       "      <th>T21</th>\n",
       "      <th>T22</th>\n",
       "      <th>T23</th>\n",
       "      <th>T28</th>\n",
       "      <th>T29</th>\n",
       "      <th>T30</th>\n",
       "      <th>T31</th>\n",
       "      <th>...</th>\n",
       "      <th>E68</th>\n",
       "      <th>E76</th>\n",
       "      <th>E77</th>\n",
       "      <th>E78</th>\n",
       "      <th>E79</th>\n",
       "      <th>E80</th>\n",
       "      <th>E89</th>\n",
       "      <th>E90</th>\n",
       "      <th>E91</th>\n",
       "      <th>T</th>\n",
       "    </tr>\n",
       "  </thead>\n",
       "  <tbody>\n",
       "    <tr>\n",
       "      <th>2001-01-01</th>\n",
       "      <td>NaN</td>\n",
       "      <td>272.636631</td>\n",
       "      <td>272.726163</td>\n",
       "      <td>273.034708</td>\n",
       "      <td>273.018517</td>\n",
       "      <td>272.815295</td>\n",
       "      <td>269.466917</td>\n",
       "      <td>269.092088</td>\n",
       "      <td>269.509232</td>\n",
       "      <td>271.592088</td>\n",
       "      <td>...</td>\n",
       "      <td>1.099277</td>\n",
       "      <td>0.832470</td>\n",
       "      <td>0.915544</td>\n",
       "      <td>0.821917</td>\n",
       "      <td>1.262092</td>\n",
       "      <td>1.287116</td>\n",
       "      <td>1.001550</td>\n",
       "      <td>1.063327</td>\n",
       "      <td>1.384084</td>\n",
       "      <td>268.155152</td>\n",
       "    </tr>\n",
       "    <tr>\n",
       "      <th>2001-01-02</th>\n",
       "      <td>NaN</td>\n",
       "      <td>273.703514</td>\n",
       "      <td>273.624776</td>\n",
       "      <td>274.200665</td>\n",
       "      <td>274.123734</td>\n",
       "      <td>273.834682</td>\n",
       "      <td>271.567929</td>\n",
       "      <td>270.960196</td>\n",
       "      <td>271.332635</td>\n",
       "      <td>273.220507</td>\n",
       "      <td>...</td>\n",
       "      <td>0.502051</td>\n",
       "      <td>0.330381</td>\n",
       "      <td>0.528166</td>\n",
       "      <td>0.520810</td>\n",
       "      <td>0.693244</td>\n",
       "      <td>0.631229</td>\n",
       "      <td>0.613465</td>\n",
       "      <td>0.663510</td>\n",
       "      <td>0.867598</td>\n",
       "      <td>270.177107</td>\n",
       "    </tr>\n",
       "    <tr>\n",
       "      <th>2001-01-03</th>\n",
       "      <td>NaN</td>\n",
       "      <td>273.662112</td>\n",
       "      <td>273.514825</td>\n",
       "      <td>273.928364</td>\n",
       "      <td>273.703004</td>\n",
       "      <td>273.445421</td>\n",
       "      <td>270.093453</td>\n",
       "      <td>269.834482</td>\n",
       "      <td>270.424504</td>\n",
       "      <td>272.485366</td>\n",
       "      <td>...</td>\n",
       "      <td>-0.185734</td>\n",
       "      <td>-0.191393</td>\n",
       "      <td>-0.107597</td>\n",
       "      <td>-0.241453</td>\n",
       "      <td>-0.218550</td>\n",
       "      <td>-0.171484</td>\n",
       "      <td>-0.124434</td>\n",
       "      <td>-0.150968</td>\n",
       "      <td>-0.137348</td>\n",
       "      <td>267.817979</td>\n",
       "    </tr>\n",
       "    <tr>\n",
       "      <th>2001-01-04</th>\n",
       "      <td>NaN</td>\n",
       "      <td>274.263070</td>\n",
       "      <td>274.174752</td>\n",
       "      <td>274.649502</td>\n",
       "      <td>274.633442</td>\n",
       "      <td>274.280124</td>\n",
       "      <td>271.745155</td>\n",
       "      <td>271.361658</td>\n",
       "      <td>272.009139</td>\n",
       "      <td>273.735508</td>\n",
       "      <td>...</td>\n",
       "      <td>0.023767</td>\n",
       "      <td>0.134277</td>\n",
       "      <td>0.271149</td>\n",
       "      <td>0.155526</td>\n",
       "      <td>0.159301</td>\n",
       "      <td>0.098424</td>\n",
       "      <td>0.301891</td>\n",
       "      <td>0.277729</td>\n",
       "      <td>0.339832</td>\n",
       "      <td>270.120416</td>\n",
       "    </tr>\n",
       "    <tr>\n",
       "      <th>2001-01-05</th>\n",
       "      <td>NaN</td>\n",
       "      <td>274.542130</td>\n",
       "      <td>274.411250</td>\n",
       "      <td>275.126302</td>\n",
       "      <td>274.946149</td>\n",
       "      <td>274.565653</td>\n",
       "      <td>272.435603</td>\n",
       "      <td>271.938562</td>\n",
       "      <td>272.538248</td>\n",
       "      <td>274.226722</td>\n",
       "      <td>...</td>\n",
       "      <td>0.437927</td>\n",
       "      <td>0.331204</td>\n",
       "      <td>0.522194</td>\n",
       "      <td>0.475785</td>\n",
       "      <td>0.630015</td>\n",
       "      <td>0.538916</td>\n",
       "      <td>0.566669</td>\n",
       "      <td>0.630663</td>\n",
       "      <td>0.818584</td>\n",
       "      <td>270.852392</td>\n",
       "    </tr>\n",
       "    <tr>\n",
       "      <th>...</th>\n",
       "      <td>...</td>\n",
       "      <td>...</td>\n",
       "      <td>...</td>\n",
       "      <td>...</td>\n",
       "      <td>...</td>\n",
       "      <td>...</td>\n",
       "      <td>...</td>\n",
       "      <td>...</td>\n",
       "      <td>...</td>\n",
       "      <td>...</td>\n",
       "      <td>...</td>\n",
       "      <td>...</td>\n",
       "      <td>...</td>\n",
       "      <td>...</td>\n",
       "      <td>...</td>\n",
       "      <td>...</td>\n",
       "      <td>...</td>\n",
       "      <td>...</td>\n",
       "      <td>...</td>\n",
       "      <td>...</td>\n",
       "      <td>...</td>\n",
       "    </tr>\n",
       "    <tr>\n",
       "      <th>2018-12-27</th>\n",
       "      <td>6.45</td>\n",
       "      <td>274.779155</td>\n",
       "      <td>274.728767</td>\n",
       "      <td>275.403446</td>\n",
       "      <td>275.302761</td>\n",
       "      <td>274.989875</td>\n",
       "      <td>273.878555</td>\n",
       "      <td>273.030360</td>\n",
       "      <td>273.273383</td>\n",
       "      <td>274.509414</td>\n",
       "      <td>...</td>\n",
       "      <td>0.369048</td>\n",
       "      <td>0.896172</td>\n",
       "      <td>0.920775</td>\n",
       "      <td>0.550625</td>\n",
       "      <td>0.766703</td>\n",
       "      <td>0.629438</td>\n",
       "      <td>0.980627</td>\n",
       "      <td>0.880541</td>\n",
       "      <td>1.048121</td>\n",
       "      <td>272.145776</td>\n",
       "    </tr>\n",
       "    <tr>\n",
       "      <th>2018-12-28</th>\n",
       "      <td>5.90</td>\n",
       "      <td>276.241003</td>\n",
       "      <td>276.277341</td>\n",
       "      <td>276.717540</td>\n",
       "      <td>276.697308</td>\n",
       "      <td>276.316895</td>\n",
       "      <td>275.111350</td>\n",
       "      <td>274.301690</td>\n",
       "      <td>274.592873</td>\n",
       "      <td>275.734779</td>\n",
       "      <td>...</td>\n",
       "      <td>0.049025</td>\n",
       "      <td>0.585482</td>\n",
       "      <td>0.644256</td>\n",
       "      <td>0.298274</td>\n",
       "      <td>0.279048</td>\n",
       "      <td>0.183700</td>\n",
       "      <td>0.680404</td>\n",
       "      <td>0.562820</td>\n",
       "      <td>0.610378</td>\n",
       "      <td>273.237923</td>\n",
       "    </tr>\n",
       "    <tr>\n",
       "      <th>2018-12-29</th>\n",
       "      <td>5.20</td>\n",
       "      <td>276.913277</td>\n",
       "      <td>276.855840</td>\n",
       "      <td>277.213167</td>\n",
       "      <td>277.127457</td>\n",
       "      <td>276.780174</td>\n",
       "      <td>275.441921</td>\n",
       "      <td>274.684419</td>\n",
       "      <td>275.011931</td>\n",
       "      <td>276.130990</td>\n",
       "      <td>...</td>\n",
       "      <td>-0.336622</td>\n",
       "      <td>-0.068893</td>\n",
       "      <td>-0.054837</td>\n",
       "      <td>-0.205009</td>\n",
       "      <td>-0.311072</td>\n",
       "      <td>-0.286201</td>\n",
       "      <td>-0.059699</td>\n",
       "      <td>-0.180909</td>\n",
       "      <td>-0.309121</td>\n",
       "      <td>272.962407</td>\n",
       "    </tr>\n",
       "    <tr>\n",
       "      <th>2018-12-30</th>\n",
       "      <td>4.55</td>\n",
       "      <td>278.392798</td>\n",
       "      <td>278.324183</td>\n",
       "      <td>278.591047</td>\n",
       "      <td>278.289345</td>\n",
       "      <td>278.234220</td>\n",
       "      <td>276.374897</td>\n",
       "      <td>275.663875</td>\n",
       "      <td>276.155345</td>\n",
       "      <td>277.356337</td>\n",
       "      <td>...</td>\n",
       "      <td>0.391843</td>\n",
       "      <td>0.812209</td>\n",
       "      <td>0.538389</td>\n",
       "      <td>-0.173796</td>\n",
       "      <td>0.526711</td>\n",
       "      <td>0.619517</td>\n",
       "      <td>0.826288</td>\n",
       "      <td>0.866297</td>\n",
       "      <td>1.056738</td>\n",
       "      <td>273.819281</td>\n",
       "    </tr>\n",
       "    <tr>\n",
       "      <th>2018-12-31</th>\n",
       "      <td>4.42</td>\n",
       "      <td>278.004216</td>\n",
       "      <td>277.955576</td>\n",
       "      <td>278.216211</td>\n",
       "      <td>277.985262</td>\n",
       "      <td>277.854812</td>\n",
       "      <td>275.215829</td>\n",
       "      <td>274.961273</td>\n",
       "      <td>275.677057</td>\n",
       "      <td>276.904809</td>\n",
       "      <td>...</td>\n",
       "      <td>0.519209</td>\n",
       "      <td>0.066185</td>\n",
       "      <td>0.016016</td>\n",
       "      <td>-0.347126</td>\n",
       "      <td>0.259998</td>\n",
       "      <td>0.526716</td>\n",
       "      <td>0.096716</td>\n",
       "      <td>0.270158</td>\n",
       "      <td>0.576645</td>\n",
       "      <td>272.931295</td>\n",
       "    </tr>\n",
       "  </tbody>\n",
       "</table>\n",
       "<p>6574 rows × 155 columns</p>\n",
       "</div>"
      ],
      "text/plain": [
       "               Q         T10         T11         T21         T22         T23  \\\n",
       "2001-01-01   NaN  272.636631  272.726163  273.034708  273.018517  272.815295   \n",
       "2001-01-02   NaN  273.703514  273.624776  274.200665  274.123734  273.834682   \n",
       "2001-01-03   NaN  273.662112  273.514825  273.928364  273.703004  273.445421   \n",
       "2001-01-04   NaN  274.263070  274.174752  274.649502  274.633442  274.280124   \n",
       "2001-01-05   NaN  274.542130  274.411250  275.126302  274.946149  274.565653   \n",
       "...          ...         ...         ...         ...         ...         ...   \n",
       "2018-12-27  6.45  274.779155  274.728767  275.403446  275.302761  274.989875   \n",
       "2018-12-28  5.90  276.241003  276.277341  276.717540  276.697308  276.316895   \n",
       "2018-12-29  5.20  276.913277  276.855840  277.213167  277.127457  276.780174   \n",
       "2018-12-30  4.55  278.392798  278.324183  278.591047  278.289345  278.234220   \n",
       "2018-12-31  4.42  278.004216  277.955576  278.216211  277.985262  277.854812   \n",
       "\n",
       "                   T28         T29         T30         T31  ...       E68  \\\n",
       "2001-01-01  269.466917  269.092088  269.509232  271.592088  ...  1.099277   \n",
       "2001-01-02  271.567929  270.960196  271.332635  273.220507  ...  0.502051   \n",
       "2001-01-03  270.093453  269.834482  270.424504  272.485366  ... -0.185734   \n",
       "2001-01-04  271.745155  271.361658  272.009139  273.735508  ...  0.023767   \n",
       "2001-01-05  272.435603  271.938562  272.538248  274.226722  ...  0.437927   \n",
       "...                ...         ...         ...         ...  ...       ...   \n",
       "2018-12-27  273.878555  273.030360  273.273383  274.509414  ...  0.369048   \n",
       "2018-12-28  275.111350  274.301690  274.592873  275.734779  ...  0.049025   \n",
       "2018-12-29  275.441921  274.684419  275.011931  276.130990  ... -0.336622   \n",
       "2018-12-30  276.374897  275.663875  276.155345  277.356337  ...  0.391843   \n",
       "2018-12-31  275.215829  274.961273  275.677057  276.904809  ...  0.519209   \n",
       "\n",
       "                 E76       E77       E78       E79       E80       E89  \\\n",
       "2001-01-01  0.832470  0.915544  0.821917  1.262092  1.287116  1.001550   \n",
       "2001-01-02  0.330381  0.528166  0.520810  0.693244  0.631229  0.613465   \n",
       "2001-01-03 -0.191393 -0.107597 -0.241453 -0.218550 -0.171484 -0.124434   \n",
       "2001-01-04  0.134277  0.271149  0.155526  0.159301  0.098424  0.301891   \n",
       "2001-01-05  0.331204  0.522194  0.475785  0.630015  0.538916  0.566669   \n",
       "...              ...       ...       ...       ...       ...       ...   \n",
       "2018-12-27  0.896172  0.920775  0.550625  0.766703  0.629438  0.980627   \n",
       "2018-12-28  0.585482  0.644256  0.298274  0.279048  0.183700  0.680404   \n",
       "2018-12-29 -0.068893 -0.054837 -0.205009 -0.311072 -0.286201 -0.059699   \n",
       "2018-12-30  0.812209  0.538389 -0.173796  0.526711  0.619517  0.826288   \n",
       "2018-12-31  0.066185  0.016016 -0.347126  0.259998  0.526716  0.096716   \n",
       "\n",
       "                 E90       E91           T  \n",
       "2001-01-01  1.063327  1.384084  268.155152  \n",
       "2001-01-02  0.663510  0.867598  270.177107  \n",
       "2001-01-03 -0.150968 -0.137348  267.817979  \n",
       "2001-01-04  0.277729  0.339832  270.120416  \n",
       "2001-01-05  0.630663  0.818584  270.852392  \n",
       "...              ...       ...         ...  \n",
       "2018-12-27  0.880541  1.048121  272.145776  \n",
       "2018-12-28  0.562820  0.610378  273.237923  \n",
       "2018-12-29 -0.180909 -0.309121  272.962407  \n",
       "2018-12-30  0.866297  1.056738  273.819281  \n",
       "2018-12-31  0.270158  0.576645  272.931295  \n",
       "\n",
       "[6574 rows x 155 columns]"
      ]
     },
     "execution_count": 5,
     "metadata": {},
     "output_type": "execute_result"
    }
   ],
   "source": [
    "daily_input"
   ]
  },
  {
   "cell_type": "code",
   "execution_count": 6,
   "id": "545e52d8",
   "metadata": {},
   "outputs": [
    {
     "data": {
      "text/plain": [
       "<module 'test' from 'C:\\\\Users\\\\mmazzolini\\\\OneDrive - Scientific Network South Tyrol\\\\Documents\\\\conda\\\\Runoff_prediction\\\\test.py'>"
      ]
     },
     "execution_count": 6,
     "metadata": {},
     "output_type": "execute_result"
    }
   ],
   "source": [
    "import sys, importlib\n",
    "importlib.reload(sys.modules['test'])\n"
   ]
  },
  {
   "cell_type": "code",
   "execution_count": 3,
   "id": "a024e5fe",
   "metadata": {},
   "outputs": [],
   "source": [
    "t_unit=5\n",
    "\n",
    "\n",
    "#define the possible parameters value (where Gridsearch is applied)\n",
    "\n",
    "C_range=np.logspace(-2, 2, 10)\n",
    "epsilon_range=np.logspace(-3, +0, 5)\n",
    "#n_range = [17, 50, 200]\n",
    "#do not enlarge t_range for now\n",
    "t_range=[72]\n",
    "t_length=t_range[0]\n",
    "n_splits=5\n",
    "test_size=365"
   ]
  },
  {
   "cell_type": "markdown",
   "id": "e7d5c48a",
   "metadata": {},
   "source": [
    "# A) PCA+SVR"
   ]
  },
  {
   "cell_type": "markdown",
   "id": "18861993",
   "metadata": {},
   "source": [
    "### TRAIN A PCA+SVR MODEL "
   ]
  },
  {
   "cell_type": "code",
   "execution_count": 5,
   "id": "aacb3a01",
   "metadata": {
    "scrolled": false
   },
   "outputs": [
    {
     "name": "stdout",
     "output_type": "stream",
     "text": [
      "Fitting 1 folds for each of 50 candidates, totalling 50 fits\n"
     ]
    },
    {
     "name": "stderr",
     "output_type": "stream",
     "text": [
      "C:\\Users\\mmazzolini\\.conda\\envs\\ado\\lib\\site-packages\\sklearn\\compose\\_target.py:152: UserWarning: The provided functions or transformer are not strictly inverse of each other. If you are sure you want to proceed regardless, set 'check_inverse=False'\n",
      "  warnings.warn(\"The provided functions or transformer are\"\n"
     ]
    },
    {
     "name": "stdout",
     "output_type": "stream",
     "text": [
      "Fitting 1 folds for each of 50 candidates, totalling 50 fits\n"
     ]
    },
    {
     "name": "stderr",
     "output_type": "stream",
     "text": [
      "C:\\Users\\mmazzolini\\.conda\\envs\\ado\\lib\\site-packages\\sklearn\\compose\\_target.py:152: UserWarning: The provided functions or transformer are not strictly inverse of each other. If you are sure you want to proceed regardless, set 'check_inverse=False'\n",
      "  warnings.warn(\"The provided functions or transformer are\"\n"
     ]
    },
    {
     "name": "stdout",
     "output_type": "stream",
     "text": [
      "Fitting 1 folds for each of 50 candidates, totalling 50 fits\n"
     ]
    },
    {
     "name": "stderr",
     "output_type": "stream",
     "text": [
      "C:\\Users\\mmazzolini\\.conda\\envs\\ado\\lib\\site-packages\\sklearn\\compose\\_target.py:152: UserWarning: The provided functions or transformer are not strictly inverse of each other. If you are sure you want to proceed regardless, set 'check_inverse=False'\n",
      "  warnings.warn(\"The provided functions or transformer are\"\n"
     ]
    },
    {
     "name": "stdout",
     "output_type": "stream",
     "text": [
      "Fitting 1 folds for each of 50 candidates, totalling 50 fits\n"
     ]
    },
    {
     "name": "stderr",
     "output_type": "stream",
     "text": [
      "C:\\Users\\mmazzolini\\.conda\\envs\\ado\\lib\\site-packages\\sklearn\\compose\\_target.py:152: UserWarning: The provided functions or transformer are not strictly inverse of each other. If you are sure you want to proceed regardless, set 'check_inverse=False'\n",
      "  warnings.warn(\"The provided functions or transformer are\"\n"
     ]
    },
    {
     "name": "stdout",
     "output_type": "stream",
     "text": [
      "Fitting 1 folds for each of 50 candidates, totalling 50 fits\n"
     ]
    },
    {
     "name": "stderr",
     "output_type": "stream",
     "text": [
      "C:\\Users\\mmazzolini\\.conda\\envs\\ado\\lib\\site-packages\\sklearn\\compose\\_target.py:152: UserWarning: The provided functions or transformer are not strictly inverse of each other. If you are sure you want to proceed regardless, set 'check_inverse=False'\n",
      "  warnings.warn(\"The provided functions or transformer are\"\n"
     ]
    },
    {
     "name": "stdout",
     "output_type": "stream",
     "text": [
      "Warning: best epsilon found on the grid limit: epsilon = 0.001\n",
      "\n",
      "C=0.5994842503189409\n",
      "eps=0.001\n",
      "n=1080\n"
     ]
    },
    {
     "data": {
      "image/png": "[encoded data removed]",
      "text/plain": [
       "<Figure size 1080x504 with 4 Axes>"
      ]
     },
     "metadata": {
      "needs_background": "light"
     },
     "output_type": "display_data"
    }
   ],
   "source": [
    "components_range = [5*3*72]\n",
    "\n",
    "C,eps,n=SVR_PCA_nested_CV_gridsearch(daily_input, C_range,  epsilon_range, components_range, t_range,t_unit,n_splits,test_size)\n",
    "print(f'C={C}')\n",
    "print(f'eps={eps}')\n",
    "print(f'n={n}')"
   ]
  },
  {
   "cell_type": "markdown",
   "id": "c4d61ea5",
   "metadata": {},
   "source": [
    "### PREDICT RUNOFF ON TEST SET AND QUANTIFY THE PERFORMANCE"
   ]
  },
  {
   "cell_type": "code",
   "execution_count": 7,
   "id": "db450a92",
   "metadata": {
    "scrolled": true
   },
   "outputs": [
    {
     "ename": "KeyError",
     "evalue": "'[199, 217, 229, 311] not in index'",
     "output_type": "error",
     "traceback": [
      "\u001b[1;31m---------------------------------------------------------------------------\u001b[0m",
      "\u001b[1;31mKeyError\u001b[0m                                  Traceback (most recent call last)",
      "\u001b[1;32mC:\\Users\\MMAZZO~1\\AppData\\Local\\Temp/ipykernel_7360/3516289875.py\u001b[0m in \u001b[0;36m<module>\u001b[1;34m\u001b[0m\n\u001b[0;32m      1\u001b[0m \u001b[0mradius_for_ensemble\u001b[0m \u001b[1;33m=\u001b[0m \u001b[1;36m1\u001b[0m\u001b[1;33m\u001b[0m\u001b[1;33m\u001b[0m\u001b[0m\n\u001b[1;32m----> 2\u001b[1;33m \u001b[0mpredictions\u001b[0m \u001b[1;33m=\u001b[0m \u001b[0mnested_CV_PCA_SVR_predict\u001b[0m\u001b[1;33m(\u001b[0m\u001b[0mdaily_input\u001b[0m\u001b[1;33m,\u001b[0m \u001b[0mC\u001b[0m\u001b[1;33m,\u001b[0m \u001b[0meps\u001b[0m\u001b[1;33m,\u001b[0m \u001b[0mn\u001b[0m\u001b[1;33m,\u001b[0m \u001b[0mt_length\u001b[0m\u001b[1;33m,\u001b[0m\u001b[0mt_unit\u001b[0m\u001b[1;33m,\u001b[0m \u001b[0mn_splits\u001b[0m\u001b[1;33m,\u001b[0m \u001b[0mtest_size\u001b[0m\u001b[1;33m,\u001b[0m \u001b[0mradius_for_ensemble\u001b[0m\u001b[1;33m)\u001b[0m\u001b[1;33m\u001b[0m\u001b[1;33m\u001b[0m\u001b[0m\n\u001b[0m",
      "\u001b[1;32m~\\OneDrive - Scientific Network South Tyrol\\Documents\\conda\\Runoff_prediction\\test.py\u001b[0m in \u001b[0;36mnested_CV_PCA_SVR_predict\u001b[1;34m(daily_input, C, eps, n, t_length, t_unit, n_splits, test_size, radius_for_ensemble)\u001b[0m\n\u001b[0;32m    164\u001b[0m             \u001b[0mchange_dest\u001b[0m \u001b[1;33m=\u001b[0m \u001b[1;33m[\u001b[0m\u001b[0mc\u001b[0m \u001b[1;32mfor\u001b[0m \u001b[0mc\u001b[0m \u001b[1;32min\u001b[0m \u001b[0mX_climTP\u001b[0m\u001b[1;33m.\u001b[0m\u001b[0mcolumns\u001b[0m \u001b[1;32mif\u001b[0m \u001b[0mc\u001b[0m\u001b[1;33m.\u001b[0m\u001b[0msplit\u001b[0m\u001b[1;33m(\u001b[0m\u001b[1;34m'_'\u001b[0m\u001b[1;33m)\u001b[0m\u001b[1;33m[\u001b[0m\u001b[1;36m1\u001b[0m\u001b[1;33m]\u001b[0m \u001b[1;33m==\u001b[0m \u001b[0mstr\u001b[0m\u001b[1;33m(\u001b[0m\u001b[1;33m-\u001b[0m\u001b[0mlt\u001b[0m \u001b[1;33m+\u001b[0m \u001b[1;36m1\u001b[0m\u001b[1;33m)\u001b[0m\u001b[1;33m]\u001b[0m\u001b[1;33m\u001b[0m\u001b[1;33m\u001b[0m\u001b[0m\n\u001b[0;32m    165\u001b[0m             \u001b[0mchange_source\u001b[0m \u001b[1;33m=\u001b[0m \u001b[1;33m[\u001b[0m\u001b[0mc\u001b[0m\u001b[1;33m.\u001b[0m\u001b[0msplit\u001b[0m\u001b[1;33m(\u001b[0m\u001b[1;34m'_'\u001b[0m\u001b[1;33m)\u001b[0m\u001b[1;33m[\u001b[0m\u001b[1;36m0\u001b[0m\u001b[1;33m]\u001b[0m \u001b[1;32mfor\u001b[0m \u001b[0mc\u001b[0m \u001b[1;32min\u001b[0m \u001b[0mchange_dest\u001b[0m\u001b[1;33m]\u001b[0m\u001b[1;33m\u001b[0m\u001b[1;33m\u001b[0m\u001b[0m\n\u001b[1;32m--> 166\u001b[1;33m             \u001b[0mX_climTP\u001b[0m\u001b[1;33m.\u001b[0m\u001b[0mloc\u001b[0m\u001b[1;33m[\u001b[0m\u001b[1;33m:\u001b[0m\u001b[1;33m,\u001b[0m \u001b[0mchange_dest\u001b[0m\u001b[1;33m]\u001b[0m\u001b[1;33m=\u001b[0m\u001b[0mdaily_clim\u001b[0m\u001b[1;33m.\u001b[0m\u001b[0mloc\u001b[0m\u001b[1;33m[\u001b[0m\u001b[1;33m(\u001b[0m\u001b[0mtest_dates\u001b[0m\u001b[1;33m-\u001b[0m\u001b[0mnp\u001b[0m\u001b[1;33m.\u001b[0m\u001b[0mtimedelta64\u001b[0m\u001b[1;33m(\u001b[0m\u001b[0mt_unit\u001b[0m\u001b[1;33m*\u001b[0m\u001b[1;33m(\u001b[0m\u001b[0mlt\u001b[0m\u001b[1;33m-\u001b[0m\u001b[1;36m1\u001b[0m\u001b[1;33m)\u001b[0m\u001b[1;33m,\u001b[0m\u001b[1;34m'D'\u001b[0m\u001b[1;33m)\u001b[0m\u001b[1;33m)\u001b[0m\u001b[1;33m.\u001b[0m\u001b[0mday_of_year\u001b[0m\u001b[1;33m]\u001b[0m\u001b[1;33m[\u001b[0m\u001b[0mchange_source\u001b[0m\u001b[1;33m]\u001b[0m\u001b[1;33m.\u001b[0m\u001b[0mvalues\u001b[0m\u001b[1;33m\u001b[0m\u001b[1;33m\u001b[0m\u001b[0m\n\u001b[0m\u001b[0;32m    167\u001b[0m \u001b[1;33m\u001b[0m\u001b[0m\n\u001b[0;32m    168\u001b[0m             \u001b[1;31m#predict\u001b[0m\u001b[1;33m\u001b[0m\u001b[1;33m\u001b[0m\u001b[1;33m\u001b[0m\u001b[0m\n",
      "\u001b[1;32m~\\.conda\\envs\\ado\\lib\\site-packages\\pandas\\core\\indexing.py\u001b[0m in \u001b[0;36m__getitem__\u001b[1;34m(self, key)\u001b[0m\n\u001b[0;32m    929\u001b[0m \u001b[1;33m\u001b[0m\u001b[0m\n\u001b[0;32m    930\u001b[0m             \u001b[0mmaybe_callable\u001b[0m \u001b[1;33m=\u001b[0m \u001b[0mcom\u001b[0m\u001b[1;33m.\u001b[0m\u001b[0mapply_if_callable\u001b[0m\u001b[1;33m(\u001b[0m\u001b[0mkey\u001b[0m\u001b[1;33m,\u001b[0m \u001b[0mself\u001b[0m\u001b[1;33m.\u001b[0m\u001b[0mobj\u001b[0m\u001b[1;33m)\u001b[0m\u001b[1;33m\u001b[0m\u001b[1;33m\u001b[0m\u001b[0m\n\u001b[1;32m--> 931\u001b[1;33m             \u001b[1;32mreturn\u001b[0m \u001b[0mself\u001b[0m\u001b[1;33m.\u001b[0m\u001b[0m_getitem_axis\u001b[0m\u001b[1;33m(\u001b[0m\u001b[0mmaybe_callable\u001b[0m\u001b[1;33m,\u001b[0m \u001b[0maxis\u001b[0m\u001b[1;33m=\u001b[0m\u001b[0maxis\u001b[0m\u001b[1;33m)\u001b[0m\u001b[1;33m\u001b[0m\u001b[1;33m\u001b[0m\u001b[0m\n\u001b[0m\u001b[0;32m    932\u001b[0m \u001b[1;33m\u001b[0m\u001b[0m\n\u001b[0;32m    933\u001b[0m     \u001b[1;32mdef\u001b[0m \u001b[0m_is_scalar_access\u001b[0m\u001b[1;33m(\u001b[0m\u001b[0mself\u001b[0m\u001b[1;33m,\u001b[0m \u001b[0mkey\u001b[0m\u001b[1;33m:\u001b[0m \u001b[0mtuple\u001b[0m\u001b[1;33m)\u001b[0m\u001b[1;33m:\u001b[0m\u001b[1;33m\u001b[0m\u001b[1;33m\u001b[0m\u001b[0m\n",
      "\u001b[1;32m~\\.conda\\envs\\ado\\lib\\site-packages\\pandas\\core\\indexing.py\u001b[0m in \u001b[0;36m_getitem_axis\u001b[1;34m(self, key, axis)\u001b[0m\n\u001b[0;32m   1151\u001b[0m                     \u001b[1;32mraise\u001b[0m \u001b[0mValueError\u001b[0m\u001b[1;33m(\u001b[0m\u001b[1;34m\"Cannot index with multidimensional key\"\u001b[0m\u001b[1;33m)\u001b[0m\u001b[1;33m\u001b[0m\u001b[1;33m\u001b[0m\u001b[0m\n\u001b[0;32m   1152\u001b[0m \u001b[1;33m\u001b[0m\u001b[0m\n\u001b[1;32m-> 1153\u001b[1;33m                 \u001b[1;32mreturn\u001b[0m \u001b[0mself\u001b[0m\u001b[1;33m.\u001b[0m\u001b[0m_getitem_iterable\u001b[0m\u001b[1;33m(\u001b[0m\u001b[0mkey\u001b[0m\u001b[1;33m,\u001b[0m \u001b[0maxis\u001b[0m\u001b[1;33m=\u001b[0m\u001b[0maxis\u001b[0m\u001b[1;33m)\u001b[0m\u001b[1;33m\u001b[0m\u001b[1;33m\u001b[0m\u001b[0m\n\u001b[0m\u001b[0;32m   1154\u001b[0m \u001b[1;33m\u001b[0m\u001b[0m\n\u001b[0;32m   1155\u001b[0m             \u001b[1;31m# nested tuple slicing\u001b[0m\u001b[1;33m\u001b[0m\u001b[1;33m\u001b[0m\u001b[1;33m\u001b[0m\u001b[0m\n",
      "\u001b[1;32m~\\.conda\\envs\\ado\\lib\\site-packages\\pandas\\core\\indexing.py\u001b[0m in \u001b[0;36m_getitem_iterable\u001b[1;34m(self, key, axis)\u001b[0m\n\u001b[0;32m   1091\u001b[0m \u001b[1;33m\u001b[0m\u001b[0m\n\u001b[0;32m   1092\u001b[0m         \u001b[1;31m# A collection of keys\u001b[0m\u001b[1;33m\u001b[0m\u001b[1;33m\u001b[0m\u001b[1;33m\u001b[0m\u001b[0m\n\u001b[1;32m-> 1093\u001b[1;33m         \u001b[0mkeyarr\u001b[0m\u001b[1;33m,\u001b[0m \u001b[0mindexer\u001b[0m \u001b[1;33m=\u001b[0m \u001b[0mself\u001b[0m\u001b[1;33m.\u001b[0m\u001b[0m_get_listlike_indexer\u001b[0m\u001b[1;33m(\u001b[0m\u001b[0mkey\u001b[0m\u001b[1;33m,\u001b[0m \u001b[0maxis\u001b[0m\u001b[1;33m)\u001b[0m\u001b[1;33m\u001b[0m\u001b[1;33m\u001b[0m\u001b[0m\n\u001b[0m\u001b[0;32m   1094\u001b[0m         return self.obj._reindex_with_indexers(\n\u001b[0;32m   1095\u001b[0m             \u001b[1;33m{\u001b[0m\u001b[0maxis\u001b[0m\u001b[1;33m:\u001b[0m \u001b[1;33m[\u001b[0m\u001b[0mkeyarr\u001b[0m\u001b[1;33m,\u001b[0m \u001b[0mindexer\u001b[0m\u001b[1;33m]\u001b[0m\u001b[1;33m}\u001b[0m\u001b[1;33m,\u001b[0m \u001b[0mcopy\u001b[0m\u001b[1;33m=\u001b[0m\u001b[1;32mTrue\u001b[0m\u001b[1;33m,\u001b[0m \u001b[0mallow_dups\u001b[0m\u001b[1;33m=\u001b[0m\u001b[1;32mTrue\u001b[0m\u001b[1;33m\u001b[0m\u001b[1;33m\u001b[0m\u001b[0m\n",
      "\u001b[1;32m~\\.conda\\envs\\ado\\lib\\site-packages\\pandas\\core\\indexing.py\u001b[0m in \u001b[0;36m_get_listlike_indexer\u001b[1;34m(self, key, axis)\u001b[0m\n\u001b[0;32m   1312\u001b[0m             \u001b[0mkeyarr\u001b[0m\u001b[1;33m,\u001b[0m \u001b[0mindexer\u001b[0m\u001b[1;33m,\u001b[0m \u001b[0mnew_indexer\u001b[0m \u001b[1;33m=\u001b[0m \u001b[0max\u001b[0m\u001b[1;33m.\u001b[0m\u001b[0m_reindex_non_unique\u001b[0m\u001b[1;33m(\u001b[0m\u001b[0mkeyarr\u001b[0m\u001b[1;33m)\u001b[0m\u001b[1;33m\u001b[0m\u001b[1;33m\u001b[0m\u001b[0m\n\u001b[0;32m   1313\u001b[0m \u001b[1;33m\u001b[0m\u001b[0m\n\u001b[1;32m-> 1314\u001b[1;33m         \u001b[0mself\u001b[0m\u001b[1;33m.\u001b[0m\u001b[0m_validate_read_indexer\u001b[0m\u001b[1;33m(\u001b[0m\u001b[0mkeyarr\u001b[0m\u001b[1;33m,\u001b[0m \u001b[0mindexer\u001b[0m\u001b[1;33m,\u001b[0m \u001b[0maxis\u001b[0m\u001b[1;33m)\u001b[0m\u001b[1;33m\u001b[0m\u001b[1;33m\u001b[0m\u001b[0m\n\u001b[0m\u001b[0;32m   1315\u001b[0m \u001b[1;33m\u001b[0m\u001b[0m\n\u001b[0;32m   1316\u001b[0m         if needs_i8_conversion(ax.dtype) or isinstance(\n",
      "\u001b[1;32m~\\.conda\\envs\\ado\\lib\\site-packages\\pandas\\core\\indexing.py\u001b[0m in \u001b[0;36m_validate_read_indexer\u001b[1;34m(self, key, indexer, axis)\u001b[0m\n\u001b[0;32m   1375\u001b[0m \u001b[1;33m\u001b[0m\u001b[0m\n\u001b[0;32m   1376\u001b[0m             \u001b[0mnot_found\u001b[0m \u001b[1;33m=\u001b[0m \u001b[0mlist\u001b[0m\u001b[1;33m(\u001b[0m\u001b[0mensure_index\u001b[0m\u001b[1;33m(\u001b[0m\u001b[0mkey\u001b[0m\u001b[1;33m)\u001b[0m\u001b[1;33m[\u001b[0m\u001b[0mmissing_mask\u001b[0m\u001b[1;33m.\u001b[0m\u001b[0mnonzero\u001b[0m\u001b[1;33m(\u001b[0m\u001b[1;33m)\u001b[0m\u001b[1;33m[\u001b[0m\u001b[1;36m0\u001b[0m\u001b[1;33m]\u001b[0m\u001b[1;33m]\u001b[0m\u001b[1;33m.\u001b[0m\u001b[0munique\u001b[0m\u001b[1;33m(\u001b[0m\u001b[1;33m)\u001b[0m\u001b[1;33m)\u001b[0m\u001b[1;33m\u001b[0m\u001b[1;33m\u001b[0m\u001b[0m\n\u001b[1;32m-> 1377\u001b[1;33m             \u001b[1;32mraise\u001b[0m \u001b[0mKeyError\u001b[0m\u001b[1;33m(\u001b[0m\u001b[1;34mf\"{not_found} not in index\"\u001b[0m\u001b[1;33m)\u001b[0m\u001b[1;33m\u001b[0m\u001b[1;33m\u001b[0m\u001b[0m\n\u001b[0m\u001b[0;32m   1378\u001b[0m \u001b[1;33m\u001b[0m\u001b[0m\n\u001b[0;32m   1379\u001b[0m \u001b[1;33m\u001b[0m\u001b[0m\n",
      "\u001b[1;31mKeyError\u001b[0m: '[199, 217, 229, 311] not in index'"
     ]
    }
   ],
   "source": [
    "radius_for_ensemble = 1\n",
    "predictions = nested_CV_PCA_SVR_predict(daily_input, C, eps, n, t_length,t_unit, n_splits, test_size, radius_for_ensemble)"
   ]
  },
  {
   "cell_type": "markdown",
   "id": "d7871f25",
   "metadata": {},
   "source": [
    "predictions=pd.read_csv('tial.csv',date_parser=True)"
   ]
  },
  {
   "cell_type": "code",
   "execution_count": null,
   "id": "1ebc45d0",
   "metadata": {
    "scrolled": true
   },
   "outputs": [],
   "source": [
    "plot_prediction(predictions)"
   ]
  },
  {
   "cell_type": "code",
   "execution_count": null,
   "id": "5302ec81",
   "metadata": {
    "scrolled": true
   },
   "outputs": [],
   "source": [
    "r2_PCA180 = evaluate_prediction(predictions)\n",
    "#r2_PCA = evaluate_prediction(predictions.iloc[:,1:])"
   ]
  },
  {
   "cell_type": "markdown",
   "id": "fad3f100",
   "metadata": {},
   "source": [
    "### ANALYSE RESULTS AS ANOMALIES"
   ]
  },
  {
   "cell_type": "markdown",
   "id": "f8c1bbc4",
   "metadata": {},
   "source": [
    "### 1) PREDICT THE WHOLE SERIES WITH CLASSIC CV"
   ]
  },
  {
   "cell_type": "code",
   "execution_count": null,
   "id": "9740603c",
   "metadata": {},
   "outputs": [],
   "source": [
    "predictions_for_clim = classic_CV_PCA_SVR_predict(daily_input, C, eps, n, t_length,t_unit, n_splits)"
   ]
  },
  {
   "cell_type": "code",
   "execution_count": null,
   "id": "efb89688",
   "metadata": {},
   "outputs": [],
   "source": [
    "climatologies =predictions_for_clim.groupby(by=predictions_for_clim.index.day_of_year).mean().loc[:,['prediction','true_runoff']]\n",
    "climatologies['doty']=climatologies.index\n"
   ]
  },
  {
   "cell_type": "code",
   "execution_count": null,
   "id": "acf4e400",
   "metadata": {
    "scrolled": true
   },
   "outputs": [],
   "source": [
    "sns.set_theme(style=\"whitegrid\")\n",
    "ax,fig=plt.subplots(figsize=(20,10))\n",
    "sns.lineplot(data=climatologies,x='doty',y='prediction',label='prediction climatology')\n",
    "sns.lineplot(data=climatologies,x='doty',y='true_runoff',label='real climatology')\n",
    "plt.legend()"
   ]
  },
  {
   "cell_type": "markdown",
   "id": "288e06d0",
   "metadata": {},
   "source": [
    "### 2) COMPUTE THE ANOMALIES AND PLOT THEM"
   ]
  },
  {
   "cell_type": "code",
   "execution_count": null,
   "id": "59b6fec9",
   "metadata": {
    "scrolled": false
   },
   "outputs": [],
   "source": [
    "a=compute_anomalies(climatologies, predictions)\n",
    "a['split']=predictions.split\n",
    "plot_anomalies(a)"
   ]
  },
  {
   "cell_type": "markdown",
   "id": "aa869ed8",
   "metadata": {},
   "source": [
    "## B) PCA+SVR "
   ]
  },
  {
   "cell_type": "markdown",
   "id": "1d127443",
   "metadata": {},
   "source": [
    "### TRAIN A PCA+SVR MODEL "
   ]
  },
  {
   "cell_type": "code",
   "execution_count": null,
   "id": "551facfd",
   "metadata": {
    "scrolled": true
   },
   "outputs": [],
   "source": [
    "components_range2=[72*3]\n",
    "C2,eps2,n2=SVR_PCA_nested_CV_gridsearch(daily_input, C_range,  epsilon_range, components_range2, t_range,t_unit,n_splits,test_size)\n",
    "print(f'C={C2}')\n",
    "print(f'epsilon={eps2}')\n",
    "print(f'n={n2}')"
   ]
  },
  {
   "cell_type": "markdown",
   "id": "9603ed4e",
   "metadata": {},
   "source": [
    "### PREDICT RUNOFF ON TEST SET AND QUANTIFY THE PERFORMANCE"
   ]
  },
  {
   "cell_type": "code",
   "execution_count": null,
   "id": "6b4b27fd",
   "metadata": {
    "scrolled": true
   },
   "outputs": [],
   "source": [
    "radius_for_ensemble = 1\n",
    "predictions2 = nested_CV_PCA_SVR_predict(daily_input, C2, eps2, n2, t_length,t_unit, n_splits, test_size, radius_for_ensemble)"
   ]
  },
  {
   "cell_type": "markdown",
   "id": "8db54673",
   "metadata": {},
   "source": [
    "predictions=pd.read_csv('tial.csv',date_parser=True)"
   ]
  },
  {
   "cell_type": "code",
   "execution_count": null,
   "id": "b0deb0bf",
   "metadata": {
    "scrolled": true
   },
   "outputs": [],
   "source": [
    "plot_prediction(predictions2)"
   ]
  },
  {
   "cell_type": "code",
   "execution_count": null,
   "id": "20db70b7",
   "metadata": {
    "scrolled": true
   },
   "outputs": [],
   "source": [
    "r2_PCA36 = evaluate_prediction(predictions2)\n",
    "#r2_PCA = evaluate_prediction(predictions.iloc[:,1:])"
   ]
  },
  {
   "cell_type": "markdown",
   "id": "fe1c754b",
   "metadata": {},
   "source": [
    "### ANALYSE RESULTS AS ANOMALIES"
   ]
  },
  {
   "cell_type": "markdown",
   "id": "495f4dd6",
   "metadata": {},
   "source": [
    "### 1) PREDICT THE WHOLE SERIES WITH CLASSIC CV"
   ]
  },
  {
   "cell_type": "markdown",
   "id": "ed58e307",
   "metadata": {},
   "source": [
    "predictions_for_clim2 = classic_CV_PCA_SVR_predict(daily_input, C2, eps2, n2, 12, n_splits)\n",
    "climatologies2 =predictions_for_clim2.groupby(by=predictions_for_clim2.index.day_of_year).mean().loc[:,['prediction','true_runoff']]\n",
    "climatologies2['doty']=climatologies2.index\n"
   ]
  },
  {
   "cell_type": "code",
   "execution_count": null,
   "id": "fec90bb9",
   "metadata": {},
   "outputs": [],
   "source": [
    "climatologies2=climatologies"
   ]
  },
  {
   "cell_type": "code",
   "execution_count": null,
   "id": "73b51ec5",
   "metadata": {
    "scrolled": true
   },
   "outputs": [],
   "source": [
    "sns.set_theme(style=\"whitegrid\")\n",
    "ax,fig=plt.subplots(figsize=(20,10))\n",
    "sns.lineplot(data=climatologies2,x='doty',y='prediction',label='prediction climatology')\n",
    "sns.lineplot(data=climatologies2,x='doty',y='true_runoff',label='real climatology')\n",
    "plt.legend()"
   ]
  },
  {
   "cell_type": "markdown",
   "id": "0fbd86a4",
   "metadata": {},
   "source": [
    "### 2) COMPUTE THE ANOMALIES AND PLOT THEM"
   ]
  },
  {
   "cell_type": "code",
   "execution_count": null,
   "id": "7da5ed6b",
   "metadata": {
    "scrolled": true
   },
   "outputs": [],
   "source": [
    "a2=compute_anomalies(climatologies2, predictions2)\n",
    "a2['split']=predictions2.split\n",
    "plot_anomalies(a2)"
   ]
  },
  {
   "cell_type": "markdown",
   "id": "b95dfd1e",
   "metadata": {},
   "source": [
    "# C) SVR \n",
    "## WITH SPATIAL STATISTICS AS INPUT"
   ]
  },
  {
   "cell_type": "code",
   "execution_count": null,
   "id": "6bf784d0",
   "metadata": {
    "scrolled": true
   },
   "outputs": [],
   "source": [
    "C3, eps3 = SVR_nested_CV_gridsearch(daily_input_stat, C_range,epsilon_range, t_range,t_unit,n_splits,test_size)\n",
    "print(f'C3={C3}')\n",
    "print(f'eps3={eps3}') "
   ]
  },
  {
   "cell_type": "markdown",
   "id": "af9e9cae",
   "metadata": {},
   "source": [
    "C3=0.5994842503189409\n",
    "eps3=0.001"
   ]
  },
  {
   "cell_type": "markdown",
   "id": "f880d618",
   "metadata": {},
   "source": [
    "C3=0.5994842503189409\n",
    "eps3=0.001"
   ]
  },
  {
   "cell_type": "markdown",
   "id": "c2ff44a9",
   "metadata": {},
   "source": [
    "### PREDICT RUNOFF ON TEST SET AND QUANTIFY THE PERFORMANCE"
   ]
  },
  {
   "cell_type": "code",
   "execution_count": null,
   "id": "7868a11c",
   "metadata": {
    "scrolled": true
   },
   "outputs": [],
   "source": [
    "radius_for_ensemble = 1\n",
    "predictions3 = nested_CV_SVR_predict(daily_input_stat, C3, eps3, t_length,t_unit, n_splits, test_size, radius_for_ensemble)"
   ]
  },
  {
   "cell_type": "code",
   "execution_count": null,
   "id": "12333e95",
   "metadata": {
    "scrolled": true
   },
   "outputs": [],
   "source": [
    "#predictions=pd.read_csv('tial.csv',date_parser=True)\n",
    "plot_prediction(predictions3)"
   ]
  },
  {
   "cell_type": "code",
   "execution_count": null,
   "id": "136457d5",
   "metadata": {
    "scrolled": false
   },
   "outputs": [],
   "source": [
    "r2_STATS= evaluate_prediction(predictions3)"
   ]
  },
  {
   "cell_type": "markdown",
   "id": "228f771a",
   "metadata": {},
   "source": [
    "### ANALYSE RESULTS AS ANOMALIES"
   ]
  },
  {
   "cell_type": "markdown",
   "id": "ae5e6ce8",
   "metadata": {},
   "source": [
    "### 1) PREDICT THE WHOLE SERIES WITH CLASSIC CV"
   ]
  },
  {
   "cell_type": "code",
   "execution_count": null,
   "id": "76be74df",
   "metadata": {},
   "outputs": [],
   "source": [
    "predictions_for_clim3 = classic_CV_SVR_predict(daily_input_stat, C3, eps3, t_length,t_unit, n_splits)"
   ]
  },
  {
   "cell_type": "code",
   "execution_count": null,
   "id": "2e030086",
   "metadata": {},
   "outputs": [],
   "source": [
    "climatologies3 =predictions_for_clim3.groupby(by=predictions_for_clim3.index.day_of_year).mean().loc[:,['prediction','true_runoff']]\n",
    "climatologies3['doty']=climatologies3.index\n"
   ]
  },
  {
   "cell_type": "markdown",
   "id": "d5a2766c",
   "metadata": {},
   "source": [
    "climatologies3=climatologies"
   ]
  },
  {
   "cell_type": "code",
   "execution_count": null,
   "id": "419702a5",
   "metadata": {
    "scrolled": true
   },
   "outputs": [],
   "source": [
    "sns.set_theme(style=\"whitegrid\")\n",
    "ax,fig=plt.subplots(figsize=(20,10))\n",
    "sns.lineplot(data=climatologies3,x='doty',y='prediction',label='prediction climatology')\n",
    "sns.lineplot(data=climatologies3,x='doty',y='true_runoff',label='real climatology')\n",
    "plt.legend()"
   ]
  },
  {
   "cell_type": "markdown",
   "id": "f6fe45d0",
   "metadata": {},
   "source": [
    "### 2) COMPUTE THE ANOMALIES AND PLOT THEM"
   ]
  },
  {
   "cell_type": "code",
   "execution_count": null,
   "id": "c3c36932",
   "metadata": {
    "scrolled": true
   },
   "outputs": [],
   "source": [
    "a3=compute_anomalies(climatologies3, predictions3)\n",
    "a3['split']=predictions3.split\n",
    "\n",
    "plot_anomalies(a3)"
   ]
  },
  {
   "cell_type": "markdown",
   "id": "642f12f6",
   "metadata": {},
   "source": [
    "# D) SVR \n",
    "## WITH SPATIAL AVERAGE AS INPUT"
   ]
  },
  {
   "cell_type": "code",
   "execution_count": null,
   "id": "a5b3e797",
   "metadata": {
    "scrolled": true
   },
   "outputs": [],
   "source": [
    "C4, eps4 = SVR_nested_CV_gridsearch(daily_input_TPE, C_range,epsilon_range, t_range,t_unit,n_splits,test_size)\n",
    "print(f'C4={C4}')\n",
    "print(f'eps4={eps4}')"
   ]
  },
  {
   "cell_type": "markdown",
   "id": "a1fe9df7",
   "metadata": {},
   "source": [
    "C4=0.21544346900318834\n",
    "eps4=0.01"
   ]
  },
  {
   "cell_type": "markdown",
   "id": "b984283a",
   "metadata": {},
   "source": [
    "### PREDICT RUNOFF ON TEST SET AND QUANTIFY THE PERFORMANCE"
   ]
  },
  {
   "cell_type": "code",
   "execution_count": null,
   "id": "a94c90cd",
   "metadata": {
    "scrolled": true
   },
   "outputs": [],
   "source": [
    "radius_for_ensemble = 1\n",
    "predictions4 = nested_CV_SVR_predict(daily_input_stat, C4, eps4, t_length,t_unit, n_splits, test_size, radius_for_ensemble)"
   ]
  },
  {
   "cell_type": "code",
   "execution_count": null,
   "id": "9430259b",
   "metadata": {
    "scrolled": true
   },
   "outputs": [],
   "source": [
    "#predictions=pd.read_csv('tial.csv',date_parser=True)\n",
    "plot_prediction(predictions4)"
   ]
  },
  {
   "cell_type": "code",
   "execution_count": null,
   "id": "730c1573",
   "metadata": {
    "scrolled": false
   },
   "outputs": [],
   "source": [
    "r2_TPE = evaluate_prediction(predictions4)"
   ]
  },
  {
   "cell_type": "markdown",
   "id": "cba91f4b",
   "metadata": {},
   "source": [
    "### ANALYSE RESULTS AS ANOMALIES"
   ]
  },
  {
   "cell_type": "markdown",
   "id": "82918fe4",
   "metadata": {},
   "source": [
    "### 1) PREDICT THE WHOLE SERIES WITH CLASSIC CV"
   ]
  },
  {
   "cell_type": "code",
   "execution_count": null,
   "id": "0ac95a06",
   "metadata": {},
   "outputs": [],
   "source": [
    "predictions_for_clim4 = classic_CV_SVR_predict(daily_input_stat, C4, eps4, t_length,t_unit, n_splits)"
   ]
  },
  {
   "cell_type": "code",
   "execution_count": null,
   "id": "f5be5957",
   "metadata": {},
   "outputs": [],
   "source": [
    "climatologies4 =predictions_for_clim4.groupby(by=predictions_for_clim4.index.day_of_year).mean().loc[:,['prediction','true_runoff']]\n",
    "climatologies4['doty']=climatologies4.index\n"
   ]
  },
  {
   "cell_type": "markdown",
   "id": "185e42b0",
   "metadata": {},
   "source": [
    "climatologies4=climatologies"
   ]
  },
  {
   "cell_type": "code",
   "execution_count": null,
   "id": "12ea330c",
   "metadata": {
    "scrolled": true
   },
   "outputs": [],
   "source": [
    "sns.set_theme(style=\"whitegrid\")\n",
    "ax,fig=plt.subplots(figsize=(20,10))\n",
    "sns.lineplot(data=climatologies4,x='doty',y='prediction',label='prediction climatology')\n",
    "sns.lineplot(data=climatologies4,x='doty',y='true_runoff',label='real climatology')\n",
    "plt.legend()"
   ]
  },
  {
   "cell_type": "markdown",
   "id": "32a8fbaa",
   "metadata": {},
   "source": [
    "### 2) COMPUTE THE ANOMALIES AND PLOT THEM"
   ]
  },
  {
   "cell_type": "code",
   "execution_count": null,
   "id": "9155f273",
   "metadata": {
    "scrolled": true
   },
   "outputs": [],
   "source": [
    "a4=compute_anomalies(climatologies4, predictions4)\n",
    "a4['split']=predictions4.split\n",
    "plot_anomalies(a4)"
   ]
  },
  {
   "cell_type": "markdown",
   "id": "4869891d",
   "metadata": {},
   "source": [
    "# COMPARE RESULTS"
   ]
  },
  {
   "cell_type": "code",
   "execution_count": null,
   "id": "9bf593c1",
   "metadata": {},
   "outputs": [],
   "source": [
    "results = pd.concat([r2_PCA180,r2_PCA36,r2_STATS,r2_TPE],axis=1)\n",
    "results.columns=['A) PCA(180)','B) PCA(36)','C) TPE_STATS','D) TPE_AVG']\n",
    "results.iloc[1:].plot.bar()\n",
    "plt.title('R^2 RESULTS COMPARISON')\n",
    "plt.ylabel('r^2 [/]')"
   ]
  },
  {
   "cell_type": "code",
   "execution_count": null,
   "id": "42d0f057",
   "metadata": {},
   "outputs": [],
   "source": [
    "r2_TPE_an = evaluate_prediction(a4)\n",
    "r2_STATS_an= evaluate_prediction(a3)\n",
    "r2_PCA36_an = evaluate_prediction(a2)\n",
    "r2_PCA180_an = evaluate_prediction(a)"
   ]
  },
  {
   "cell_type": "code",
   "execution_count": null,
   "id": "734b6a0b",
   "metadata": {},
   "outputs": [],
   "source": [
    "results = pd.concat([r2_PCA180_an,r2_PCA36_an,r2_STATS_an,r2_TPE_an],axis=1)\n",
    "results.columns=['A) PCA(180)','B) PCA(36)','C) TPE_STATS','D) TPE_AVG']\n",
    "results.iloc[1:].plot.bar()\n",
    "plt.title('R^2 RESULTS COMPARISON')\n",
    "plt.ylabel('r^2 [/]')"
   ]
  }
 ],
 "metadata": {
  "kernelspec": {
   "display_name": "Python 3 (ipykernel)",
   "language": "python",
   "name": "python3"
  },
  "language_info": {
   "codemirror_mode": {
    "name": "ipython",
    "version": 3
   },
   "file_extension": ".py",
   "mimetype": "text/x-python",
   "name": "python",
   "nbconvert_exporter": "python",
   "pygments_lexer": "ipython3",
   "version": "3.9.6"
  }
 },
 "nbformat": 4,
 "nbformat_minor": 5
}
