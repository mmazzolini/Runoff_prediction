{
 "cells": [
  {
   "cell_type": "code",
   "execution_count": 1,
   "id": "c76d27db",
   "metadata": {},
   "outputs": [],
   "source": [
    "import geopandas as gpd\n",
    "import pandas as pd\n",
    "from shapely.ops import cascaded_union\n",
    "import numpy as np\n",
    "from shapely.geometry import Point, Polygon\n",
    "\n",
    "import matplotlib.pyplot as plt\n",
    "import psycopg2\n",
    "import shapely.wkb as wkt\n",
    "from geopandas import GeoSeries\n",
    "from shapely import wkb\n",
    "import pdb"
   ]
  },
  {
   "cell_type": "code",
   "execution_count": 6,
   "id": "7fb5e103",
   "metadata": {
    "scrolled": true
   },
   "outputs": [],
   "source": [
    "ds = gpd.read_file(r'C:\\Users\\mmazzolini\\OneDrive - Scientific Network South Tyrol\\CCM2\\wgs_84\\SELECTED.shp')\n",
    "ds_hierarchy=ds[['WSO1_ID','NEXTDOWNID']]"
   ]
  },
  {
   "cell_type": "code",
   "execution_count": 3,
   "id": "810bb123",
   "metadata": {},
   "outputs": [],
   "source": [
    "def find_upstream_poly(origin ,lista=[]):\n",
    "    upper=ds[ds.NEXTDOWNID==origin]\n",
    "    for i in upper.iterrows():\n",
    "        lista.append(i[1].geometry)\n",
    "        lista = find_upstream_poly(i[1].WSO1_ID,lista)\n",
    "        \n",
    "    return lista;  "
   ]
  },
  {
   "cell_type": "code",
   "execution_count": 4,
   "id": "1fcaa6da",
   "metadata": {},
   "outputs": [],
   "source": [
    "conn = psycopg2.connect(host=\"10.8.244.31\",\n",
    "                   database=\"climate_data\",\n",
    "                   user=\"ado_admin\",\n",
    "                   password=\"oda347hydro\",\n",
    "                   port=5432)\n",
    "cur = conn.cursor()\n",
    "\n",
    "# get the metadata\n",
    "query = f\"\"\"\n",
    "        SELECT \"id_station\",\"geom\" AS \"point\" FROM \"hydrology\".\"metadata_disc\" WHERE \"region\" = 'Emilia Romagna'\n",
    "        \"\"\"\n",
    "meta = pd.read_sql_query(query, conn)\n",
    "\n",
    "# close the connection when finished\n",
    "cur.close()\n",
    "conn.close()"
   ]
  },
  {
   "cell_type": "code",
   "execution_count": 5,
   "id": "14aeec6b",
   "metadata": {},
   "outputs": [
    {
     "data": {
      "text/html": [
       "<div>\n",
       "<style scoped>\n",
       "    .dataframe tbody tr th:only-of-type {\n",
       "        vertical-align: middle;\n",
       "    }\n",
       "\n",
       "    .dataframe tbody tr th {\n",
       "        vertical-align: top;\n",
       "    }\n",
       "\n",
       "    .dataframe thead th {\n",
       "        text-align: right;\n",
       "    }\n",
       "</style>\n",
       "<table border=\"1\" class=\"dataframe\">\n",
       "  <thead>\n",
       "    <tr style=\"text-align: right;\">\n",
       "      <th></th>\n",
       "      <th>id_station</th>\n",
       "      <th>point</th>\n",
       "    </tr>\n",
       "  </thead>\n",
       "  <tbody>\n",
       "    <tr>\n",
       "      <th>0</th>\n",
       "      <td>ADO_DSC_ITH5_0001</td>\n",
       "      <td>0101000020E61000003160C9552C1E2540BDA8DDAF0274...</td>\n",
       "    </tr>\n",
       "    <tr>\n",
       "      <th>1</th>\n",
       "      <td>ADO_DSC_ITH5_0002</td>\n",
       "      <td>0101000020E61000001422E010AA8425406F2F698CD685...</td>\n",
       "    </tr>\n",
       "    <tr>\n",
       "      <th>2</th>\n",
       "      <td>ADO_DSC_ITH5_0003</td>\n",
       "      <td>0101000020E6100000ACE122F774FD2340BE326FD57590...</td>\n",
       "    </tr>\n",
       "    <tr>\n",
       "      <th>3</th>\n",
       "      <td>ADO_DSC_ITH5_0004</td>\n",
       "      <td>0101000020E6100000B03BDD79E2D926406CD097DEFE78...</td>\n",
       "    </tr>\n",
       "    <tr>\n",
       "      <th>4</th>\n",
       "      <td>ADO_DSC_ITH5_0005</td>\n",
       "      <td>0101000020E6100000E15D2EE23B692340B0E42A16BF87...</td>\n",
       "    </tr>\n",
       "    <tr>\n",
       "      <th>5</th>\n",
       "      <td>ADO_DSC_ITH5_0006</td>\n",
       "      <td>0101000020E6100000043A9336553727407495EEAEB371...</td>\n",
       "    </tr>\n",
       "    <tr>\n",
       "      <th>6</th>\n",
       "      <td>ADO_DSC_ITH5_0007</td>\n",
       "      <td>0101000020E6100000DB696B4430962640EF8E8CD5E681...</td>\n",
       "    </tr>\n",
       "    <tr>\n",
       "      <th>7</th>\n",
       "      <td>ADO_DSC_ITH5_0008</td>\n",
       "      <td>0101000020E6100000B745990D32B122404A7F2F85078D...</td>\n",
       "    </tr>\n",
       "  </tbody>\n",
       "</table>\n",
       "</div>"
      ],
      "text/plain": [
       "          id_station                                              point\n",
       "0  ADO_DSC_ITH5_0001  0101000020E61000003160C9552C1E2540BDA8DDAF0274...\n",
       "1  ADO_DSC_ITH5_0002  0101000020E61000001422E010AA8425406F2F698CD685...\n",
       "2  ADO_DSC_ITH5_0003  0101000020E6100000ACE122F774FD2340BE326FD57590...\n",
       "3  ADO_DSC_ITH5_0004  0101000020E6100000B03BDD79E2D926406CD097DEFE78...\n",
       "4  ADO_DSC_ITH5_0005  0101000020E6100000E15D2EE23B692340B0E42A16BF87...\n",
       "5  ADO_DSC_ITH5_0006  0101000020E6100000043A9336553727407495EEAEB371...\n",
       "6  ADO_DSC_ITH5_0007  0101000020E6100000DB696B4430962640EF8E8CD5E681...\n",
       "7  ADO_DSC_ITH5_0008  0101000020E6100000B745990D32B122404A7F2F85078D..."
      ]
     },
     "execution_count": 5,
     "metadata": {},
     "output_type": "execute_result"
    }
   ],
   "source": [
    "meta"
   ]
  },
  {
   "cell_type": "code",
   "execution_count": 7,
   "id": "12c6d78d",
   "metadata": {
    "scrolled": false
   },
   "outputs": [
    {
     "name": "stdout",
     "output_type": "stream",
     "text": [
      "cannot find catchment for:\n",
      "ADO_DSC_ITH5_0008\n"
     ]
    }
   ],
   "source": [
    "not_found_catchments=[]\n",
    "path=r'C:\\Users\\mmazzolini\\OneDrive - Scientific Network South Tyrol\\CCM2\\final_del/'\n",
    "polygons=[]\n",
    "for i in meta.iterrows():\n",
    "    \n",
    "    \n",
    "    position=GeoSeries(wkb.loads(i[1].point, hex=True))\n",
    "    \n",
    "    for j in ds.iterrows():\n",
    "        #poly=GeoSeries(wkb.loads(j[1].geometry, hex=True))\n",
    "        if j[1].geometry.contains(position[0]):\n",
    "            #print(j[1].WSO1_ID)\n",
    "            origin=j[1].WSO1_ID\n",
    "            \n",
    "    del polygons[:]\n",
    "    \n",
    "    current=ds[ds.WSO1_ID==origin]\n",
    "    \n",
    "    polygons=find_upstream_poly(origin)\n",
    "    \n",
    "    if not polygons:\n",
    "        not_found_catchments.append(i[1].id_station)\n",
    "        print('cannot find catchment for:')\n",
    "        print(i[1].id_station)\n",
    "\n",
    "    else:\n",
    "        for g in current.iterrows():\n",
    "            polygons.append(g[1].geometry)\n",
    "        catchment = gpd.GeoSeries(cascaded_union(polygons))\n",
    "        d = {'id_station': [i[1].id_station], 'geometry': [catchment[0]]}\n",
    "        df= gpd.GeoDataFrame(d).set_crs('epsg:4326')\n",
    "        df.to_file((path+f\"{i[1].id_station}.shp\"))\n",
    "        \n",
    "\n",
    "    #pdb.set_trace()\n",
    "    "
   ]
  },
  {
   "cell_type": "code",
   "execution_count": null,
   "id": "8ab7b110",
   "metadata": {},
   "outputs": [],
   "source": []
  }
 ],
 "metadata": {
  "kernelspec": {
   "display_name": "Python 3 (ipykernel)",
   "language": "python",
   "name": "python3"
  },
  "language_info": {
   "codemirror_mode": {
    "name": "ipython",
    "version": 3
   },
   "file_extension": ".py",
   "mimetype": "text/x-python",
   "name": "python",
   "nbconvert_exporter": "python",
   "pygments_lexer": "ipython3",
   "version": "3.9.6"
  }
 },
 "nbformat": 4,
 "nbformat_minor": 5
}
