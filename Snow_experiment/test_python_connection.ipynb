{
 "cells": [
  {
   "cell_type": "code",
   "execution_count": 1,
   "id": "05bb08c3",
   "metadata": {},
   "outputs": [],
   "source": [
    "import pandas as pd\n",
    "import psycopg2"
   ]
  },
  {
   "cell_type": "code",
   "execution_count": 8,
   "id": "a8b77969",
   "metadata": {},
   "outputs": [],
   "source": [
    "# establish connection using information supplied in documentation\n",
    "conn = psycopg2.connect(host=\"10.8.244.31\",\n",
    "                       database=\"climate_data\",\n",
    "                       user=\"ado_user\",\n",
    "                       password=\"hydro#ado\",\n",
    "                       port=5432)\n",
    "cur = conn.cursor()"
   ]
  },
  {
   "cell_type": "code",
   "execution_count": 9,
   "id": "8a7b015a",
   "metadata": {
    "scrolled": false
   },
   "outputs": [
    {
     "name": "stdout",
     "output_type": "stream",
     "text": [
      "<class 'pandas.core.frame.DataFrame'>\n",
      "RangeIndex: 40908 entries, 0 to 40907\n",
      "Data columns (total 4 columns):\n",
      " #   Column          Non-Null Count  Dtype  \n",
      "---  ------          --------------  -----  \n",
      " 0   id_station      40908 non-null  object \n",
      " 1   date            40908 non-null  object \n",
      " 2   discharge_m3_s  21049 non-null  float64\n",
      " 3   quality         40908 non-null  object \n",
      "dtypes: float64(1), object(3)\n",
      "memory usage: 1.2+ MB\n"
     ]
    },
    {
     "data": {
      "text/html": [
       "<div>\n",
       "<style scoped>\n",
       "    .dataframe tbody tr th:only-of-type {\n",
       "        vertical-align: middle;\n",
       "    }\n",
       "\n",
       "    .dataframe tbody tr th {\n",
       "        vertical-align: top;\n",
       "    }\n",
       "\n",
       "    .dataframe thead th {\n",
       "        text-align: right;\n",
       "    }\n",
       "</style>\n",
       "<table border=\"1\" class=\"dataframe\">\n",
       "  <thead>\n",
       "    <tr style=\"text-align: right;\">\n",
       "      <th></th>\n",
       "      <th>id_station</th>\n",
       "      <th>date</th>\n",
       "      <th>discharge_m3_s</th>\n",
       "      <th>quality</th>\n",
       "    </tr>\n",
       "  </thead>\n",
       "  <tbody>\n",
       "    <tr>\n",
       "      <th>0</th>\n",
       "      <td>ADO_DSC_FRK2_0041</td>\n",
       "      <td>1910-01-01</td>\n",
       "      <td>24.4</td>\n",
       "      <td>no information</td>\n",
       "    </tr>\n",
       "    <tr>\n",
       "      <th>1</th>\n",
       "      <td>ADO_DSC_FRK2_0041</td>\n",
       "      <td>1910-01-02</td>\n",
       "      <td>22.6</td>\n",
       "      <td>no information</td>\n",
       "    </tr>\n",
       "    <tr>\n",
       "      <th>2</th>\n",
       "      <td>ADO_DSC_FRK2_0041</td>\n",
       "      <td>1910-01-03</td>\n",
       "      <td>21.0</td>\n",
       "      <td>no information</td>\n",
       "    </tr>\n",
       "    <tr>\n",
       "      <th>3</th>\n",
       "      <td>ADO_DSC_FRK2_0041</td>\n",
       "      <td>1910-01-04</td>\n",
       "      <td>18.6</td>\n",
       "      <td>no information</td>\n",
       "    </tr>\n",
       "    <tr>\n",
       "      <th>4</th>\n",
       "      <td>ADO_DSC_FRK2_0041</td>\n",
       "      <td>1910-01-05</td>\n",
       "      <td>16.6</td>\n",
       "      <td>no information</td>\n",
       "    </tr>\n",
       "  </tbody>\n",
       "</table>\n",
       "</div>"
      ],
      "text/plain": [
       "          id_station        date  discharge_m3_s         quality\n",
       "0  ADO_DSC_FRK2_0041  1910-01-01            24.4  no information\n",
       "1  ADO_DSC_FRK2_0041  1910-01-02            22.6  no information\n",
       "2  ADO_DSC_FRK2_0041  1910-01-03            21.0  no information\n",
       "3  ADO_DSC_FRK2_0041  1910-01-04            18.6  no information\n",
       "4  ADO_DSC_FRK2_0041  1910-01-05            16.6  no information"
      ]
     },
     "execution_count": 9,
     "metadata": {},
     "output_type": "execute_result"
    }
   ],
   "source": [
    "# get the metadata\n",
    "query = \"\"\"\n",
    "SELECT * FROM hydrology.discharge WHERE id_station='ADO_DSC_FRK2_0041'\n",
    "\"\"\"\n",
    "\n",
    "tbl_meta = pd.read_sql_query(query, conn)\n",
    "tbl_meta.info()\n",
    "tbl_meta.head()"
   ]
  },
  {
   "cell_type": "code",
   "execution_count": 5,
   "id": "80b07495",
   "metadata": {},
   "outputs": [],
   "source": [
    "# close the connection when finished\n",
    "cur.close()\n",
    "conn.close()"
   ]
  }
 ],
 "metadata": {
  "kernelspec": {
   "display_name": "Python 3 (ipykernel)",
   "language": "python",
   "name": "python3"
  },
  "language_info": {
   "codemirror_mode": {
    "name": "ipython",
    "version": 3
   },
   "file_extension": ".py",
   "mimetype": "text/x-python",
   "name": "python",
   "nbconvert_exporter": "python",
   "pygments_lexer": "ipython3",
   "version": "3.9.6"
  }
 },
 "nbformat": 4,
 "nbformat_minor": 5
}
