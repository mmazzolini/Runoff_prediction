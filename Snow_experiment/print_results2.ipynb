{
 "cells": [
  {
   "cell_type": "code",
   "execution_count": 1,
   "id": "3c286c82",
   "metadata": {},
   "outputs": [],
   "source": [
    "import pandas as pd\n",
    "import numpy as np\n",
    "\n",
    "import matplotlib.pyplot as plt"
   ]
  },
  {
   "cell_type": "code",
   "execution_count": 13,
   "id": "56b80fc6",
   "metadata": {},
   "outputs": [],
   "source": [
    "path='results\\BRONZOLO__30.csv'\n",
    "r_30=pd.read_csv(path).loc[2]\n",
    "r_10=pd.read_csv(path[:-6]+'10.csv').loc[2]\n",
    "r_5=pd.read_csv(path[:-6]+'5.csv').loc[2]\n",
    "\n",
    "bars=pd.concat([r_30,r_10,r_5],axis=1)\n",
    "#bars=bars.drop(labels=['lt','Unnamed: 0'])\n",
    "bars.iloc[0,1]=10\n",
    "bars.iloc[0,2]=5\n",
    "\n",
    "bars=bars.transpose()\n",
    "bars.index=bars.t_unit\n",
    "bars=bars.drop(columns='t_unit')"
   ]
  },
  {
   "cell_type": "code",
   "execution_count": 16,
   "id": "5a399029",
   "metadata": {},
   "outputs": [],
   "source": [
    "path='results\\SAN_BENIGNO__30_a.csv'\n",
    "r_30=pd.read_csv(path).loc[2]\n",
    "r_10=pd.read_csv(path[:-8]+'10_a.csv').loc[2]\n",
    "r_5=pd.read_csv(path[:-8]+'5_a.csv').loc[2]\n",
    "\n",
    "bars=pd.concat([r_30,r_10,r_5],axis=1)\n",
    "#bars=bars.drop(labels=['lt','Unnamed: 0'])\n",
    "bars.iloc[0,1]=10\n",
    "bars.iloc[0,2]=5\n",
    "\n",
    "bars=bars.transpose()\n",
    "bars.index=bars.t_unit\n",
    "bars=bars.drop(columns='t_unit')"
   ]
  },
  {
   "cell_type": "code",
   "execution_count": 17,
   "id": "3bcc794e",
   "metadata": {
    "scrolled": false
   },
   "outputs": [
    {
     "data": {
      "text/plain": [
       "([<matplotlib.axis.YTick at 0x23ab664ed30>,\n",
       "  <matplotlib.axis.YTick at 0x23ab664e5b0>,\n",
       "  <matplotlib.axis.YTick at 0x23ab663d970>,\n",
       "  <matplotlib.axis.YTick at 0x23ab766f520>,\n",
       "  <matplotlib.axis.YTick at 0x23ab766fc70>,\n",
       "  <matplotlib.axis.YTick at 0x23ab7675400>,\n",
       "  <matplotlib.axis.YTick at 0x23ab766fe80>,\n",
       "  <matplotlib.axis.YTick at 0x23ab76755e0>,\n",
       "  <matplotlib.axis.YTick at 0x23ab767d040>,\n",
       "  <matplotlib.axis.YTick at 0x23ab767d700>],\n",
       " [Text(0, 0, ''),\n",
       "  Text(0, 0, ''),\n",
       "  Text(0, 0, ''),\n",
       "  Text(0, 0, ''),\n",
       "  Text(0, 0, ''),\n",
       "  Text(0, 0, ''),\n",
       "  Text(0, 0, ''),\n",
       "  Text(0, 0, ''),\n",
       "  Text(0, 0, ''),\n",
       "  Text(0, 0, '')])"
      ]
     },
     "execution_count": 17,
     "metadata": {},
     "output_type": "execute_result"
    },
    {
     "data": {
      "image/png": "[encoded data removed]",
      "text/plain": [
       "<Figure size 432x288 with 1 Axes>"
      ]
     },
     "metadata": {
      "needs_background": "light"
     },
     "output_type": "display_data"
    }
   ],
   "source": [
    "bars.plot.bar(legend=None)\n",
    "plt.title('SVR (rbf) scores comparison for real time')\n",
    "plt.ylabel('R^2 [/]')\n",
    "plt.legend(loc=10)\n",
    "plt.ylim((0,1))\n",
    "plt.grid()\n",
    "plt.yticks(ticks=np.arange(0,1,0.1))"
   ]
  },
  {
   "cell_type": "code",
   "execution_count": null,
   "id": "a4ed095d",
   "metadata": {},
   "outputs": [],
   "source": []
  },
  {
   "cell_type": "code",
   "execution_count": null,
   "id": "4e7e5d1a",
   "metadata": {},
   "outputs": [],
   "source": []
  }
 ],
 "metadata": {
  "kernelspec": {
   "display_name": "Python 3 (ipykernel)",
   "language": "python",
   "name": "python3"
  },
  "language_info": {
   "codemirror_mode": {
    "name": "ipython",
    "version": 3
   },
   "file_extension": ".py",
   "mimetype": "text/x-python",
   "name": "python",
   "nbconvert_exporter": "python",
   "pygments_lexer": "ipython3",
   "version": "3.9.6"
  }
 },
 "nbformat": 4,
 "nbformat_minor": 5
}
