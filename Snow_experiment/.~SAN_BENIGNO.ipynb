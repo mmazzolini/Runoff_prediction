{
 "cells": [
  {
   "cell_type": "code",
   "execution_count": 13,
   "id": "5ff7bd36",
   "metadata": {},
   "outputs": [
    {
     "data": {
      "text/plain": [
       "<module 'test' from 'C:\\\\Users\\\\mmazzolini\\\\OneDrive - Scientific Network South Tyrol\\\\Documents\\\\conda\\\\Runoff_prediction\\\\Snow_experiment\\\\..\\\\test.py'>"
      ]
     },
     "execution_count": 13,
     "metadata": {},
     "output_type": "execute_result"
    }
   ],
   "source": [
    "import sys, importlib\n",
    "importlib.reload(sys.modules['test'])"
   ]
  },
  {
   "cell_type": "code",
   "execution_count": 14,
   "id": "dcccce70",
   "metadata": {},
   "outputs": [],
   "source": [
    "import sys\n",
    "sys.path.insert(0, \"..\")\n",
    "\n",
    "from base_f import daily_climatology, spatial_avg_daily_input, spatial_stats_daily_input, compute_anomalies, create_it_matrix\n",
    "from cross_validation_f import SVR_nested_CV_gridsearch, SVR_PCA_nested_CV_gridsearch\n",
    "from cross_validation_f import evaluate_prediction, plot_prediction, plot_anomalies\n",
    "from cross_validation_f import nested_CV_PCA_SVR_predict, nested_CV_SVR_predict\n",
    "from cross_validation_f import classic_CV_PCA_SVR_predict, classic_CV_SVR_predict\n",
    "\n",
    "\n",
    "import pandas as pd\n",
    "import matplotlib.pyplot as plt\n",
    "import numpy as np\n",
    "import pandas as pd\n",
    "import numpy as np\n",
    "from scipy.stats import gaussian_kde\n",
    "\n",
    "from sklearn.svm import SVR\n",
    "from sklearn.preprocessing import StandardScaler\n",
    "from sklearn.pipeline import make_pipeline\n",
    "from sklearn.compose import TransformedTargetRegressor\n",
    "from sklearn.model_selection import GridSearchCV,TimeSeriesSplit\n",
    "from sklearn.metrics import mean_squared_error\n",
    "from sklearn.decomposition import PCA\n",
    "\n",
    "\n",
    "import matplotlib.pyplot as plt\n",
    "import os\n",
    "import pdb\n",
    "import seaborn as sns"
   ]
  },
  {
   "cell_type": "markdown",
   "id": "9b49b5c4",
   "metadata": {},
   "source": [
    "## A) ALL_VARS, T_UNIT = 10"
   ]
  },
  {
   "cell_type": "code",
   "execution_count": 3,
   "id": "d99e2c2f",
   "metadata": {},
   "outputs": [],
   "source": [
    "path=r'C:\\Users\\mmazzolini\\OneDrive - Scientific Network South Tyrol\\Documents\\conda\\daily_input\\old\\\\'\n",
    "\n",
    "daily_input = pd.read_csv(path+'SAN_BENIGNO_ORCO_2002_2019.csv', index_col=0, parse_dates=True)\n",
    "\n",
    "daily_input_stat = spatial_stats_daily_input(daily_input)\n",
    "\n",
    "t_unit=10\n",
    "\n",
    "\n",
    "#define the possible parameters value (where Gridsearch is applied)\n",
    "\n",
    "C_range=np.logspace(-1.5, 1.5, 10)\n",
    "epsilon_range=np.logspace(-5, -2, 5)\n",
    "#n_range = [17, 50, 200]\n",
    "components_range = [5*4*36]\n",
    "#do not enlarge t_range for now\n",
    "t_range=[36]\n",
    "t_length=t_range[0]\n",
    "n_splits=5\n",
    "test_size=365"
   ]
  },
  {
   "cell_type": "code",
   "execution_count": null,
   "id": "6bf784d0",
   "metadata": {
    "scrolled": true
   },
   "outputs": [
    {
     "name": "stdout",
     "output_type": "stream",
     "text": [
      "Fitting 1 folds for each of 50 candidates, totalling 50 fits\n"
     ]
    },
    {
     "name": "stderr",
     "output_type": "stream",
     "text": [
      "C:\\Users\\mmazzolini\\.conda\\envs\\ado\\lib\\site-packages\\sklearn\\compose\\_target.py:152: UserWarning: The provided functions or transformer are not strictly inverse of each other. If you are sure you want to proceed regardless, set 'check_inverse=False'\n",
      "  warnings.warn(\"The provided functions or transformer are\"\n"
     ]
    },
    {
     "name": "stdout",
     "output_type": "stream",
     "text": [
      "Fitting 1 folds for each of 50 candidates, totalling 50 fits\n"
     ]
    },
    {
     "name": "stderr",
     "output_type": "stream",
     "text": [
      "C:\\Users\\mmazzolini\\.conda\\envs\\ado\\lib\\site-packages\\sklearn\\compose\\_target.py:152: UserWarning: The provided functions or transformer are not strictly inverse of each other. If you are sure you want to proceed regardless, set 'check_inverse=False'\n",
      "  warnings.warn(\"The provided functions or transformer are\"\n"
     ]
    },
    {
     "name": "stdout",
     "output_type": "stream",
     "text": [
      "Fitting 1 folds for each of 50 candidates, totalling 50 fits\n"
     ]
    }
   ],
   "source": [
    "C, eps = SVR_nested_CV_gridsearch(daily_input_stat, C_range,epsilon_range, t_range,t_unit,n_splits,test_size)\n",
    "print(f'C3={C}')\n",
    "print(f'eps3={eps}') "
   ]
  },
  {
   "cell_type": "code",
   "execution_count": null,
   "id": "ac498f5f",
   "metadata": {},
   "outputs": [],
   "source": [
    "C=0.6812920690579611\n",
    "eps=1e-05"
   ]
  },
  {
   "cell_type": "markdown",
   "id": "c2ff44a9",
   "metadata": {},
   "source": [
    "### PREDICT RUNOFF ON TEST SET AND QUANTIFY THE PERFORMANCE"
   ]
  },
  {
   "cell_type": "code",
   "execution_count": null,
   "id": "7868a11c",
   "metadata": {
    "scrolled": true
   },
   "outputs": [],
   "source": [
    "radius_for_ensemble = 1\n",
    "predictions = nested_CV_SVR_predict(daily_input_stat, C, eps, t_length,t_unit, n_splits, test_size, radius_for_ensemble)"
   ]
  },
  {
   "cell_type": "code",
   "execution_count": null,
   "id": "12333e95",
   "metadata": {
    "scrolled": true
   },
   "outputs": [],
   "source": [
    "#predictions=pd.read_csv('tial.csv',date_parser=True)\n",
    "plot_prediction(predictions)"
   ]
  },
  {
   "cell_type": "code",
   "execution_count": null,
   "id": "136457d5",
   "metadata": {
    "scrolled": false
   },
   "outputs": [],
   "source": [
    "r2_A= evaluate_prediction(predictions)"
   ]
  },
  {
   "cell_type": "markdown",
   "id": "228f771a",
   "metadata": {},
   "source": [
    "### ANALYSE RESULTS AS ANOMALIES"
   ]
  },
  {
   "cell_type": "markdown",
   "id": "ae5e6ce8",
   "metadata": {},
   "source": [
    "### 1) PREDICT THE WHOLE SERIES WITH CLASSIC CV"
   ]
  },
  {
   "cell_type": "code",
   "execution_count": null,
   "id": "76be74df",
   "metadata": {},
   "outputs": [],
   "source": [
    "predictions_for_clim = classic_CV_SVR_predict(daily_input_stat, C, eps, t_length,t_unit, n_splits)"
   ]
  },
  {
   "cell_type": "code",
   "execution_count": null,
   "id": "2e030086",
   "metadata": {},
   "outputs": [],
   "source": [
    "climatologies =predictions_for_clim.groupby(by=predictions_for_clim.index.day_of_year).mean().loc[:,['prediction','true_runoff']]\n",
    "climatologies['doty']=climatologies.index\n"
   ]
  },
  {
   "cell_type": "code",
   "execution_count": null,
   "id": "419702a5",
   "metadata": {
    "scrolled": true
   },
   "outputs": [],
   "source": [
    "sns.set_theme(style=\"whitegrid\")\n",
    "ax,fig=plt.subplots(figsize=(20,10))\n",
    "sns.lineplot(data=climatologies,x='doty',y='prediction',label='prediction climatology')\n",
    "sns.lineplot(data=climatologies,x='doty',y='true_runoff',label='real climatology')\n",
    "plt.legend()"
   ]
  },
  {
   "cell_type": "markdown",
   "id": "f6fe45d0",
   "metadata": {},
   "source": [
    "### 2) COMPUTE THE ANOMALIES AND PLOT THEM"
   ]
  },
  {
   "cell_type": "code",
   "execution_count": null,
   "id": "c3c36932",
   "metadata": {
    "scrolled": true
   },
   "outputs": [],
   "source": [
    "a=compute_anomalies(climatologies, predictions3)\n",
    "a['split']=predictions3.split\n",
    "\n",
    "plot_anomalies(a3)"
   ]
  },
  {
   "cell_type": "code",
   "execution_count": 11,
   "id": "e6be5c47",
   "metadata": {},
   "outputs": [
    {
     "data": {
      "text/html": [
       "<div>\n",
       "<style scoped>\n",
       "    .dataframe tbody tr th:only-of-type {\n",
       "        vertical-align: middle;\n",
       "    }\n",
       "\n",
       "    .dataframe tbody tr th {\n",
       "        vertical-align: top;\n",
       "    }\n",
       "\n",
       "    .dataframe thead th {\n",
       "        text-align: right;\n",
       "    }\n",
       "</style>\n",
       "<table border=\"1\" class=\"dataframe\">\n",
       "  <thead>\n",
       "    <tr style=\"text-align: right;\">\n",
       "      <th></th>\n",
       "      <th>Q</th>\n",
       "      <th>T</th>\n",
       "      <th>T5</th>\n",
       "      <th>T25</th>\n",
       "      <th>T75</th>\n",
       "      <th>T95</th>\n",
       "      <th>E</th>\n",
       "      <th>E5</th>\n",
       "      <th>E25</th>\n",
       "      <th>E75</th>\n",
       "      <th>E95</th>\n",
       "      <th>P</th>\n",
       "      <th>P5</th>\n",
       "      <th>P25</th>\n",
       "      <th>P75</th>\n",
       "      <th>P95</th>\n",
       "    </tr>\n",
       "  </thead>\n",
       "  <tbody>\n",
       "    <tr>\n",
       "      <th>2001-01-01</th>\n",
       "      <td>NaN</td>\n",
       "      <td>268.155152</td>\n",
       "      <td>261.507702</td>\n",
       "      <td>265.364962</td>\n",
       "      <td>272.271366</td>\n",
       "      <td>273.519307</td>\n",
       "      <td>0.689045</td>\n",
       "      <td>0.178590</td>\n",
       "      <td>0.423489</td>\n",
       "      <td>0.885472</td>\n",
       "      <td>1.247386</td>\n",
       "      <td>0.000030</td>\n",
       "      <td>0.000000e+00</td>\n",
       "      <td>0.000002</td>\n",
       "      <td>4.712090e-05</td>\n",
       "      <td>0.000086</td>\n",
       "    </tr>\n",
       "    <tr>\n",
       "      <th>2001-01-02</th>\n",
       "      <td>NaN</td>\n",
       "      <td>270.177107</td>\n",
       "      <td>264.302650</td>\n",
       "      <td>267.927416</td>\n",
       "      <td>273.664145</td>\n",
       "      <td>274.777748</td>\n",
       "      <td>0.290545</td>\n",
       "      <td>-0.010598</td>\n",
       "      <td>0.050870</td>\n",
       "      <td>0.507151</td>\n",
       "      <td>0.657065</td>\n",
       "      <td>0.175406</td>\n",
       "      <td>9.072534e-03</td>\n",
       "      <td>0.022523</td>\n",
       "      <td>2.799427e-01</td>\n",
       "      <td>0.548903</td>\n",
       "    </tr>\n",
       "    <tr>\n",
       "      <th>2001-01-03</th>\n",
       "      <td>NaN</td>\n",
       "      <td>267.817979</td>\n",
       "      <td>259.558975</td>\n",
       "      <td>264.477872</td>\n",
       "      <td>272.885529</td>\n",
       "      <td>274.090143</td>\n",
       "      <td>-0.220721</td>\n",
       "      <td>-0.308394</td>\n",
       "      <td>-0.270721</td>\n",
       "      <td>-0.179357</td>\n",
       "      <td>-0.118766</td>\n",
       "      <td>5.231468</td>\n",
       "      <td>2.004129e+00</td>\n",
       "      <td>2.797286</td>\n",
       "      <td>7.397029e+00</td>\n",
       "      <td>10.111353</td>\n",
       "    </tr>\n",
       "    <tr>\n",
       "      <th>2001-01-04</th>\n",
       "      <td>NaN</td>\n",
       "      <td>270.120416</td>\n",
       "      <td>263.151173</td>\n",
       "      <td>267.362912</td>\n",
       "      <td>274.186893</td>\n",
       "      <td>275.165705</td>\n",
       "      <td>-0.021118</td>\n",
       "      <td>-0.276602</td>\n",
       "      <td>-0.170701</td>\n",
       "      <td>0.130182</td>\n",
       "      <td>0.276362</td>\n",
       "      <td>0.329261</td>\n",
       "      <td>7.340939e-02</td>\n",
       "      <td>0.127479</td>\n",
       "      <td>4.048327e-01</td>\n",
       "      <td>0.878168</td>\n",
       "    </tr>\n",
       "    <tr>\n",
       "      <th>2001-01-05</th>\n",
       "      <td>NaN</td>\n",
       "      <td>270.852392</td>\n",
       "      <td>264.279173</td>\n",
       "      <td>268.329888</td>\n",
       "      <td>274.476690</td>\n",
       "      <td>275.607926</td>\n",
       "      <td>0.227969</td>\n",
       "      <td>-0.058524</td>\n",
       "      <td>-0.015644</td>\n",
       "      <td>0.440803</td>\n",
       "      <td>0.630339</td>\n",
       "      <td>3.561515</td>\n",
       "      <td>1.902955e+00</td>\n",
       "      <td>2.211258</td>\n",
       "      <td>4.634279e+00</td>\n",
       "      <td>6.608347</td>\n",
       "    </tr>\n",
       "    <tr>\n",
       "      <th>...</th>\n",
       "      <td>...</td>\n",
       "      <td>...</td>\n",
       "      <td>...</td>\n",
       "      <td>...</td>\n",
       "      <td>...</td>\n",
       "      <td>...</td>\n",
       "      <td>...</td>\n",
       "      <td>...</td>\n",
       "      <td>...</td>\n",
       "      <td>...</td>\n",
       "      <td>...</td>\n",
       "      <td>...</td>\n",
       "      <td>...</td>\n",
       "      <td>...</td>\n",
       "      <td>...</td>\n",
       "      <td>...</td>\n",
       "    </tr>\n",
       "    <tr>\n",
       "      <th>2018-12-27</th>\n",
       "      <td>6.45</td>\n",
       "      <td>272.145776</td>\n",
       "      <td>267.090469</td>\n",
       "      <td>270.425599</td>\n",
       "      <td>274.753961</td>\n",
       "      <td>276.036066</td>\n",
       "      <td>0.367153</td>\n",
       "      <td>-0.153659</td>\n",
       "      <td>-0.059275</td>\n",
       "      <td>0.804174</td>\n",
       "      <td>1.014374</td>\n",
       "      <td>0.000003</td>\n",
       "      <td>-2.176434e-09</td>\n",
       "      <td>0.000000</td>\n",
       "      <td>8.174076e-07</td>\n",
       "      <td>0.000015</td>\n",
       "    </tr>\n",
       "    <tr>\n",
       "      <th>2018-12-28</th>\n",
       "      <td>5.90</td>\n",
       "      <td>273.237923</td>\n",
       "      <td>267.701906</td>\n",
       "      <td>271.259924</td>\n",
       "      <td>276.259172</td>\n",
       "      <td>277.323651</td>\n",
       "      <td>0.142479</td>\n",
       "      <td>-0.208490</td>\n",
       "      <td>-0.126605</td>\n",
       "      <td>0.472813</td>\n",
       "      <td>0.628409</td>\n",
       "      <td>0.005985</td>\n",
       "      <td>7.750391e-06</td>\n",
       "      <td>0.000103</td>\n",
       "      <td>7.961755e-03</td>\n",
       "      <td>0.024801</td>\n",
       "    </tr>\n",
       "    <tr>\n",
       "      <th>2018-12-29</th>\n",
       "      <td>5.20</td>\n",
       "      <td>272.962407</td>\n",
       "      <td>266.456812</td>\n",
       "      <td>270.543723</td>\n",
       "      <td>276.764507</td>\n",
       "      <td>277.619308</td>\n",
       "      <td>-0.150181</td>\n",
       "      <td>-0.392394</td>\n",
       "      <td>-0.240160</td>\n",
       "      <td>-0.066551</td>\n",
       "      <td>0.084296</td>\n",
       "      <td>0.013349</td>\n",
       "      <td>1.952306e-03</td>\n",
       "      <td>0.003203</td>\n",
       "      <td>1.736954e-02</td>\n",
       "      <td>0.049847</td>\n",
       "    </tr>\n",
       "    <tr>\n",
       "      <th>2018-12-30</th>\n",
       "      <td>4.55</td>\n",
       "      <td>273.819281</td>\n",
       "      <td>266.661643</td>\n",
       "      <td>270.897798</td>\n",
       "      <td>278.047754</td>\n",
       "      <td>278.908324</td>\n",
       "      <td>0.333473</td>\n",
       "      <td>-0.171008</td>\n",
       "      <td>0.127160</td>\n",
       "      <td>0.580138</td>\n",
       "      <td>0.828343</td>\n",
       "      <td>0.000296</td>\n",
       "      <td>8.626771e-08</td>\n",
       "      <td>0.000006</td>\n",
       "      <td>4.181671e-04</td>\n",
       "      <td>0.000767</td>\n",
       "    </tr>\n",
       "    <tr>\n",
       "      <th>2018-12-31</th>\n",
       "      <td>4.42</td>\n",
       "      <td>272.931295</td>\n",
       "      <td>264.933996</td>\n",
       "      <td>269.717175</td>\n",
       "      <td>277.623064</td>\n",
       "      <td>278.619908</td>\n",
       "      <td>0.112663</td>\n",
       "      <td>-0.204107</td>\n",
       "      <td>-0.010978</td>\n",
       "      <td>0.251120</td>\n",
       "      <td>0.522963</td>\n",
       "      <td>0.005474</td>\n",
       "      <td>6.143626e-04</td>\n",
       "      <td>0.001438</td>\n",
       "      <td>7.782329e-03</td>\n",
       "      <td>0.015520</td>\n",
       "    </tr>\n",
       "  </tbody>\n",
       "</table>\n",
       "<p>6574 rows × 16 columns</p>\n",
       "</div>"
      ],
      "text/plain": [
       "               Q           T          T5         T25         T75         T95  \\\n",
       "2001-01-01   NaN  268.155152  261.507702  265.364962  272.271366  273.519307   \n",
       "2001-01-02   NaN  270.177107  264.302650  267.927416  273.664145  274.777748   \n",
       "2001-01-03   NaN  267.817979  259.558975  264.477872  272.885529  274.090143   \n",
       "2001-01-04   NaN  270.120416  263.151173  267.362912  274.186893  275.165705   \n",
       "2001-01-05   NaN  270.852392  264.279173  268.329888  274.476690  275.607926   \n",
       "...          ...         ...         ...         ...         ...         ...   \n",
       "2018-12-27  6.45  272.145776  267.090469  270.425599  274.753961  276.036066   \n",
       "2018-12-28  5.90  273.237923  267.701906  271.259924  276.259172  277.323651   \n",
       "2018-12-29  5.20  272.962407  266.456812  270.543723  276.764507  277.619308   \n",
       "2018-12-30  4.55  273.819281  266.661643  270.897798  278.047754  278.908324   \n",
       "2018-12-31  4.42  272.931295  264.933996  269.717175  277.623064  278.619908   \n",
       "\n",
       "                   E        E5       E25       E75       E95         P  \\\n",
       "2001-01-01  0.689045  0.178590  0.423489  0.885472  1.247386  0.000030   \n",
       "2001-01-02  0.290545 -0.010598  0.050870  0.507151  0.657065  0.175406   \n",
       "2001-01-03 -0.220721 -0.308394 -0.270721 -0.179357 -0.118766  5.231468   \n",
       "2001-01-04 -0.021118 -0.276602 -0.170701  0.130182  0.276362  0.329261   \n",
       "2001-01-05  0.227969 -0.058524 -0.015644  0.440803  0.630339  3.561515   \n",
       "...              ...       ...       ...       ...       ...       ...   \n",
       "2018-12-27  0.367153 -0.153659 -0.059275  0.804174  1.014374  0.000003   \n",
       "2018-12-28  0.142479 -0.208490 -0.126605  0.472813  0.628409  0.005985   \n",
       "2018-12-29 -0.150181 -0.392394 -0.240160 -0.066551  0.084296  0.013349   \n",
       "2018-12-30  0.333473 -0.171008  0.127160  0.580138  0.828343  0.000296   \n",
       "2018-12-31  0.112663 -0.204107 -0.010978  0.251120  0.522963  0.005474   \n",
       "\n",
       "                      P5       P25           P75        P95  \n",
       "2001-01-01  0.000000e+00  0.000002  4.712090e-05   0.000086  \n",
       "2001-01-02  9.072534e-03  0.022523  2.799427e-01   0.548903  \n",
       "2001-01-03  2.004129e+00  2.797286  7.397029e+00  10.111353  \n",
       "2001-01-04  7.340939e-02  0.127479  4.048327e-01   0.878168  \n",
       "2001-01-05  1.902955e+00  2.211258  4.634279e+00   6.608347  \n",
       "...                  ...       ...           ...        ...  \n",
       "2018-12-27 -2.176434e-09  0.000000  8.174076e-07   0.000015  \n",
       "2018-12-28  7.750391e-06  0.000103  7.961755e-03   0.024801  \n",
       "2018-12-29  1.952306e-03  0.003203  1.736954e-02   0.049847  \n",
       "2018-12-30  8.626771e-08  0.000006  4.181671e-04   0.000767  \n",
       "2018-12-31  6.143626e-04  0.001438  7.782329e-03   0.015520  \n",
       "\n",
       "[6574 rows x 16 columns]"
      ]
     },
     "execution_count": 11,
     "metadata": {},
     "output_type": "execute_result"
    }
   ],
   "source": [
    "daily_input_stat.drop(columns=[c for c in daily_input_stat.columns if c[0]=='S'])"
   ]
  },
  {
   "cell_type": "markdown",
   "id": "67d3a592",
   "metadata": {},
   "source": [
    "## B) NO_SNOW, T_UNIT = 10"
   ]
  },
  {
   "cell_type": "code",
   "execution_count": 4,
   "id": "689cf18b",
   "metadata": {},
   "outputs": [],
   "source": [
    "daily_input_stat2 = daily_input_stat.drop(columns=[c for c in daily_input_stat.columns if c[0]=='S'])\n",
    "\n",
    "t_unit=10"
   ]
  },
  {
   "cell_type": "code",
   "execution_count": 5,
   "id": "82371674",
   "metadata": {},
   "outputs": [],
   "source": [
    "#define the possible parameters value (where Gridsearch is applied)\n",
    "\n",
    "C_range=np.logspace(-0.5, 0.5, 5)\n",
    "epsilon_range=np.logspace(-3, 0, 5)\n",
    "#n_range = [17, 50, 200]\n",
    "components_range = [5*4*36]\n",
    "#do not enlarge t_range for now\n",
    "t_range=[36]\n",
    "t_length=t_range[0]\n",
    "n_splits=5\n",
    "test_size=365"
   ]
  },
  {
   "cell_type": "code",
   "execution_count": null,
   "id": "3ae58340",
   "metadata": {
    "scrolled": true
   },
   "outputs": [
    {
     "name": "stdout",
     "output_type": "stream",
     "text": [
      "Fitting 1 folds for each of 25 candidates, totalling 25 fits\n"
     ]
    }
   ],
   "source": [
    "C2, eps2 = SVR_nested_CV_gridsearch(daily_input_stat2, C_range,epsilon_range, t_range,t_unit,n_splits,test_size)\n",
    "print(f'C2={C2}')\n",
    "print(f'eps2={eps2}')"
   ]
  },
  {
   "cell_type": "code",
   "execution_count": 7,
   "id": "2a045564",
   "metadata": {},
   "outputs": [],
   "source": [
    "C2=0.5623413251903491\n",
    "eps2=0.005623413251903491"
   ]
  },
  {
   "cell_type": "markdown",
   "id": "c2ff44a9",
   "metadata": {},
   "source": [
    "### PREDICT RUNOFF ON TEST SET AND QUANTIFY THE PERFORMANCE"
   ]
  },
  {
   "cell_type": "code",
   "execution_count": 12,
   "id": "7868a11c",
   "metadata": {
    "scrolled": true
   },
   "outputs": [
    {
     "ename": "KeyError",
     "evalue": "'[190, 201] not in index'",
     "output_type": "error",
     "traceback": [
      "\u001b[1;31m---------------------------------------------------------------------------\u001b[0m",
      "\u001b[1;31mKeyError\u001b[0m                                  Traceback (most recent call last)",
      "\u001b[1;32mC:\\Users\\MMAZZO~1\\AppData\\Local\\Temp/ipykernel_9444/1295566278.py\u001b[0m in \u001b[0;36m<module>\u001b[1;34m\u001b[0m\n\u001b[0;32m      1\u001b[0m \u001b[0mradius_for_ensemble\u001b[0m \u001b[1;33m=\u001b[0m \u001b[1;36m1\u001b[0m\u001b[1;33m\u001b[0m\u001b[1;33m\u001b[0m\u001b[0m\n\u001b[1;32m----> 2\u001b[1;33m \u001b[0mpredictions2\u001b[0m \u001b[1;33m=\u001b[0m \u001b[0mnested_CV_SVR_predict\u001b[0m\u001b[1;33m(\u001b[0m\u001b[0mdaily_input_stat2\u001b[0m\u001b[1;33m,\u001b[0m \u001b[0mC2\u001b[0m\u001b[1;33m,\u001b[0m \u001b[0meps2\u001b[0m\u001b[1;33m,\u001b[0m \u001b[0mt_length\u001b[0m\u001b[1;33m,\u001b[0m \u001b[0mt_unit\u001b[0m\u001b[1;33m,\u001b[0m \u001b[0mn_splits\u001b[0m\u001b[1;33m,\u001b[0m \u001b[0mtest_size\u001b[0m\u001b[1;33m,\u001b[0m \u001b[0mradius_for_ensemble\u001b[0m\u001b[1;33m)\u001b[0m\u001b[1;33m\u001b[0m\u001b[1;33m\u001b[0m\u001b[0m\n\u001b[0m",
      "\u001b[1;32m~\\OneDrive - Scientific Network South Tyrol\\Documents\\conda\\Runoff_prediction\\Snow_experiment\\..\\test.py\u001b[0m in \u001b[0;36mnested_CV_SVR_predict\u001b[1;34m(daily_input, C, eps, t_length, t_unit, n_splits, test_size, radius_for_ensemble)\u001b[0m\n\u001b[0;32m     76\u001b[0m             \u001b[0mchange_dest\u001b[0m \u001b[1;33m=\u001b[0m \u001b[1;33m[\u001b[0m\u001b[0mc\u001b[0m \u001b[1;32mfor\u001b[0m \u001b[0mc\u001b[0m \u001b[1;32min\u001b[0m \u001b[0mX_climTP\u001b[0m\u001b[1;33m.\u001b[0m\u001b[0mcolumns\u001b[0m \u001b[1;32mif\u001b[0m \u001b[0mc\u001b[0m\u001b[1;33m.\u001b[0m\u001b[0msplit\u001b[0m\u001b[1;33m(\u001b[0m\u001b[1;34m'_'\u001b[0m\u001b[1;33m)\u001b[0m\u001b[1;33m[\u001b[0m\u001b[1;36m1\u001b[0m\u001b[1;33m]\u001b[0m \u001b[1;33m==\u001b[0m \u001b[0mstr\u001b[0m\u001b[1;33m(\u001b[0m\u001b[1;33m-\u001b[0m\u001b[0mlt\u001b[0m \u001b[1;33m+\u001b[0m \u001b[1;36m1\u001b[0m\u001b[1;33m)\u001b[0m\u001b[1;33m]\u001b[0m\u001b[1;33m\u001b[0m\u001b[1;33m\u001b[0m\u001b[0m\n\u001b[0;32m     77\u001b[0m             \u001b[0mchange_source\u001b[0m \u001b[1;33m=\u001b[0m \u001b[1;33m[\u001b[0m\u001b[0mc\u001b[0m\u001b[1;33m.\u001b[0m\u001b[0msplit\u001b[0m\u001b[1;33m(\u001b[0m\u001b[1;34m'_'\u001b[0m\u001b[1;33m)\u001b[0m\u001b[1;33m[\u001b[0m\u001b[1;36m0\u001b[0m\u001b[1;33m]\u001b[0m \u001b[1;32mfor\u001b[0m \u001b[0mc\u001b[0m \u001b[1;32min\u001b[0m \u001b[0mchange_dest\u001b[0m\u001b[1;33m]\u001b[0m\u001b[1;33m\u001b[0m\u001b[1;33m\u001b[0m\u001b[0m\n\u001b[1;32m---> 78\u001b[1;33m             \u001b[0mX_climTP\u001b[0m\u001b[1;33m.\u001b[0m\u001b[0mloc\u001b[0m\u001b[1;33m[\u001b[0m\u001b[1;33m:\u001b[0m\u001b[1;33m,\u001b[0m \u001b[0mchange_dest\u001b[0m\u001b[1;33m]\u001b[0m\u001b[1;33m=\u001b[0m\u001b[0mdaily_clim\u001b[0m\u001b[1;33m.\u001b[0m\u001b[0mloc\u001b[0m\u001b[1;33m[\u001b[0m\u001b[1;33m(\u001b[0m\u001b[0mtest_dates\u001b[0m\u001b[1;33m-\u001b[0m\u001b[0mnp\u001b[0m\u001b[1;33m.\u001b[0m\u001b[0mtimedelta64\u001b[0m\u001b[1;33m(\u001b[0m\u001b[0mt_unit\u001b[0m\u001b[1;33m*\u001b[0m\u001b[1;33m(\u001b[0m\u001b[0mlt\u001b[0m\u001b[1;33m-\u001b[0m\u001b[1;36m1\u001b[0m\u001b[1;33m)\u001b[0m\u001b[1;33m,\u001b[0m\u001b[1;34m'D'\u001b[0m\u001b[1;33m)\u001b[0m\u001b[1;33m)\u001b[0m\u001b[1;33m.\u001b[0m\u001b[0mday_of_year\u001b[0m\u001b[1;33m]\u001b[0m\u001b[1;33m[\u001b[0m\u001b[0mchange_source\u001b[0m\u001b[1;33m]\u001b[0m\u001b[1;33m.\u001b[0m\u001b[0mvalues\u001b[0m\u001b[1;33m\u001b[0m\u001b[1;33m\u001b[0m\u001b[0m\n\u001b[0m\u001b[0;32m     79\u001b[0m \u001b[1;33m\u001b[0m\u001b[0m\n\u001b[0;32m     80\u001b[0m             \u001b[1;31m#predict\u001b[0m\u001b[1;33m\u001b[0m\u001b[1;33m\u001b[0m\u001b[1;33m\u001b[0m\u001b[0m\n",
      "\u001b[1;32m~\\.conda\\envs\\ado\\lib\\site-packages\\pandas\\core\\indexing.py\u001b[0m in \u001b[0;36m__getitem__\u001b[1;34m(self, key)\u001b[0m\n\u001b[0;32m    929\u001b[0m \u001b[1;33m\u001b[0m\u001b[0m\n\u001b[0;32m    930\u001b[0m             \u001b[0mmaybe_callable\u001b[0m \u001b[1;33m=\u001b[0m \u001b[0mcom\u001b[0m\u001b[1;33m.\u001b[0m\u001b[0mapply_if_callable\u001b[0m\u001b[1;33m(\u001b[0m\u001b[0mkey\u001b[0m\u001b[1;33m,\u001b[0m \u001b[0mself\u001b[0m\u001b[1;33m.\u001b[0m\u001b[0mobj\u001b[0m\u001b[1;33m)\u001b[0m\u001b[1;33m\u001b[0m\u001b[1;33m\u001b[0m\u001b[0m\n\u001b[1;32m--> 931\u001b[1;33m             \u001b[1;32mreturn\u001b[0m \u001b[0mself\u001b[0m\u001b[1;33m.\u001b[0m\u001b[0m_getitem_axis\u001b[0m\u001b[1;33m(\u001b[0m\u001b[0mmaybe_callable\u001b[0m\u001b[1;33m,\u001b[0m \u001b[0maxis\u001b[0m\u001b[1;33m=\u001b[0m\u001b[0maxis\u001b[0m\u001b[1;33m)\u001b[0m\u001b[1;33m\u001b[0m\u001b[1;33m\u001b[0m\u001b[0m\n\u001b[0m\u001b[0;32m    932\u001b[0m \u001b[1;33m\u001b[0m\u001b[0m\n\u001b[0;32m    933\u001b[0m     \u001b[1;32mdef\u001b[0m \u001b[0m_is_scalar_access\u001b[0m\u001b[1;33m(\u001b[0m\u001b[0mself\u001b[0m\u001b[1;33m,\u001b[0m \u001b[0mkey\u001b[0m\u001b[1;33m:\u001b[0m \u001b[0mtuple\u001b[0m\u001b[1;33m)\u001b[0m\u001b[1;33m:\u001b[0m\u001b[1;33m\u001b[0m\u001b[1;33m\u001b[0m\u001b[0m\n",
      "\u001b[1;32m~\\.conda\\envs\\ado\\lib\\site-packages\\pandas\\core\\indexing.py\u001b[0m in \u001b[0;36m_getitem_axis\u001b[1;34m(self, key, axis)\u001b[0m\n\u001b[0;32m   1151\u001b[0m                     \u001b[1;32mraise\u001b[0m \u001b[0mValueError\u001b[0m\u001b[1;33m(\u001b[0m\u001b[1;34m\"Cannot index with multidimensional key\"\u001b[0m\u001b[1;33m)\u001b[0m\u001b[1;33m\u001b[0m\u001b[1;33m\u001b[0m\u001b[0m\n\u001b[0;32m   1152\u001b[0m \u001b[1;33m\u001b[0m\u001b[0m\n\u001b[1;32m-> 1153\u001b[1;33m                 \u001b[1;32mreturn\u001b[0m \u001b[0mself\u001b[0m\u001b[1;33m.\u001b[0m\u001b[0m_getitem_iterable\u001b[0m\u001b[1;33m(\u001b[0m\u001b[0mkey\u001b[0m\u001b[1;33m,\u001b[0m \u001b[0maxis\u001b[0m\u001b[1;33m=\u001b[0m\u001b[0maxis\u001b[0m\u001b[1;33m)\u001b[0m\u001b[1;33m\u001b[0m\u001b[1;33m\u001b[0m\u001b[0m\n\u001b[0m\u001b[0;32m   1154\u001b[0m \u001b[1;33m\u001b[0m\u001b[0m\n\u001b[0;32m   1155\u001b[0m             \u001b[1;31m# nested tuple slicing\u001b[0m\u001b[1;33m\u001b[0m\u001b[1;33m\u001b[0m\u001b[1;33m\u001b[0m\u001b[0m\n",
      "\u001b[1;32m~\\.conda\\envs\\ado\\lib\\site-packages\\pandas\\core\\indexing.py\u001b[0m in \u001b[0;36m_getitem_iterable\u001b[1;34m(self, key, axis)\u001b[0m\n\u001b[0;32m   1091\u001b[0m \u001b[1;33m\u001b[0m\u001b[0m\n\u001b[0;32m   1092\u001b[0m         \u001b[1;31m# A collection of keys\u001b[0m\u001b[1;33m\u001b[0m\u001b[1;33m\u001b[0m\u001b[1;33m\u001b[0m\u001b[0m\n\u001b[1;32m-> 1093\u001b[1;33m         \u001b[0mkeyarr\u001b[0m\u001b[1;33m,\u001b[0m \u001b[0mindexer\u001b[0m \u001b[1;33m=\u001b[0m \u001b[0mself\u001b[0m\u001b[1;33m.\u001b[0m\u001b[0m_get_listlike_indexer\u001b[0m\u001b[1;33m(\u001b[0m\u001b[0mkey\u001b[0m\u001b[1;33m,\u001b[0m \u001b[0maxis\u001b[0m\u001b[1;33m)\u001b[0m\u001b[1;33m\u001b[0m\u001b[1;33m\u001b[0m\u001b[0m\n\u001b[0m\u001b[0;32m   1094\u001b[0m         return self.obj._reindex_with_indexers(\n\u001b[0;32m   1095\u001b[0m             \u001b[1;33m{\u001b[0m\u001b[0maxis\u001b[0m\u001b[1;33m:\u001b[0m \u001b[1;33m[\u001b[0m\u001b[0mkeyarr\u001b[0m\u001b[1;33m,\u001b[0m \u001b[0mindexer\u001b[0m\u001b[1;33m]\u001b[0m\u001b[1;33m}\u001b[0m\u001b[1;33m,\u001b[0m \u001b[0mcopy\u001b[0m\u001b[1;33m=\u001b[0m\u001b[1;32mTrue\u001b[0m\u001b[1;33m,\u001b[0m \u001b[0mallow_dups\u001b[0m\u001b[1;33m=\u001b[0m\u001b[1;32mTrue\u001b[0m\u001b[1;33m\u001b[0m\u001b[1;33m\u001b[0m\u001b[0m\n",
      "\u001b[1;32m~\\.conda\\envs\\ado\\lib\\site-packages\\pandas\\core\\indexing.py\u001b[0m in \u001b[0;36m_get_listlike_indexer\u001b[1;34m(self, key, axis)\u001b[0m\n\u001b[0;32m   1312\u001b[0m             \u001b[0mkeyarr\u001b[0m\u001b[1;33m,\u001b[0m \u001b[0mindexer\u001b[0m\u001b[1;33m,\u001b[0m \u001b[0mnew_indexer\u001b[0m \u001b[1;33m=\u001b[0m \u001b[0max\u001b[0m\u001b[1;33m.\u001b[0m\u001b[0m_reindex_non_unique\u001b[0m\u001b[1;33m(\u001b[0m\u001b[0mkeyarr\u001b[0m\u001b[1;33m)\u001b[0m\u001b[1;33m\u001b[0m\u001b[1;33m\u001b[0m\u001b[0m\n\u001b[0;32m   1313\u001b[0m \u001b[1;33m\u001b[0m\u001b[0m\n\u001b[1;32m-> 1314\u001b[1;33m         \u001b[0mself\u001b[0m\u001b[1;33m.\u001b[0m\u001b[0m_validate_read_indexer\u001b[0m\u001b[1;33m(\u001b[0m\u001b[0mkeyarr\u001b[0m\u001b[1;33m,\u001b[0m \u001b[0mindexer\u001b[0m\u001b[1;33m,\u001b[0m \u001b[0maxis\u001b[0m\u001b[1;33m)\u001b[0m\u001b[1;33m\u001b[0m\u001b[1;33m\u001b[0m\u001b[0m\n\u001b[0m\u001b[0;32m   1315\u001b[0m \u001b[1;33m\u001b[0m\u001b[0m\n\u001b[0;32m   1316\u001b[0m         if needs_i8_conversion(ax.dtype) or isinstance(\n",
      "\u001b[1;32m~\\.conda\\envs\\ado\\lib\\site-packages\\pandas\\core\\indexing.py\u001b[0m in \u001b[0;36m_validate_read_indexer\u001b[1;34m(self, key, indexer, axis)\u001b[0m\n\u001b[0;32m   1375\u001b[0m \u001b[1;33m\u001b[0m\u001b[0m\n\u001b[0;32m   1376\u001b[0m             \u001b[0mnot_found\u001b[0m \u001b[1;33m=\u001b[0m \u001b[0mlist\u001b[0m\u001b[1;33m(\u001b[0m\u001b[0mensure_index\u001b[0m\u001b[1;33m(\u001b[0m\u001b[0mkey\u001b[0m\u001b[1;33m)\u001b[0m\u001b[1;33m[\u001b[0m\u001b[0mmissing_mask\u001b[0m\u001b[1;33m.\u001b[0m\u001b[0mnonzero\u001b[0m\u001b[1;33m(\u001b[0m\u001b[1;33m)\u001b[0m\u001b[1;33m[\u001b[0m\u001b[1;36m0\u001b[0m\u001b[1;33m]\u001b[0m\u001b[1;33m]\u001b[0m\u001b[1;33m.\u001b[0m\u001b[0munique\u001b[0m\u001b[1;33m(\u001b[0m\u001b[1;33m)\u001b[0m\u001b[1;33m)\u001b[0m\u001b[1;33m\u001b[0m\u001b[1;33m\u001b[0m\u001b[0m\n\u001b[1;32m-> 1377\u001b[1;33m             \u001b[1;32mraise\u001b[0m \u001b[0mKeyError\u001b[0m\u001b[1;33m(\u001b[0m\u001b[1;34mf\"{not_found} not in index\"\u001b[0m\u001b[1;33m)\u001b[0m\u001b[1;33m\u001b[0m\u001b[1;33m\u001b[0m\u001b[0m\n\u001b[0m\u001b[0;32m   1378\u001b[0m \u001b[1;33m\u001b[0m\u001b[0m\n\u001b[0;32m   1379\u001b[0m \u001b[1;33m\u001b[0m\u001b[0m\n",
      "\u001b[1;31mKeyError\u001b[0m: '[190, 201] not in index'"
     ]
    }
   ],
   "source": [
    "radius_for_ensemble = 1\n",
    "predictions2 = nested_CV_SVR_predict(daily_input_stat2, C2, eps2, t_length, t_unit, n_splits, test_size, radius_for_ensemble)"
   ]
  },
  {
   "cell_type": "code",
   "execution_count": null,
   "id": "12333e95",
   "metadata": {
    "scrolled": true
   },
   "outputs": [],
   "source": [
    "#predictions=pd.read_csv('tial.csv',date_parser=True)\n",
    "plot_prediction(predictions2)"
   ]
  },
  {
   "cell_type": "code",
   "execution_count": null,
   "id": "136457d5",
   "metadata": {
    "scrolled": false
   },
   "outputs": [],
   "source": [
    "r2_B= evaluate_prediction(predictions2)"
   ]
  },
  {
   "cell_type": "markdown",
   "id": "228f771a",
   "metadata": {},
   "source": [
    "### ANALYSE RESULTS AS ANOMALIES"
   ]
  },
  {
   "cell_type": "markdown",
   "id": "ae5e6ce8",
   "metadata": {},
   "source": [
    "### 1) PREDICT THE WHOLE SERIES WITH CLASSIC CV"
   ]
  },
  {
   "cell_type": "code",
   "execution_count": null,
   "id": "76be74df",
   "metadata": {},
   "outputs": [],
   "source": [
    "predictions_for_clim2 = classic_CV_SVR_predict(daily_input_stat2, C2, eps2, t_length, t_unit, n_splits)"
   ]
  },
  {
   "cell_type": "code",
   "execution_count": null,
   "id": "2e030086",
   "metadata": {},
   "outputs": [],
   "source": [
    "climatologies2 =predictions_for_clim.groupby(by=predictions_for_clim2.index.day_of_year).mean().loc[:,['prediction','true_runoff']]\n",
    "climatologies2['doty']=climatologies2.index\n"
   ]
  },
  {
   "cell_type": "code",
   "execution_count": 4,
   "id": "419702a5",
   "metadata": {
    "scrolled": true
   },
   "outputs": [
    {
     "ename": "NameError",
     "evalue": "name 'climatologies' is not defined",
     "output_type": "error",
     "traceback": [
      "\u001b[1;31m---------------------------------------------------------------------------\u001b[0m",
      "\u001b[1;31mNameError\u001b[0m                                 Traceback (most recent call last)",
      "\u001b[1;32mC:\\Users\\MMAZZO~1\\AppData\\Local\\Temp/ipykernel_7004/810781576.py\u001b[0m in \u001b[0;36m<module>\u001b[1;34m\u001b[0m\n\u001b[0;32m      1\u001b[0m \u001b[0msns\u001b[0m\u001b[1;33m.\u001b[0m\u001b[0mset_theme\u001b[0m\u001b[1;33m(\u001b[0m\u001b[0mstyle\u001b[0m\u001b[1;33m=\u001b[0m\u001b[1;34m\"whitegrid\"\u001b[0m\u001b[1;33m)\u001b[0m\u001b[1;33m\u001b[0m\u001b[1;33m\u001b[0m\u001b[0m\n\u001b[0;32m      2\u001b[0m \u001b[0max\u001b[0m\u001b[1;33m,\u001b[0m\u001b[0mfig\u001b[0m\u001b[1;33m=\u001b[0m\u001b[0mplt\u001b[0m\u001b[1;33m.\u001b[0m\u001b[0msubplots\u001b[0m\u001b[1;33m(\u001b[0m\u001b[0mfigsize\u001b[0m\u001b[1;33m=\u001b[0m\u001b[1;33m(\u001b[0m\u001b[1;36m20\u001b[0m\u001b[1;33m,\u001b[0m\u001b[1;36m10\u001b[0m\u001b[1;33m)\u001b[0m\u001b[1;33m)\u001b[0m\u001b[1;33m\u001b[0m\u001b[1;33m\u001b[0m\u001b[0m\n\u001b[1;32m----> 3\u001b[1;33m \u001b[0msns\u001b[0m\u001b[1;33m.\u001b[0m\u001b[0mlineplot\u001b[0m\u001b[1;33m(\u001b[0m\u001b[0mdata\u001b[0m\u001b[1;33m=\u001b[0m\u001b[0mclimatologies\u001b[0m\u001b[1;33m,\u001b[0m\u001b[0mx\u001b[0m\u001b[1;33m=\u001b[0m\u001b[1;34m'doty'\u001b[0m\u001b[1;33m,\u001b[0m\u001b[0my\u001b[0m\u001b[1;33m=\u001b[0m\u001b[1;34m'prediction'\u001b[0m\u001b[1;33m,\u001b[0m\u001b[0mlabel\u001b[0m\u001b[1;33m=\u001b[0m\u001b[1;34m'prediction climatology'\u001b[0m\u001b[1;33m)\u001b[0m\u001b[1;33m\u001b[0m\u001b[1;33m\u001b[0m\u001b[0m\n\u001b[0m\u001b[0;32m      4\u001b[0m \u001b[0msns\u001b[0m\u001b[1;33m.\u001b[0m\u001b[0mlineplot\u001b[0m\u001b[1;33m(\u001b[0m\u001b[0mdata\u001b[0m\u001b[1;33m=\u001b[0m\u001b[0mclimatologies\u001b[0m\u001b[1;33m,\u001b[0m\u001b[0mx\u001b[0m\u001b[1;33m=\u001b[0m\u001b[1;34m'doty'\u001b[0m\u001b[1;33m,\u001b[0m\u001b[0my\u001b[0m\u001b[1;33m=\u001b[0m\u001b[1;34m'true_runoff'\u001b[0m\u001b[1;33m,\u001b[0m\u001b[0mlabel\u001b[0m\u001b[1;33m=\u001b[0m\u001b[1;34m'real climatology'\u001b[0m\u001b[1;33m)\u001b[0m\u001b[1;33m\u001b[0m\u001b[1;33m\u001b[0m\u001b[0m\n\u001b[0;32m      5\u001b[0m \u001b[0mplt\u001b[0m\u001b[1;33m.\u001b[0m\u001b[0mlegend\u001b[0m\u001b[1;33m(\u001b[0m\u001b[1;33m)\u001b[0m\u001b[1;33m\u001b[0m\u001b[1;33m\u001b[0m\u001b[0m\n",
      "\u001b[1;31mNameError\u001b[0m: name 'climatologies' is not defined"
     ]
    },
    {
     "data": {
      "image/png": "[encoded data removed]",
      "text/plain": [
       "<Figure size 1440x720 with 1 Axes>"
      ]
     },
     "metadata": {},
     "output_type": "display_data"
    }
   ],
   "source": [
    "sns.set_theme(style=\"whitegrid\")\n",
    "ax,fig=plt.subplots(figsize=(20,10))\n",
    "sns.lineplot(data=climatologies,x='doty',y='prediction',label='prediction climatology')\n",
    "sns.lineplot(data=climatologies,x='doty',y='true_runoff',label='real climatology')\n",
    "plt.legend()"
   ]
  },
  {
   "cell_type": "markdown",
   "id": "f6fe45d0",
   "metadata": {},
   "source": [
    "### 2) COMPUTE THE ANOMALIES AND PLOT THEM"
   ]
  },
  {
   "cell_type": "code",
   "execution_count": null,
   "id": "c3c36932",
   "metadata": {
    "scrolled": true
   },
   "outputs": [],
   "source": [
    "a2=compute_anomalies(climatologies2, predictions2)\n",
    "a2['split']=predictions2.split\n",
    "\n",
    "plot_anomalies(a2)"
   ]
  },
  {
   "cell_type": "markdown",
   "id": "74c74915",
   "metadata": {},
   "source": [
    "## C) NO_SNOW, T_UNIT = 10"
   ]
  },
  {
   "cell_type": "code",
   "execution_count": 3,
   "id": "f891f680",
   "metadata": {},
   "outputs": [],
   "source": [
    "daily_input_stat3 = daily_input_stat.drop(columns=[c for c in daily_input_stat.columns if c[0]=='E'])\n",
    "\n",
    "t_unit=10"
   ]
  },
  {
   "cell_type": "code",
   "execution_count": null,
   "id": "6bf784d0",
   "metadata": {
    "scrolled": true
   },
   "outputs": [
    {
     "name": "stdout",
     "output_type": "stream",
     "text": [
      "Fitting 1 folds for each of 50 candidates, totalling 50 fits\n"
     ]
    },
    {
     "name": "stderr",
     "output_type": "stream",
     "text": [
      "C:\\Users\\mmazzolini\\.conda\\envs\\ado\\lib\\site-packages\\sklearn\\compose\\_target.py:152: UserWarning: The provided functions or transformer are not strictly inverse of each other. If you are sure you want to proceed regardless, set 'check_inverse=False'\n",
      "  warnings.warn(\"The provided functions or transformer are\"\n"
     ]
    },
    {
     "name": "stdout",
     "output_type": "stream",
     "text": [
      "Fitting 1 folds for each of 50 candidates, totalling 50 fits\n"
     ]
    },
    {
     "name": "stderr",
     "output_type": "stream",
     "text": [
      "C:\\Users\\mmazzolini\\.conda\\envs\\ado\\lib\\site-packages\\sklearn\\compose\\_target.py:152: UserWarning: The provided functions or transformer are not strictly inverse of each other. If you are sure you want to proceed regardless, set 'check_inverse=False'\n",
      "  warnings.warn(\"The provided functions or transformer are\"\n"
     ]
    },
    {
     "name": "stdout",
     "output_type": "stream",
     "text": [
      "Fitting 1 folds for each of 50 candidates, totalling 50 fits\n"
     ]
    },
    {
     "name": "stderr",
     "output_type": "stream",
     "text": [
      "C:\\Users\\mmazzolini\\.conda\\envs\\ado\\lib\\site-packages\\sklearn\\compose\\_target.py:152: UserWarning: The provided functions or transformer are not strictly inverse of each other. If you are sure you want to proceed regardless, set 'check_inverse=False'\n",
      "  warnings.warn(\"The provided functions or transformer are\"\n"
     ]
    },
    {
     "name": "stdout",
     "output_type": "stream",
     "text": [
      "Fitting 1 folds for each of 50 candidates, totalling 50 fits\n"
     ]
    }
   ],
   "source": [
    "C, eps = SVR_nested_CV_gridsearch(daily_input_stat3, C_range, epsilon_range, t_range, t_unit, n_splits, test_size)\n",
    "print(f'C3={C3}')\n",
    "print(f'eps3={eps3}')"
   ]
  },
  {
   "cell_type": "markdown",
   "id": "650df7cf",
   "metadata": {},
   "source": [
    "C2=0.5994842503189409\n",
    "eps=0.001"
   ]
  },
  {
   "cell_type": "markdown",
   "id": "c2ff44a9",
   "metadata": {},
   "source": [
    "### PREDICT RUNOFF ON TEST SET AND QUANTIFY THE PERFORMANCE"
   ]
  },
  {
   "cell_type": "code",
   "execution_count": null,
   "id": "7868a11c",
   "metadata": {
    "scrolled": true
   },
   "outputs": [],
   "source": [
    "radius_for_ensemble = 1\n",
    "predictions3 = nested_CV_SVR_predict(daily_input_stat, C3, eps3, t_length, t_unit, n_splits, test_size, radius_for_ensemble)"
   ]
  },
  {
   "cell_type": "code",
   "execution_count": null,
   "id": "12333e95",
   "metadata": {
    "scrolled": true
   },
   "outputs": [],
   "source": [
    "#predictions=pd.read_csv('tial.csv',date_parser=True)\n",
    "plot_prediction(predictions3)"
   ]
  },
  {
   "cell_type": "code",
   "execution_count": null,
   "id": "136457d5",
   "metadata": {
    "scrolled": false
   },
   "outputs": [],
   "source": [
    "r2_B= evaluate_prediction(predictions3)"
   ]
  },
  {
   "cell_type": "markdown",
   "id": "228f771a",
   "metadata": {},
   "source": [
    "### ANALYSE RESULTS AS ANOMALIES"
   ]
  },
  {
   "cell_type": "markdown",
   "id": "ae5e6ce8",
   "metadata": {},
   "source": [
    "### 1) PREDICT THE WHOLE SERIES WITH CLASSIC CV"
   ]
  },
  {
   "cell_type": "code",
   "execution_count": null,
   "id": "76be74df",
   "metadata": {},
   "outputs": [],
   "source": [
    "predictions_for_clim3 = classic_CV_SVR_predict(daily_input_stat3, C3, eps3, t_length, t_unit, n_splits)"
   ]
  },
  {
   "cell_type": "code",
   "execution_count": null,
   "id": "2e030086",
   "metadata": {},
   "outputs": [],
   "source": [
    "climatologies3 =predictions_for_clim.groupby(by=predictions_for_clim3.index.day_of_year).mean().loc[:,['prediction','true_runoff']]\n",
    "climatologies3['doty']=climatologies3.index\n"
   ]
  },
  {
   "cell_type": "code",
   "execution_count": 4,
   "id": "419702a5",
   "metadata": {
    "scrolled": true
   },
   "outputs": [
    {
     "ename": "NameError",
     "evalue": "name 'climatologies' is not defined",
     "output_type": "error",
     "traceback": [
      "\u001b[1;31m---------------------------------------------------------------------------\u001b[0m",
      "\u001b[1;31mNameError\u001b[0m                                 Traceback (most recent call last)",
      "\u001b[1;32mC:\\Users\\MMAZZO~1\\AppData\\Local\\Temp/ipykernel_7004/810781576.py\u001b[0m in \u001b[0;36m<module>\u001b[1;34m\u001b[0m\n\u001b[0;32m      1\u001b[0m \u001b[0msns\u001b[0m\u001b[1;33m.\u001b[0m\u001b[0mset_theme\u001b[0m\u001b[1;33m(\u001b[0m\u001b[0mstyle\u001b[0m\u001b[1;33m=\u001b[0m\u001b[1;34m\"whitegrid\"\u001b[0m\u001b[1;33m)\u001b[0m\u001b[1;33m\u001b[0m\u001b[1;33m\u001b[0m\u001b[0m\n\u001b[0;32m      2\u001b[0m \u001b[0max\u001b[0m\u001b[1;33m,\u001b[0m\u001b[0mfig\u001b[0m\u001b[1;33m=\u001b[0m\u001b[0mplt\u001b[0m\u001b[1;33m.\u001b[0m\u001b[0msubplots\u001b[0m\u001b[1;33m(\u001b[0m\u001b[0mfigsize\u001b[0m\u001b[1;33m=\u001b[0m\u001b[1;33m(\u001b[0m\u001b[1;36m20\u001b[0m\u001b[1;33m,\u001b[0m\u001b[1;36m10\u001b[0m\u001b[1;33m)\u001b[0m\u001b[1;33m)\u001b[0m\u001b[1;33m\u001b[0m\u001b[1;33m\u001b[0m\u001b[0m\n\u001b[1;32m----> 3\u001b[1;33m \u001b[0msns\u001b[0m\u001b[1;33m.\u001b[0m\u001b[0mlineplot\u001b[0m\u001b[1;33m(\u001b[0m\u001b[0mdata\u001b[0m\u001b[1;33m=\u001b[0m\u001b[0mclimatologies\u001b[0m\u001b[1;33m,\u001b[0m\u001b[0mx\u001b[0m\u001b[1;33m=\u001b[0m\u001b[1;34m'doty'\u001b[0m\u001b[1;33m,\u001b[0m\u001b[0my\u001b[0m\u001b[1;33m=\u001b[0m\u001b[1;34m'prediction'\u001b[0m\u001b[1;33m,\u001b[0m\u001b[0mlabel\u001b[0m\u001b[1;33m=\u001b[0m\u001b[1;34m'prediction climatology'\u001b[0m\u001b[1;33m)\u001b[0m\u001b[1;33m\u001b[0m\u001b[1;33m\u001b[0m\u001b[0m\n\u001b[0m\u001b[0;32m      4\u001b[0m \u001b[0msns\u001b[0m\u001b[1;33m.\u001b[0m\u001b[0mlineplot\u001b[0m\u001b[1;33m(\u001b[0m\u001b[0mdata\u001b[0m\u001b[1;33m=\u001b[0m\u001b[0mclimatologies\u001b[0m\u001b[1;33m,\u001b[0m\u001b[0mx\u001b[0m\u001b[1;33m=\u001b[0m\u001b[1;34m'doty'\u001b[0m\u001b[1;33m,\u001b[0m\u001b[0my\u001b[0m\u001b[1;33m=\u001b[0m\u001b[1;34m'true_runoff'\u001b[0m\u001b[1;33m,\u001b[0m\u001b[0mlabel\u001b[0m\u001b[1;33m=\u001b[0m\u001b[1;34m'real climatology'\u001b[0m\u001b[1;33m)\u001b[0m\u001b[1;33m\u001b[0m\u001b[1;33m\u001b[0m\u001b[0m\n\u001b[0;32m      5\u001b[0m \u001b[0mplt\u001b[0m\u001b[1;33m.\u001b[0m\u001b[0mlegend\u001b[0m\u001b[1;33m(\u001b[0m\u001b[1;33m)\u001b[0m\u001b[1;33m\u001b[0m\u001b[1;33m\u001b[0m\u001b[0m\n",
      "\u001b[1;31mNameError\u001b[0m: name 'climatologies' is not defined"
     ]
    },
    {
     "data": {
      "image/png": "[encoded data removed]",
      "text/plain": [
       "<Figure size 1440x720 with 1 Axes>"
      ]
     },
     "metadata": {},
     "output_type": "display_data"
    }
   ],
   "source": [
    "sns.set_theme(style=\"whitegrid\")\n",
    "ax,fig=plt.subplots(figsize=(20,10))\n",
    "sns.lineplot(data=climatologies,x='doty',y='prediction',label='prediction climatology')\n",
    "sns.lineplot(data=climatologies,x='doty',y='true_runoff',label='real climatology')\n",
    "plt.legend()"
   ]
  },
  {
   "cell_type": "markdown",
   "id": "f6fe45d0",
   "metadata": {},
   "source": [
    "### 2) COMPUTE THE ANOMALIES AND PLOT THEM"
   ]
  },
  {
   "cell_type": "code",
   "execution_count": null,
   "id": "c3c36932",
   "metadata": {
    "scrolled": true
   },
   "outputs": [],
   "source": [
    "a3=compute_anomalies(climatologies3, predictions3)\n",
    "a3['split']=predictions3.split\n",
    "\n",
    "plot_anomalies(a3)"
   ]
  },
  {
   "cell_type": "code",
   "execution_count": null,
   "id": "1e619958",
   "metadata": {},
   "outputs": [],
   "source": []
  }
 ],
 "metadata": {
  "kernelspec": {
   "display_name": "Python 3 (ipykernel)",
   "language": "python",
   "name": "python3"
  },
  "language_info": {
   "codemirror_mode": {
    "name": "ipython",
    "version": 3
   },
   "file_extension": ".py",
   "mimetype": "text/x-python",
   "name": "python",
   "nbconvert_exporter": "python",
   "pygments_lexer": "ipython3",
   "version": "3.9.6"
  }
 },
 "nbformat": 4,
 "nbformat_minor": 5
}
