{
 "cells": [
  {
   "cell_type": "code",
   "execution_count": 1,
   "id": "eb0bc111",
   "metadata": {},
   "outputs": [],
   "source": [
    "import psycopg2\n",
    "import numpy as np"
   ]
  },
  {
   "cell_type": "code",
   "execution_count": 2,
   "id": "f4f77bb5",
   "metadata": {},
   "outputs": [],
   "source": [
    "    conn = psycopg2.connect(host=\"10.8.244.31\",\n",
    "                       database=\"climate_data\",\n",
    "                       user=\"ado_admin\",\n",
    "                       password=\"oda347hydro\",\n",
    "                       port=5432)\n",
    "    cur = conn.cursor()\n",
    "    "
   ]
  },
  {
   "cell_type": "code",
   "execution_count": 3,
   "id": "11a7f444",
   "metadata": {},
   "outputs": [],
   "source": [
    "date = np.datetime64(\"1970-01-01\")\n",
    "STAT_CODE='ADO_DSC_SI03_0148'\n",
    "discharge= 90\n",
    "# get the metadata\n",
    "query = f\"\"\"\n",
    "        INSERT INTO \"ML_discharge\".\"mod_disc\"(\"id_station\", \"date\", \"discharge\") \n",
    "        VALUES ('{STAT_CODE}', '{date}', '{discharge}'); \n",
    "        \"\"\"\n",
    "cur.execute(query)\n",
    "conn.commit()\n",
    "\n",
    "# close the connection when finished\n",
    "cur.close()\n",
    "conn.close()"
   ]
  },
  {
   "cell_type": "code",
   "execution_count": null,
   "id": "402989c3",
   "metadata": {},
   "outputs": [],
   "source": []
  }
 ],
 "metadata": {
  "kernelspec": {
   "display_name": "Python 3 (ipykernel)",
   "language": "python",
   "name": "python3"
  },
  "language_info": {
   "codemirror_mode": {
    "name": "ipython",
    "version": 3
   },
   "file_extension": ".py",
   "mimetype": "text/x-python",
   "name": "python",
   "nbconvert_exporter": "python",
   "pygments_lexer": "ipython3",
   "version": "3.9.6"
  }
 },
 "nbformat": 4,
 "nbformat_minor": 5
}
