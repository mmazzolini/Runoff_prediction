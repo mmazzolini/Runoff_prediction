{
 "cells": [
  {
   "cell_type": "markdown",
   "id": "d2efdfdb",
   "metadata": {},
   "source": [
    "# DRAVA RIVER BASIN\n",
    "\n",
    "13/10/2021\n",
    "\n",
    "In this notebook results of different feature selections are compared for the Candoglia basin (of which we have around 40 years of data)\n",
    "\n",
    "Input data is clipped from ERA5 metereological reanalysis quantile mapped and downscaled.\n",
    "\n",
    "10 days average (for the previous year) of pecipitation, temperature and potential evapotranspiration are selected as input.\n",
    "\n",
    "\n",
    "The settings are the following:\n",
    "\n",
    "    A) 180 features are selected with PCA, the same numeriosity as setting C) ;\n",
    "\n",
    "    B) 36 features are selectedwith PCA, the same numeriosity as setting D) ;\n",
    "        \n",
    "    C) metereological inputs spatial statistics are used as input: mean, the 5th, 25th, 75th and 95th quantiles are selected.\n",
    "        \n",
    "    D) metereological inputs are spatially averaged.\n",
    "\n",
    "\n"
   ]
  },
  {
   "cell_type": "markdown",
   "id": "19d31cfb",
   "metadata": {},
   "source": [
    "import sys\n",
    "sys.path.append('/time_unit')"
   ]
  },
  {
   "cell_type": "code",
   "execution_count": 1,
   "id": "efcc49ff",
   "metadata": {},
   "outputs": [],
   "source": [
    "from sf_runoff import daily_climatology, spatial_avg_daily_input, spatial_stats_daily_input, compute_anomalies, create_it_matrix\n",
    "from nested_CV import SVR_nested_CV_gridsearch, SVR_PCA_nested_CV_gridsearch\n",
    "from test import evaluate_prediction, plot_prediction, plot_anomalies\n",
    "from test import nested_CV_PCA_SVR_predict, nested_CV_SVR_predict\n",
    "from classic_CV_predict import classic_CV_PCA_SVR_predict, classic_CV_SVR_predict\n",
    "\n",
    "\n",
    "import pandas as pd\n",
    "import matplotlib.pyplot as plt\n",
    "import numpy as np\n",
    "import pandas as pd\n",
    "import numpy as np\n",
    "from scipy.stats import gaussian_kde\n",
    "\n",
    "from sklearn.svm import SVR\n",
    "from sklearn.preprocessing import StandardScaler\n",
    "from sklearn.pipeline import make_pipeline\n",
    "from sklearn.compose import TransformedTargetRegressor\n",
    "from sklearn.model_selection import GridSearchCV,TimeSeriesSplit\n",
    "from sklearn.metrics import mean_squared_error\n",
    "from sklearn.decomposition import PCA\n",
    "\n",
    "\n",
    "import matplotlib.pyplot as plt\n",
    "import os\n",
    "import pdb\n",
    "import seaborn as sns"
   ]
  },
  {
   "cell_type": "code",
   "execution_count": 2,
   "id": "cd514cbe",
   "metadata": {},
   "outputs": [],
   "source": [
    "path=r'C:\\Users\\mmazzolini\\OneDrive - Scientific Network South Tyrol\\Documents\\conda\\daily_input\\\\'\n",
    "\n",
    "daily_input = pd.read_csv(path+'HEDravograd_Drava_1952_2019.txt', index_col=0, parse_dates=True)\n",
    "\n",
    "daily_input_TPE = spatial_avg_daily_input(daily_input)\n",
    "\n",
    "daily_input_stat = spatial_stats_daily_input(daily_input)"
   ]
  },
  {
   "cell_type": "code",
   "execution_count": 3,
   "id": "a6f9083a",
   "metadata": {},
   "outputs": [
    {
     "data": {
      "text/plain": [
       "(14610, 1517)"
      ]
     },
     "execution_count": 3,
     "metadata": {},
     "output_type": "execute_result"
    }
   ],
   "source": [
    "daily_input.shape"
   ]
  },
  {
   "cell_type": "code",
   "execution_count": 3,
   "id": "545e52d8",
   "metadata": {},
   "outputs": [
    {
     "data": {
      "text/plain": [
       "<module 'test' from 'C:\\\\Users\\\\mmazzolini\\\\OneDrive - Scientific Network South Tyrol\\\\Documents\\\\conda\\\\Runoff_prediction\\\\test.py'>"
      ]
     },
     "execution_count": 3,
     "metadata": {},
     "output_type": "execute_result"
    }
   ],
   "source": [
    "import sys, importlib\n",
    "importlib.reload(sys.modules['test'])\n"
   ]
  },
  {
   "cell_type": "code",
   "execution_count": 4,
   "id": "a024e5fe",
   "metadata": {},
   "outputs": [],
   "source": [
    "t_unit=10\n",
    "\n",
    "\n",
    "#define the possible parameters value (where Gridsearch is applied)\n",
    "\n",
    "C_range=np.logspace(-2, 2, 10)\n",
    "epsilon_range=np.logspace(-3, +0, 5)\n",
    "#n_range = [17, 50, 200]\n",
    "components_range = [5*3*36]\n",
    "#do not enlarge t_range for now\n",
    "t_range=[36]\n",
    "t_length=t_range[0]\n",
    "n_splits=5\n",
    "test_size=365"
   ]
  },
  {
   "cell_type": "markdown",
   "id": "e7d5c48a",
   "metadata": {},
   "source": [
    "# A) PCA+SVR"
   ]
  },
  {
   "cell_type": "markdown",
   "id": "18861993",
   "metadata": {},
   "source": [
    "### TRAIN A PCA+SVR MODEL "
   ]
  },
  {
   "cell_type": "code",
   "execution_count": 5,
   "id": "aacb3a01",
   "metadata": {
    "scrolled": true
   },
   "outputs": [
    {
     "name": "stdout",
     "output_type": "stream",
     "text": [
      "Fitting 1 folds for each of 50 candidates, totalling 50 fits\n"
     ]
    },
    {
     "ename": "MemoryError",
     "evalue": "Unable to allocate 2.43 GiB for an array with shape (54576, 11930) and data type float32",
     "output_type": "error",
     "traceback": [
      "\u001b[1;31m---------------------------------------------------------------------------\u001b[0m",
      "\u001b[1;31m_RemoteTraceback\u001b[0m                          Traceback (most recent call last)",
      "\u001b[1;31m_RemoteTraceback\u001b[0m: \n\"\"\"\nTraceback (most recent call last):\n  File \"C:\\Users\\mmazzolini\\.conda\\envs\\ado\\lib\\site-packages\\joblib\\externals\\loky\\process_executor.py\", line 431, in _process_worker\n    r = call_item()\n  File \"C:\\Users\\mmazzolini\\.conda\\envs\\ado\\lib\\site-packages\\joblib\\externals\\loky\\process_executor.py\", line 285, in __call__\n    return self.fn(*self.args, **self.kwargs)\n  File \"C:\\Users\\mmazzolini\\.conda\\envs\\ado\\lib\\site-packages\\joblib\\_parallel_backends.py\", line 595, in __call__\n    return self.func(*args, **kwargs)\n  File \"C:\\Users\\mmazzolini\\.conda\\envs\\ado\\lib\\site-packages\\joblib\\parallel.py\", line 262, in __call__\n    return [func(*args, **kwargs)\n  File \"C:\\Users\\mmazzolini\\.conda\\envs\\ado\\lib\\site-packages\\joblib\\parallel.py\", line 262, in <listcomp>\n    return [func(*args, **kwargs)\n  File \"C:\\Users\\mmazzolini\\.conda\\envs\\ado\\lib\\site-packages\\sklearn\\utils\\fixes.py\", line 222, in __call__\n    return self.function(*args, **kwargs)\n  File \"C:\\Users\\mmazzolini\\.conda\\envs\\ado\\lib\\site-packages\\sklearn\\model_selection\\_validation.py\", line 590, in _fit_and_score\n    X_train, y_train = _safe_split(estimator, X, y, train)\n  File \"C:\\Users\\mmazzolini\\.conda\\envs\\ado\\lib\\site-packages\\sklearn\\utils\\metaestimators.py\", line 211, in _safe_split\n    X_subset = _safe_indexing(X, indices)\n  File \"C:\\Users\\mmazzolini\\.conda\\envs\\ado\\lib\\site-packages\\sklearn\\utils\\__init__.py\", line 342, in _safe_indexing\n    return _pandas_indexing(X, indices, indices_dtype, axis=axis)\n  File \"C:\\Users\\mmazzolini\\.conda\\envs\\ado\\lib\\site-packages\\sklearn\\utils\\__init__.py\", line 193, in _pandas_indexing\n    return indexer[:, key] if axis else indexer[key]\n  File \"C:\\Users\\mmazzolini\\.conda\\envs\\ado\\lib\\site-packages\\pandas\\core\\indexing.py\", line 931, in __getitem__\n    return self._getitem_axis(maybe_callable, axis=axis)\n  File \"C:\\Users\\mmazzolini\\.conda\\envs\\ado\\lib\\site-packages\\pandas\\core\\indexing.py\", line 1557, in _getitem_axis\n    return self._get_list_axis(key, axis=axis)\n  File \"C:\\Users\\mmazzolini\\.conda\\envs\\ado\\lib\\site-packages\\pandas\\core\\indexing.py\", line 1530, in _get_list_axis\n    return self.obj._take_with_is_copy(key, axis=axis)\n  File \"C:\\Users\\mmazzolini\\.conda\\envs\\ado\\lib\\site-packages\\pandas\\core\\generic.py\", line 3628, in _take_with_is_copy\n    result = self.take(indices=indices, axis=axis)\n  File \"C:\\Users\\mmazzolini\\.conda\\envs\\ado\\lib\\site-packages\\pandas\\core\\generic.py\", line 3615, in take\n    new_data = self._mgr.take(\n  File \"C:\\Users\\mmazzolini\\.conda\\envs\\ado\\lib\\site-packages\\pandas\\core\\internals\\managers.py\", line 865, in take\n    return self.reindex_indexer(\n  File \"C:\\Users\\mmazzolini\\.conda\\envs\\ado\\lib\\site-packages\\pandas\\core\\internals\\managers.py\", line 680, in reindex_indexer\n    new_blocks = [\n  File \"C:\\Users\\mmazzolini\\.conda\\envs\\ado\\lib\\site-packages\\pandas\\core\\internals\\managers.py\", line 681, in <listcomp>\n    blk.take_nd(\n  File \"C:\\Users\\mmazzolini\\.conda\\envs\\ado\\lib\\site-packages\\pandas\\core\\internals\\blocks.py\", line 1145, in take_nd\n    new_values = algos.take_nd(\n  File \"C:\\Users\\mmazzolini\\.conda\\envs\\ado\\lib\\site-packages\\pandas\\core\\array_algos\\take.py\", line 108, in take_nd\n    return _take_nd_ndarray(arr, indexer, axis, fill_value, allow_fill)\n  File \"C:\\Users\\mmazzolini\\.conda\\envs\\ado\\lib\\site-packages\\pandas\\core\\array_algos\\take.py\", line 149, in _take_nd_ndarray\n    out = np.empty(out_shape, dtype=dtype)\nnumpy.core._exceptions._ArrayMemoryError: Unable to allocate 2.43 GiB for an array with shape (54576, 11930) and data type float32\n\"\"\"",
      "\nThe above exception was the direct cause of the following exception:\n",
      "\u001b[1;31mMemoryError\u001b[0m                               Traceback (most recent call last)",
      "\u001b[1;32mC:\\Users\\MMAZZO~1\\AppData\\Local\\Temp/ipykernel_10276/1277353345.py\u001b[0m in \u001b[0;36m<module>\u001b[1;34m\u001b[0m\n\u001b[1;32m----> 1\u001b[1;33m \u001b[0mC\u001b[0m\u001b[1;33m,\u001b[0m\u001b[0meps\u001b[0m\u001b[1;33m,\u001b[0m\u001b[0mn\u001b[0m\u001b[1;33m=\u001b[0m\u001b[0mSVR_PCA_nested_CV_gridsearch\u001b[0m\u001b[1;33m(\u001b[0m\u001b[0mdaily_input\u001b[0m\u001b[1;33m,\u001b[0m \u001b[0mC_range\u001b[0m\u001b[1;33m,\u001b[0m  \u001b[0mepsilon_range\u001b[0m\u001b[1;33m,\u001b[0m \u001b[0mcomponents_range\u001b[0m\u001b[1;33m,\u001b[0m \u001b[0mt_range\u001b[0m\u001b[1;33m,\u001b[0m\u001b[0mt_unit\u001b[0m\u001b[1;33m,\u001b[0m\u001b[0mn_splits\u001b[0m\u001b[1;33m,\u001b[0m\u001b[0mtest_size\u001b[0m\u001b[1;33m)\u001b[0m\u001b[1;33m\u001b[0m\u001b[1;33m\u001b[0m\u001b[0m\n\u001b[0m\u001b[0;32m      2\u001b[0m \u001b[0mprint\u001b[0m\u001b[1;33m(\u001b[0m\u001b[1;34mf'C={C}'\u001b[0m\u001b[1;33m)\u001b[0m\u001b[1;33m\u001b[0m\u001b[1;33m\u001b[0m\u001b[0m\n\u001b[0;32m      3\u001b[0m \u001b[0mprint\u001b[0m\u001b[1;33m(\u001b[0m\u001b[1;34mf'eps={eps}'\u001b[0m\u001b[1;33m)\u001b[0m\u001b[1;33m\u001b[0m\u001b[1;33m\u001b[0m\u001b[0m\n\u001b[0;32m      4\u001b[0m \u001b[0mprint\u001b[0m\u001b[1;33m(\u001b[0m\u001b[1;34mf'n={n}'\u001b[0m\u001b[1;33m)\u001b[0m\u001b[1;33m\u001b[0m\u001b[1;33m\u001b[0m\u001b[0m\n",
      "\u001b[1;32m~\\OneDrive - Scientific Network South Tyrol\\Documents\\conda\\Runoff_prediction\\nested_CV.py\u001b[0m in \u001b[0;36mSVR_PCA_nested_CV_gridsearch\u001b[1;34m(daily_input, C_range, epsilon_range, components_range, t_range, t_unit, n_splits, test_size)\u001b[0m\n\u001b[0;32m    133\u001b[0m \u001b[1;33m\u001b[0m\u001b[0m\n\u001b[0;32m    134\u001b[0m             \u001b[1;31m# execute the grid search\u001b[0m\u001b[1;33m\u001b[0m\u001b[1;33m\u001b[0m\u001b[1;33m\u001b[0m\u001b[0m\n\u001b[1;32m--> 135\u001b[1;33m             \u001b[0msvr_model\u001b[0m\u001b[1;33m.\u001b[0m\u001b[0mfit\u001b[0m\u001b[1;33m(\u001b[0m\u001b[0mX\u001b[0m\u001b[1;33m,\u001b[0m \u001b[0my\u001b[0m\u001b[1;33m)\u001b[0m\u001b[1;33m\u001b[0m\u001b[1;33m\u001b[0m\u001b[0m\n\u001b[0m\u001b[0;32m    136\u001b[0m             \u001b[0mall_models\u001b[0m\u001b[1;33m.\u001b[0m\u001b[0mappend\u001b[0m\u001b[1;33m(\u001b[0m\u001b[0mpd\u001b[0m\u001b[1;33m.\u001b[0m\u001b[0mDataFrame\u001b[0m\u001b[1;33m(\u001b[0m\u001b[0msvr_model\u001b[0m\u001b[1;33m.\u001b[0m\u001b[0mcv_results_\u001b[0m\u001b[1;33m)\u001b[0m\u001b[1;33m)\u001b[0m\u001b[1;33m\u001b[0m\u001b[1;33m\u001b[0m\u001b[0m\n\u001b[0;32m    137\u001b[0m \u001b[1;33m\u001b[0m\u001b[0m\n",
      "\u001b[1;32m~\\.conda\\envs\\ado\\lib\\site-packages\\sklearn\\utils\\validation.py\u001b[0m in \u001b[0;36minner_f\u001b[1;34m(*args, **kwargs)\u001b[0m\n\u001b[0;32m     61\u001b[0m             \u001b[0mextra_args\u001b[0m \u001b[1;33m=\u001b[0m \u001b[0mlen\u001b[0m\u001b[1;33m(\u001b[0m\u001b[0margs\u001b[0m\u001b[1;33m)\u001b[0m \u001b[1;33m-\u001b[0m \u001b[0mlen\u001b[0m\u001b[1;33m(\u001b[0m\u001b[0mall_args\u001b[0m\u001b[1;33m)\u001b[0m\u001b[1;33m\u001b[0m\u001b[1;33m\u001b[0m\u001b[0m\n\u001b[0;32m     62\u001b[0m             \u001b[1;32mif\u001b[0m \u001b[0mextra_args\u001b[0m \u001b[1;33m<=\u001b[0m \u001b[1;36m0\u001b[0m\u001b[1;33m:\u001b[0m\u001b[1;33m\u001b[0m\u001b[1;33m\u001b[0m\u001b[0m\n\u001b[1;32m---> 63\u001b[1;33m                 \u001b[1;32mreturn\u001b[0m \u001b[0mf\u001b[0m\u001b[1;33m(\u001b[0m\u001b[1;33m*\u001b[0m\u001b[0margs\u001b[0m\u001b[1;33m,\u001b[0m \u001b[1;33m**\u001b[0m\u001b[0mkwargs\u001b[0m\u001b[1;33m)\u001b[0m\u001b[1;33m\u001b[0m\u001b[1;33m\u001b[0m\u001b[0m\n\u001b[0m\u001b[0;32m     64\u001b[0m \u001b[1;33m\u001b[0m\u001b[0m\n\u001b[0;32m     65\u001b[0m             \u001b[1;31m# extra_args > 0\u001b[0m\u001b[1;33m\u001b[0m\u001b[1;33m\u001b[0m\u001b[1;33m\u001b[0m\u001b[0m\n",
      "\u001b[1;32m~\\.conda\\envs\\ado\\lib\\site-packages\\sklearn\\model_selection\\_search.py\u001b[0m in \u001b[0;36mfit\u001b[1;34m(self, X, y, groups, **fit_params)\u001b[0m\n\u001b[0;32m    839\u001b[0m                 \u001b[1;32mreturn\u001b[0m \u001b[0mresults\u001b[0m\u001b[1;33m\u001b[0m\u001b[1;33m\u001b[0m\u001b[0m\n\u001b[0;32m    840\u001b[0m \u001b[1;33m\u001b[0m\u001b[0m\n\u001b[1;32m--> 841\u001b[1;33m             \u001b[0mself\u001b[0m\u001b[1;33m.\u001b[0m\u001b[0m_run_search\u001b[0m\u001b[1;33m(\u001b[0m\u001b[0mevaluate_candidates\u001b[0m\u001b[1;33m)\u001b[0m\u001b[1;33m\u001b[0m\u001b[1;33m\u001b[0m\u001b[0m\n\u001b[0m\u001b[0;32m    842\u001b[0m \u001b[1;33m\u001b[0m\u001b[0m\n\u001b[0;32m    843\u001b[0m             \u001b[1;31m# multimetric is determined here because in the case of a callable\u001b[0m\u001b[1;33m\u001b[0m\u001b[1;33m\u001b[0m\u001b[1;33m\u001b[0m\u001b[0m\n",
      "\u001b[1;32m~\\.conda\\envs\\ado\\lib\\site-packages\\sklearn\\model_selection\\_search.py\u001b[0m in \u001b[0;36m_run_search\u001b[1;34m(self, evaluate_candidates)\u001b[0m\n\u001b[0;32m   1294\u001b[0m     \u001b[1;32mdef\u001b[0m \u001b[0m_run_search\u001b[0m\u001b[1;33m(\u001b[0m\u001b[0mself\u001b[0m\u001b[1;33m,\u001b[0m \u001b[0mevaluate_candidates\u001b[0m\u001b[1;33m)\u001b[0m\u001b[1;33m:\u001b[0m\u001b[1;33m\u001b[0m\u001b[1;33m\u001b[0m\u001b[0m\n\u001b[0;32m   1295\u001b[0m         \u001b[1;34m\"\"\"Search all candidates in param_grid\"\"\"\u001b[0m\u001b[1;33m\u001b[0m\u001b[1;33m\u001b[0m\u001b[0m\n\u001b[1;32m-> 1296\u001b[1;33m         \u001b[0mevaluate_candidates\u001b[0m\u001b[1;33m(\u001b[0m\u001b[0mParameterGrid\u001b[0m\u001b[1;33m(\u001b[0m\u001b[0mself\u001b[0m\u001b[1;33m.\u001b[0m\u001b[0mparam_grid\u001b[0m\u001b[1;33m)\u001b[0m\u001b[1;33m)\u001b[0m\u001b[1;33m\u001b[0m\u001b[1;33m\u001b[0m\u001b[0m\n\u001b[0m\u001b[0;32m   1297\u001b[0m \u001b[1;33m\u001b[0m\u001b[0m\n\u001b[0;32m   1298\u001b[0m \u001b[1;33m\u001b[0m\u001b[0m\n",
      "\u001b[1;32m~\\.conda\\envs\\ado\\lib\\site-packages\\sklearn\\model_selection\\_search.py\u001b[0m in \u001b[0;36mevaluate_candidates\u001b[1;34m(candidate_params, cv, more_results)\u001b[0m\n\u001b[0;32m    793\u001b[0m                               n_splits, n_candidates, n_candidates * n_splits))\n\u001b[0;32m    794\u001b[0m \u001b[1;33m\u001b[0m\u001b[0m\n\u001b[1;32m--> 795\u001b[1;33m                 out = parallel(delayed(_fit_and_score)(clone(base_estimator),\n\u001b[0m\u001b[0;32m    796\u001b[0m                                                        \u001b[0mX\u001b[0m\u001b[1;33m,\u001b[0m \u001b[0my\u001b[0m\u001b[1;33m,\u001b[0m\u001b[1;33m\u001b[0m\u001b[1;33m\u001b[0m\u001b[0m\n\u001b[0;32m    797\u001b[0m                                                        \u001b[0mtrain\u001b[0m\u001b[1;33m=\u001b[0m\u001b[0mtrain\u001b[0m\u001b[1;33m,\u001b[0m \u001b[0mtest\u001b[0m\u001b[1;33m=\u001b[0m\u001b[0mtest\u001b[0m\u001b[1;33m,\u001b[0m\u001b[1;33m\u001b[0m\u001b[1;33m\u001b[0m\u001b[0m\n",
      "\u001b[1;32m~\\.conda\\envs\\ado\\lib\\site-packages\\joblib\\parallel.py\u001b[0m in \u001b[0;36m__call__\u001b[1;34m(self, iterable)\u001b[0m\n\u001b[0;32m   1052\u001b[0m \u001b[1;33m\u001b[0m\u001b[0m\n\u001b[0;32m   1053\u001b[0m             \u001b[1;32mwith\u001b[0m \u001b[0mself\u001b[0m\u001b[1;33m.\u001b[0m\u001b[0m_backend\u001b[0m\u001b[1;33m.\u001b[0m\u001b[0mretrieval_context\u001b[0m\u001b[1;33m(\u001b[0m\u001b[1;33m)\u001b[0m\u001b[1;33m:\u001b[0m\u001b[1;33m\u001b[0m\u001b[1;33m\u001b[0m\u001b[0m\n\u001b[1;32m-> 1054\u001b[1;33m                 \u001b[0mself\u001b[0m\u001b[1;33m.\u001b[0m\u001b[0mretrieve\u001b[0m\u001b[1;33m(\u001b[0m\u001b[1;33m)\u001b[0m\u001b[1;33m\u001b[0m\u001b[1;33m\u001b[0m\u001b[0m\n\u001b[0m\u001b[0;32m   1055\u001b[0m             \u001b[1;31m# Make sure that we get a last message telling us we are done\u001b[0m\u001b[1;33m\u001b[0m\u001b[1;33m\u001b[0m\u001b[1;33m\u001b[0m\u001b[0m\n\u001b[0;32m   1056\u001b[0m             \u001b[0melapsed_time\u001b[0m \u001b[1;33m=\u001b[0m \u001b[0mtime\u001b[0m\u001b[1;33m.\u001b[0m\u001b[0mtime\u001b[0m\u001b[1;33m(\u001b[0m\u001b[1;33m)\u001b[0m \u001b[1;33m-\u001b[0m \u001b[0mself\u001b[0m\u001b[1;33m.\u001b[0m\u001b[0m_start_time\u001b[0m\u001b[1;33m\u001b[0m\u001b[1;33m\u001b[0m\u001b[0m\n",
      "\u001b[1;32m~\\.conda\\envs\\ado\\lib\\site-packages\\joblib\\parallel.py\u001b[0m in \u001b[0;36mretrieve\u001b[1;34m(self)\u001b[0m\n\u001b[0;32m    931\u001b[0m             \u001b[1;32mtry\u001b[0m\u001b[1;33m:\u001b[0m\u001b[1;33m\u001b[0m\u001b[1;33m\u001b[0m\u001b[0m\n\u001b[0;32m    932\u001b[0m                 \u001b[1;32mif\u001b[0m \u001b[0mgetattr\u001b[0m\u001b[1;33m(\u001b[0m\u001b[0mself\u001b[0m\u001b[1;33m.\u001b[0m\u001b[0m_backend\u001b[0m\u001b[1;33m,\u001b[0m \u001b[1;34m'supports_timeout'\u001b[0m\u001b[1;33m,\u001b[0m \u001b[1;32mFalse\u001b[0m\u001b[1;33m)\u001b[0m\u001b[1;33m:\u001b[0m\u001b[1;33m\u001b[0m\u001b[1;33m\u001b[0m\u001b[0m\n\u001b[1;32m--> 933\u001b[1;33m                     \u001b[0mself\u001b[0m\u001b[1;33m.\u001b[0m\u001b[0m_output\u001b[0m\u001b[1;33m.\u001b[0m\u001b[0mextend\u001b[0m\u001b[1;33m(\u001b[0m\u001b[0mjob\u001b[0m\u001b[1;33m.\u001b[0m\u001b[0mget\u001b[0m\u001b[1;33m(\u001b[0m\u001b[0mtimeout\u001b[0m\u001b[1;33m=\u001b[0m\u001b[0mself\u001b[0m\u001b[1;33m.\u001b[0m\u001b[0mtimeout\u001b[0m\u001b[1;33m)\u001b[0m\u001b[1;33m)\u001b[0m\u001b[1;33m\u001b[0m\u001b[1;33m\u001b[0m\u001b[0m\n\u001b[0m\u001b[0;32m    934\u001b[0m                 \u001b[1;32melse\u001b[0m\u001b[1;33m:\u001b[0m\u001b[1;33m\u001b[0m\u001b[1;33m\u001b[0m\u001b[0m\n\u001b[0;32m    935\u001b[0m                     \u001b[0mself\u001b[0m\u001b[1;33m.\u001b[0m\u001b[0m_output\u001b[0m\u001b[1;33m.\u001b[0m\u001b[0mextend\u001b[0m\u001b[1;33m(\u001b[0m\u001b[0mjob\u001b[0m\u001b[1;33m.\u001b[0m\u001b[0mget\u001b[0m\u001b[1;33m(\u001b[0m\u001b[1;33m)\u001b[0m\u001b[1;33m)\u001b[0m\u001b[1;33m\u001b[0m\u001b[1;33m\u001b[0m\u001b[0m\n",
      "\u001b[1;32m~\\.conda\\envs\\ado\\lib\\site-packages\\joblib\\_parallel_backends.py\u001b[0m in \u001b[0;36mwrap_future_result\u001b[1;34m(future, timeout)\u001b[0m\n\u001b[0;32m    540\u001b[0m         AsyncResults.get from multiprocessing.\"\"\"\n\u001b[0;32m    541\u001b[0m         \u001b[1;32mtry\u001b[0m\u001b[1;33m:\u001b[0m\u001b[1;33m\u001b[0m\u001b[1;33m\u001b[0m\u001b[0m\n\u001b[1;32m--> 542\u001b[1;33m             \u001b[1;32mreturn\u001b[0m \u001b[0mfuture\u001b[0m\u001b[1;33m.\u001b[0m\u001b[0mresult\u001b[0m\u001b[1;33m(\u001b[0m\u001b[0mtimeout\u001b[0m\u001b[1;33m=\u001b[0m\u001b[0mtimeout\u001b[0m\u001b[1;33m)\u001b[0m\u001b[1;33m\u001b[0m\u001b[1;33m\u001b[0m\u001b[0m\n\u001b[0m\u001b[0;32m    543\u001b[0m         \u001b[1;32mexcept\u001b[0m \u001b[0mCfTimeoutError\u001b[0m \u001b[1;32mas\u001b[0m \u001b[0me\u001b[0m\u001b[1;33m:\u001b[0m\u001b[1;33m\u001b[0m\u001b[1;33m\u001b[0m\u001b[0m\n\u001b[0;32m    544\u001b[0m             \u001b[1;32mraise\u001b[0m \u001b[0mTimeoutError\u001b[0m \u001b[1;32mfrom\u001b[0m \u001b[0me\u001b[0m\u001b[1;33m\u001b[0m\u001b[1;33m\u001b[0m\u001b[0m\n",
      "\u001b[1;32m~\\.conda\\envs\\ado\\lib\\concurrent\\futures\\_base.py\u001b[0m in \u001b[0;36mresult\u001b[1;34m(self, timeout)\u001b[0m\n\u001b[0;32m    436\u001b[0m                     \u001b[1;32mraise\u001b[0m \u001b[0mCancelledError\u001b[0m\u001b[1;33m(\u001b[0m\u001b[1;33m)\u001b[0m\u001b[1;33m\u001b[0m\u001b[1;33m\u001b[0m\u001b[0m\n\u001b[0;32m    437\u001b[0m                 \u001b[1;32melif\u001b[0m \u001b[0mself\u001b[0m\u001b[1;33m.\u001b[0m\u001b[0m_state\u001b[0m \u001b[1;33m==\u001b[0m \u001b[0mFINISHED\u001b[0m\u001b[1;33m:\u001b[0m\u001b[1;33m\u001b[0m\u001b[1;33m\u001b[0m\u001b[0m\n\u001b[1;32m--> 438\u001b[1;33m                     \u001b[1;32mreturn\u001b[0m \u001b[0mself\u001b[0m\u001b[1;33m.\u001b[0m\u001b[0m__get_result\u001b[0m\u001b[1;33m(\u001b[0m\u001b[1;33m)\u001b[0m\u001b[1;33m\u001b[0m\u001b[1;33m\u001b[0m\u001b[0m\n\u001b[0m\u001b[0;32m    439\u001b[0m \u001b[1;33m\u001b[0m\u001b[0m\n\u001b[0;32m    440\u001b[0m                 \u001b[0mself\u001b[0m\u001b[1;33m.\u001b[0m\u001b[0m_condition\u001b[0m\u001b[1;33m.\u001b[0m\u001b[0mwait\u001b[0m\u001b[1;33m(\u001b[0m\u001b[0mtimeout\u001b[0m\u001b[1;33m)\u001b[0m\u001b[1;33m\u001b[0m\u001b[1;33m\u001b[0m\u001b[0m\n",
      "\u001b[1;32m~\\.conda\\envs\\ado\\lib\\concurrent\\futures\\_base.py\u001b[0m in \u001b[0;36m__get_result\u001b[1;34m(self)\u001b[0m\n\u001b[0;32m    388\u001b[0m         \u001b[1;32mif\u001b[0m \u001b[0mself\u001b[0m\u001b[1;33m.\u001b[0m\u001b[0m_exception\u001b[0m\u001b[1;33m:\u001b[0m\u001b[1;33m\u001b[0m\u001b[1;33m\u001b[0m\u001b[0m\n\u001b[0;32m    389\u001b[0m             \u001b[1;32mtry\u001b[0m\u001b[1;33m:\u001b[0m\u001b[1;33m\u001b[0m\u001b[1;33m\u001b[0m\u001b[0m\n\u001b[1;32m--> 390\u001b[1;33m                 \u001b[1;32mraise\u001b[0m \u001b[0mself\u001b[0m\u001b[1;33m.\u001b[0m\u001b[0m_exception\u001b[0m\u001b[1;33m\u001b[0m\u001b[1;33m\u001b[0m\u001b[0m\n\u001b[0m\u001b[0;32m    391\u001b[0m             \u001b[1;32mfinally\u001b[0m\u001b[1;33m:\u001b[0m\u001b[1;33m\u001b[0m\u001b[1;33m\u001b[0m\u001b[0m\n\u001b[0;32m    392\u001b[0m                 \u001b[1;31m# Break a reference cycle with the exception in self._exception\u001b[0m\u001b[1;33m\u001b[0m\u001b[1;33m\u001b[0m\u001b[1;33m\u001b[0m\u001b[0m\n",
      "\u001b[1;31mMemoryError\u001b[0m: Unable to allocate 2.43 GiB for an array with shape (54576, 11930) and data type float32"
     ]
    }
   ],
   "source": [
    "C,eps,n=SVR_PCA_nested_CV_gridsearch(daily_input, C_range,  epsilon_range, components_range, t_range,t_unit,n_splits,test_size)\n",
    "print(f'C={C}')\n",
    "print(f'eps={eps}')\n",
    "print(f'n={n}')"
   ]
  },
  {
   "cell_type": "markdown",
   "id": "903025a2",
   "metadata": {},
   "source": [
    "C=0.5994842503189409\n",
    "eps=5.994842503189409e-05\n",
    "n=180"
   ]
  },
  {
   "cell_type": "markdown",
   "id": "e9644d4d",
   "metadata": {},
   "source": [
    "C=0.21544346900318834\n",
    "epsilon=0.003593813663804626\n",
    "n=180\n"
   ]
  },
  {
   "cell_type": "markdown",
   "id": "c4d61ea5",
   "metadata": {},
   "source": [
    "### PREDICT RUNOFF ON TEST SET AND QUANTIFY THE PERFORMANCE"
   ]
  },
  {
   "cell_type": "code",
   "execution_count": null,
   "id": "db450a92",
   "metadata": {
    "scrolled": true
   },
   "outputs": [],
   "source": [
    "radius_for_ensemble = 1.5\n",
    "predictions = nested_CV_PCA_SVR_predict(daily_input, C, eps, n, t_length,t_unit, n_splits, test_size, radius_for_ensemble)"
   ]
  },
  {
   "cell_type": "markdown",
   "id": "d7871f25",
   "metadata": {},
   "source": [
    "predictions=pd.read_csv('tial.csv',date_parser=True)"
   ]
  },
  {
   "cell_type": "code",
   "execution_count": null,
   "id": "1ebc45d0",
   "metadata": {
    "scrolled": true
   },
   "outputs": [],
   "source": [
    "plot_prediction(predictions)"
   ]
  },
  {
   "cell_type": "code",
   "execution_count": null,
   "id": "5302ec81",
   "metadata": {
    "scrolled": true
   },
   "outputs": [],
   "source": [
    "r2_PCA180 = evaluate_prediction(predictions)\n",
    "#r2_PCA = evaluate_prediction(predictions.iloc[:,1:])"
   ]
  },
  {
   "cell_type": "markdown",
   "id": "fad3f100",
   "metadata": {},
   "source": [
    "### ANALYSE RESULTS AS ANOMALIES"
   ]
  },
  {
   "cell_type": "markdown",
   "id": "f8c1bbc4",
   "metadata": {},
   "source": [
    "### 1) PREDICT THE WHOLE SERIES WITH CLASSIC CV"
   ]
  },
  {
   "cell_type": "code",
   "execution_count": null,
   "id": "9740603c",
   "metadata": {},
   "outputs": [],
   "source": [
    "predictions_for_clim = classic_CV_PCA_SVR_predict(daily_input, C, eps, n, t_length,t_unit, n_splits)"
   ]
  },
  {
   "cell_type": "code",
   "execution_count": null,
   "id": "efb89688",
   "metadata": {},
   "outputs": [],
   "source": [
    "climatologies =predictions_for_clim.groupby(by=predictions_for_clim.index.day_of_year).mean().loc[:,['prediction','true_runoff']]\n",
    "climatologies['doty']=climatologies.index\n"
   ]
  },
  {
   "cell_type": "code",
   "execution_count": null,
   "id": "acf4e400",
   "metadata": {
    "scrolled": true
   },
   "outputs": [],
   "source": [
    "sns.set_theme(style=\"whitegrid\")\n",
    "ax,fig=plt.subplots(figsize=(20,10))\n",
    "sns.lineplot(data=climatologies,x='doty',y='prediction',label='prediction climatology')\n",
    "sns.lineplot(data=climatologies,x='doty',y='true_runoff',label='real climatology')\n",
    "plt.legend()"
   ]
  },
  {
   "cell_type": "markdown",
   "id": "288e06d0",
   "metadata": {},
   "source": [
    "### 2) COMPUTE THE ANOMALIES AND PLOT THEM"
   ]
  },
  {
   "cell_type": "code",
   "execution_count": null,
   "id": "59b6fec9",
   "metadata": {
    "scrolled": false
   },
   "outputs": [],
   "source": [
    "a=compute_anomalies(climatologies, predictions)\n",
    "a['split']=predictions.split\n",
    "plot_anomalies(a)"
   ]
  },
  {
   "cell_type": "markdown",
   "id": "aa869ed8",
   "metadata": {},
   "source": [
    "## B) PCA+SVR "
   ]
  },
  {
   "cell_type": "markdown",
   "id": "1d127443",
   "metadata": {},
   "source": [
    "### TRAIN A PCA+SVR MODEL "
   ]
  },
  {
   "cell_type": "code",
   "execution_count": null,
   "id": "551facfd",
   "metadata": {
    "scrolled": true
   },
   "outputs": [],
   "source": [
    "components_range2=[36*3]\n",
    "C2,eps2,n2=SVR_PCA_nested_CV_gridsearch(daily_input, C_range,  epsilon_range, components_range2, t_range,t_unit,n_splits,test_size)\n",
    "print(f'C={C2}')\n",
    "print(f'epsilon={eps2}')\n",
    "print(f'n={n2}')"
   ]
  },
  {
   "cell_type": "markdown",
   "id": "5dd471be",
   "metadata": {},
   "source": [
    "C2=0.5994842503189409\n",
    "eps2=0.01\n",
    "n2=36"
   ]
  },
  {
   "cell_type": "markdown",
   "id": "8b39f7c9",
   "metadata": {},
   "source": [
    "C2  =0.5994842503189409\n",
    "eps2=10e-06\n",
    "n2  =36"
   ]
  },
  {
   "cell_type": "markdown",
   "id": "9603ed4e",
   "metadata": {},
   "source": [
    "### PREDICT RUNOFF ON TEST SET AND QUANTIFY THE PERFORMANCE"
   ]
  },
  {
   "cell_type": "code",
   "execution_count": null,
   "id": "6b4b27fd",
   "metadata": {
    "scrolled": true
   },
   "outputs": [],
   "source": [
    "radius_for_ensemble = 1.5\n",
    "predictions2 = nested_CV_PCA_SVR_predict(daily_input, C2, eps2, n2, t_length,t_unit, n_splits, test_size, radius_for_ensemble)"
   ]
  },
  {
   "cell_type": "markdown",
   "id": "8db54673",
   "metadata": {},
   "source": [
    "predictions=pd.read_csv('tial.csv',date_parser=True)"
   ]
  },
  {
   "cell_type": "code",
   "execution_count": null,
   "id": "b0deb0bf",
   "metadata": {
    "scrolled": true
   },
   "outputs": [],
   "source": [
    "plot_prediction(predictions2)"
   ]
  },
  {
   "cell_type": "code",
   "execution_count": null,
   "id": "20db70b7",
   "metadata": {
    "scrolled": true
   },
   "outputs": [],
   "source": [
    "r2_PCA36 = evaluate_prediction(predictions2)\n",
    "#r2_PCA = evaluate_prediction(predictions.iloc[:,1:])"
   ]
  },
  {
   "cell_type": "markdown",
   "id": "fe1c754b",
   "metadata": {},
   "source": [
    "### ANALYSE RESULTS AS ANOMALIES"
   ]
  },
  {
   "cell_type": "markdown",
   "id": "495f4dd6",
   "metadata": {},
   "source": [
    "### 1) PREDICT THE WHOLE SERIES WITH CLASSIC CV"
   ]
  },
  {
   "cell_type": "markdown",
   "id": "ed58e307",
   "metadata": {},
   "source": [
    "predictions_for_clim2 = classic_CV_PCA_SVR_predict(daily_input, C2, eps2, n2, 12, n_splits)\n",
    "climatologies2 =predictions_for_clim2.groupby(by=predictions_for_clim2.index.day_of_year).mean().loc[:,['prediction','true_runoff']]\n",
    "climatologies2['doty']=climatologies2.index\n"
   ]
  },
  {
   "cell_type": "code",
   "execution_count": null,
   "id": "fec90bb9",
   "metadata": {},
   "outputs": [],
   "source": [
    "climatologies2=climatologies"
   ]
  },
  {
   "cell_type": "code",
   "execution_count": null,
   "id": "73b51ec5",
   "metadata": {
    "scrolled": true
   },
   "outputs": [],
   "source": [
    "sns.set_theme(style=\"whitegrid\")\n",
    "ax,fig=plt.subplots(figsize=(20,10))\n",
    "sns.lineplot(data=climatologies2,x='doty',y='prediction',label='prediction climatology')\n",
    "sns.lineplot(data=climatologies2,x='doty',y='true_runoff',label='real climatology')\n",
    "plt.legend()"
   ]
  },
  {
   "cell_type": "markdown",
   "id": "0fbd86a4",
   "metadata": {},
   "source": [
    "### 2) COMPUTE THE ANOMALIES AND PLOT THEM"
   ]
  },
  {
   "cell_type": "code",
   "execution_count": null,
   "id": "7da5ed6b",
   "metadata": {
    "scrolled": true
   },
   "outputs": [],
   "source": [
    "a2=compute_anomalies(climatologies2, predictions2)\n",
    "a2['split']=predictions2.split\n",
    "plot_anomalies(a2)"
   ]
  },
  {
   "cell_type": "markdown",
   "id": "b95dfd1e",
   "metadata": {},
   "source": [
    "# C) SVR \n",
    "## WITH SPATIAL STATISTICS AS INPUT"
   ]
  },
  {
   "cell_type": "code",
   "execution_count": null,
   "id": "6bf784d0",
   "metadata": {
    "scrolled": true
   },
   "outputs": [],
   "source": [
    "C3, eps3 = SVR_nested_CV_gridsearch(daily_input_stat, C_range,epsilon_range, t_range,t_unit,n_splits,test_size)\n",
    "print(f'C3={C3}')\n",
    "print(f'eps3={eps3}') "
   ]
  },
  {
   "cell_type": "markdown",
   "id": "af9e9cae",
   "metadata": {},
   "source": [
    "C3=0.5994842503189409\n",
    "eps3=0.001"
   ]
  },
  {
   "cell_type": "markdown",
   "id": "f880d618",
   "metadata": {},
   "source": [
    "C3=0.5994842503189409\n",
    "eps3=0.001"
   ]
  },
  {
   "cell_type": "markdown",
   "id": "c2ff44a9",
   "metadata": {},
   "source": [
    "### PREDICT RUNOFF ON TEST SET AND QUANTIFY THE PERFORMANCE"
   ]
  },
  {
   "cell_type": "code",
   "execution_count": null,
   "id": "7868a11c",
   "metadata": {
    "scrolled": true
   },
   "outputs": [],
   "source": [
    "radius_for_ensemble = 1.5\n",
    "predictions3 = nested_CV_SVR_predict(daily_input_stat, C3, eps3, t_length,t_unit, n_splits, test_size, radius_for_ensemble)"
   ]
  },
  {
   "cell_type": "code",
   "execution_count": null,
   "id": "12333e95",
   "metadata": {
    "scrolled": true
   },
   "outputs": [],
   "source": [
    "#predictions=pd.read_csv('tial.csv',date_parser=True)\n",
    "plot_prediction(predictions3)"
   ]
  },
  {
   "cell_type": "code",
   "execution_count": null,
   "id": "136457d5",
   "metadata": {
    "scrolled": false
   },
   "outputs": [],
   "source": [
    "r2_STATS= evaluate_prediction(predictions3)"
   ]
  },
  {
   "cell_type": "markdown",
   "id": "228f771a",
   "metadata": {},
   "source": [
    "### ANALYSE RESULTS AS ANOMALIES"
   ]
  },
  {
   "cell_type": "markdown",
   "id": "ae5e6ce8",
   "metadata": {},
   "source": [
    "### 1) PREDICT THE WHOLE SERIES WITH CLASSIC CV"
   ]
  },
  {
   "cell_type": "code",
   "execution_count": null,
   "id": "76be74df",
   "metadata": {},
   "outputs": [],
   "source": [
    "predictions_for_clim3 = classic_CV_SVR_predict(daily_input_stat, C3, eps3, t_length,t_unit, n_splits)"
   ]
  },
  {
   "cell_type": "code",
   "execution_count": null,
   "id": "2e030086",
   "metadata": {},
   "outputs": [],
   "source": [
    "climatologies3 =predictions_for_clim3.groupby(by=predictions_for_clim3.index.day_of_year).mean().loc[:,['prediction','true_runoff']]\n",
    "climatologies3['doty']=climatologies3.index\n"
   ]
  },
  {
   "cell_type": "markdown",
   "id": "d5a2766c",
   "metadata": {},
   "source": [
    "climatologies3=climatologies"
   ]
  },
  {
   "cell_type": "code",
   "execution_count": null,
   "id": "419702a5",
   "metadata": {
    "scrolled": true
   },
   "outputs": [],
   "source": [
    "sns.set_theme(style=\"whitegrid\")\n",
    "ax,fig=plt.subplots(figsize=(20,10))\n",
    "sns.lineplot(data=climatologies3,x='doty',y='prediction',label='prediction climatology')\n",
    "sns.lineplot(data=climatologies3,x='doty',y='true_runoff',label='real climatology')\n",
    "plt.legend()"
   ]
  },
  {
   "cell_type": "markdown",
   "id": "f6fe45d0",
   "metadata": {},
   "source": [
    "### 2) COMPUTE THE ANOMALIES AND PLOT THEM"
   ]
  },
  {
   "cell_type": "code",
   "execution_count": null,
   "id": "c3c36932",
   "metadata": {
    "scrolled": true
   },
   "outputs": [],
   "source": [
    "a3=compute_anomalies(climatologies3, predictions3)\n",
    "a3['split']=predictions3.split\n",
    "\n",
    "plot_anomalies(a3)"
   ]
  },
  {
   "cell_type": "markdown",
   "id": "642f12f6",
   "metadata": {},
   "source": [
    "# D) SVR \n",
    "## WITH SPATIAL AVERAGE AS INPUT"
   ]
  },
  {
   "cell_type": "code",
   "execution_count": null,
   "id": "a5b3e797",
   "metadata": {
    "scrolled": true
   },
   "outputs": [],
   "source": [
    "C4, eps4 = SVR_nested_CV_gridsearch(daily_input_TPE, C_range,epsilon_range, t_range,t_unit,n_splits,test_size)\n",
    "print(f'C4={C4}')\n",
    "print(f'eps4={eps4}')"
   ]
  },
  {
   "cell_type": "markdown",
   "id": "a1fe9df7",
   "metadata": {},
   "source": [
    "C4=0.21544346900318834\n",
    "eps4=0.01"
   ]
  },
  {
   "cell_type": "markdown",
   "id": "b984283a",
   "metadata": {},
   "source": [
    "### PREDICT RUNOFF ON TEST SET AND QUANTIFY THE PERFORMANCE"
   ]
  },
  {
   "cell_type": "code",
   "execution_count": null,
   "id": "a94c90cd",
   "metadata": {
    "scrolled": true
   },
   "outputs": [],
   "source": [
    "radius_for_ensemble = 1.5\n",
    "predictions4 = nested_CV_SVR_predict(daily_input_stat, C4, eps4, t_length,t_unit, n_splits, test_size, radius_for_ensemble)"
   ]
  },
  {
   "cell_type": "code",
   "execution_count": null,
   "id": "9430259b",
   "metadata": {
    "scrolled": true
   },
   "outputs": [],
   "source": [
    "#predictions=pd.read_csv('tial.csv',date_parser=True)\n",
    "plot_prediction(predictions4)"
   ]
  },
  {
   "cell_type": "code",
   "execution_count": null,
   "id": "730c1573",
   "metadata": {
    "scrolled": false
   },
   "outputs": [],
   "source": [
    "r2_TPE = evaluate_prediction(predictions4)"
   ]
  },
  {
   "cell_type": "markdown",
   "id": "cba91f4b",
   "metadata": {},
   "source": [
    "### ANALYSE RESULTS AS ANOMALIES"
   ]
  },
  {
   "cell_type": "markdown",
   "id": "82918fe4",
   "metadata": {},
   "source": [
    "### 1) PREDICT THE WHOLE SERIES WITH CLASSIC CV"
   ]
  },
  {
   "cell_type": "code",
   "execution_count": null,
   "id": "0ac95a06",
   "metadata": {},
   "outputs": [],
   "source": [
    "predictions_for_clim4 = classic_CV_SVR_predict(daily_input_stat, C4, eps4, t_length,t_unit, n_splits)"
   ]
  },
  {
   "cell_type": "code",
   "execution_count": null,
   "id": "f5be5957",
   "metadata": {},
   "outputs": [],
   "source": [
    "climatologies4 =predictions_for_clim4.groupby(by=predictions_for_clim4.index.day_of_year).mean().loc[:,['prediction','true_runoff']]\n",
    "climatologies4['doty']=climatologies4.index\n"
   ]
  },
  {
   "cell_type": "markdown",
   "id": "185e42b0",
   "metadata": {},
   "source": [
    "climatologies4=climatologies"
   ]
  },
  {
   "cell_type": "code",
   "execution_count": null,
   "id": "12ea330c",
   "metadata": {
    "scrolled": true
   },
   "outputs": [],
   "source": [
    "sns.set_theme(style=\"whitegrid\")\n",
    "ax,fig=plt.subplots(figsize=(20,10))\n",
    "sns.lineplot(data=climatologies4,x='doty',y='prediction',label='prediction climatology')\n",
    "sns.lineplot(data=climatologies4,x='doty',y='true_runoff',label='real climatology')\n",
    "plt.legend()"
   ]
  },
  {
   "cell_type": "markdown",
   "id": "32a8fbaa",
   "metadata": {},
   "source": [
    "### 2) COMPUTE THE ANOMALIES AND PLOT THEM"
   ]
  },
  {
   "cell_type": "code",
   "execution_count": null,
   "id": "9155f273",
   "metadata": {
    "scrolled": true
   },
   "outputs": [],
   "source": [
    "a4=compute_anomalies(climatologies4, predictions4)\n",
    "a4['split']=predictions4.split\n",
    "plot_anomalies(a4)"
   ]
  },
  {
   "cell_type": "markdown",
   "id": "4869891d",
   "metadata": {},
   "source": [
    "# COMPARE RESULTS"
   ]
  },
  {
   "cell_type": "code",
   "execution_count": null,
   "id": "9bf593c1",
   "metadata": {},
   "outputs": [],
   "source": [
    "results = pd.concat([r2_PCA180,r2_PCA36,r2_STATS,r2_TPE],axis=1)\n",
    "results.columns=['A) PCA(180)','B) PCA(36)','C) TPE_STATS','D) TPE_AVG']\n",
    "results.iloc[1:].plot.bar()\n",
    "plt.title('R^2 RESULTS COMPARISON')\n",
    "plt.ylabel('r^2 [/]')"
   ]
  },
  {
   "cell_type": "code",
   "execution_count": null,
   "id": "42d0f057",
   "metadata": {},
   "outputs": [],
   "source": [
    "r2_TPE_an = evaluate_prediction(a4)\n",
    "r2_STATS_an= evaluate_prediction(a3)\n",
    "r2_PCA36_an = evaluate_prediction(a2)\n",
    "r2_PCA180_an = evaluate_prediction(a)"
   ]
  },
  {
   "cell_type": "code",
   "execution_count": null,
   "id": "734b6a0b",
   "metadata": {},
   "outputs": [],
   "source": [
    "results = pd.concat([r2_PCA180_an,r2_PCA36_an,r2_STATS_an,r2_TPE_an],axis=1)\n",
    "results.columns=['A) PCA(180)','B) PCA(36)','C) TPE_STATS','D) TPE_AVG']\n",
    "results.iloc[1:].plot.bar()\n",
    "plt.title('R^2 RESULTS COMPARISON')\n",
    "plt.ylabel('r^2 [/]')"
   ]
  },
  {
   "cell_type": "code",
   "execution_count": null,
   "id": "5eacb987",
   "metadata": {},
   "outputs": [],
   "source": []
  },
  {
   "cell_type": "code",
   "execution_count": null,
   "id": "1ef98b15",
   "metadata": {},
   "outputs": [],
   "source": []
  }
 ],
 "metadata": {
  "kernelspec": {
   "display_name": "Python 3 (ipykernel)",
   "language": "python",
   "name": "python3"
  },
  "language_info": {
   "codemirror_mode": {
    "name": "ipython",
    "version": 3
   },
   "file_extension": ".py",
   "mimetype": "text/x-python",
   "name": "python",
   "nbconvert_exporter": "python",
   "pygments_lexer": "ipython3",
   "version": "3.9.6"
  }
 },
 "nbformat": 4,
 "nbformat_minor": 5
}
