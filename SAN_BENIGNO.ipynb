{
 "cells": [
  {
   "cell_type": "code",
   "execution_count": 1,
   "id": "6760053e",
   "metadata": {},
   "outputs": [],
   "source": [
    "from sf_runoff import daily_climatology, spatial_avg_daily_input\n",
    "from nested_CV import SVR_nested_CV_gridsearch, SVR_PCA_nested_CV_gridsearch\n",
    "\n",
    "import pandas as pd\n",
    "import matplotlib.pyplot as plt\n",
    "import numpy as np\n",
    "import pandas as pd\n",
    "import numpy as np\n",
    "from scipy.stats import gaussian_kde\n",
    "\n",
    "from sklearn.svm import SVR\n",
    "from sklearn.preprocessing import StandardScaler\n",
    "from sklearn.pipeline import make_pipeline\n",
    "from sklearn.compose import TransformedTargetRegressor\n",
    "from sklearn.model_selection import GridSearchCV,TimeSeriesSplit\n",
    "from sklearn.metrics import mean_squared_error\n",
    "from sklearn.decomposition import PCA\n",
    "\n",
    "\n",
    "import matplotlib.pyplot as plt\n",
    "\n",
    "import os\n",
    "\n",
    "import pdb\n",
    "import seaborn as sns\n",
    "\n",
    "path=r'C:\\Users\\mmazzolini\\OneDrive - Scientific Network South Tyrol\\Documents\\conda\\daily_input\\\\'\n",
    "# ## Feature selection\n",
    "daily_input = pd.read_csv(path+'SAN_BENIGNO_ORCO_2002_2019.csv', index_col=0, parse_dates=True)\n",
    "\n",
    "daily_input = spatial_avg_daily_input(daily_input)\n"
   ]
  },
  {
   "cell_type": "code",
   "execution_count": null,
   "id": "54ee19b3",
   "metadata": {},
   "outputs": [
    {
     "name": "stdout",
     "output_type": "stream",
     "text": [
      "Fitting 1 folds for each of 100 candidates, totalling 100 fits\n",
      "Fitting 1 folds for each of 100 candidates, totalling 100 fits\n",
      "Fitting 1 folds for each of 100 candidates, totalling 100 fits\n"
     ]
    }
   ],
   "source": [
    "#define the possible parameters value (where Gridsearch is applied)\n",
    "\n",
    "C_range=np.logspace(-2, 2, 10)\n",
    "epsilon_range=np.logspace(-6, -2, 10)\n",
    "n_range = [17, 50, 200]\n",
    "#do not enlarge t_range for now\n",
    "t_range=[12]\n",
    "n_splits=5\n",
    "test_size=365\n",
    "\n",
    "\n",
    "C,eps=SVR_nested_CV_gridsearch(daily_input, C_range,epsilon_range, t_range,n_splits,test_size)\n",
    "print(f'C:{C}')\n",
    "print(f'epsilon:{eps}')"
   ]
  },
  {
   "cell_type": "code",
   "execution_count": null,
   "id": "53b7c21a",
   "metadata": {},
   "outputs": [],
   "source": [
    "n_range = [17, 50, 200]\n",
    "C2,eps2,n2=SVR_PCA_nested_CV_gridsearch(daily_input, C_range,n_range, epsilon_range, t_range,n_splits,test_size)"
   ]
  },
  {
   "cell_type": "code",
   "execution_count": null,
   "id": "c982891d",
   "metadata": {},
   "outputs": [],
   "source": []
  }
 ],
 "metadata": {
  "kernelspec": {
   "display_name": "Python 3 (ipykernel)",
   "language": "python",
   "name": "python3"
  },
  "language_info": {
   "codemirror_mode": {
    "name": "ipython",
    "version": 3
   },
   "file_extension": ".py",
   "mimetype": "text/x-python",
   "name": "python",
   "nbconvert_exporter": "python",
   "pygments_lexer": "ipython3",
   "version": "3.9.6"
  }
 },
 "nbformat": 4,
 "nbformat_minor": 5
}
