{
 "cells": [
  {
   "cell_type": "markdown",
   "id": "52f38942",
   "metadata": {},
   "source": [
    "# DRAVOGRAD- DRAVA RIVER\n",
    "\n",
    "13/10/2021\n",
    "\n",
    "In this notebook results of different feature selections are compared for the Dravograd Basin (of which we have around 40 years of data)\n",
    "\n",
    "Input data are ERA5 metereological reanalysis quantile mapped and downscaled by ZAMG.\n",
    "\n",
    "Precipitation, temperature and potential evapotranspiration are selected as input.\n",
    "\n",
    "The settings are the following:\n",
    "\n",
    "    A) 180 features are selected with PCA, the same numeriosity as setting C) ;\n",
    "\n",
    "    B) 36 features are selectedwith PCA, the same numeriosity as setting D) ;\n",
    "        \n",
    "    C) metereological inputs spatial statistics are used as input: mean, the 5th, 25th, 75th and 95th quantiles are selected.\n",
    "        \n",
    "    D) metereological inputs are spatially averaged.\n"
   ]
  },
  {
   "cell_type": "code",
   "execution_count": 1,
   "id": "efcc49ff",
   "metadata": {},
   "outputs": [],
   "source": [
    "from sf_runoff import daily_climatology, spatial_avg_daily_input, spatial_stats_daily_input, compute_anomalies\n",
    "from nested_CV import SVR_nested_CV_gridsearch, SVR_PCA_nested_CV_gridsearch\n",
    "from test import evaluate_prediction, plot_prediction, plot_anomalies\n",
    "from test import nested_CV_PCA_SVR_predict, nested_CV_SVR_predict\n",
    "from classic_CV_predict import classic_CV_PCA_SVR_predict, classic_CV_SVR_predict\n",
    "\n",
    "\n",
    "import pandas as pd\n",
    "import matplotlib.pyplot as plt\n",
    "import numpy as np\n",
    "import pandas as pd\n",
    "import numpy as np\n",
    "from scipy.stats import gaussian_kde\n",
    "\n",
    "from sklearn.svm import SVR\n",
    "from sklearn.preprocessing import StandardScaler\n",
    "from sklearn.pipeline import make_pipeline\n",
    "from sklearn.compose import TransformedTargetRegressor\n",
    "from sklearn.model_selection import GridSearchCV,TimeSeriesSplit\n",
    "from sklearn.metrics import mean_squared_error\n",
    "from sklearn.decomposition import PCA\n",
    "\n",
    "\n",
    "import matplotlib.pyplot as plt\n",
    "\n",
    "import os\n",
    "\n",
    "import pdb\n",
    "import seaborn as sns"
   ]
  },
  {
   "cell_type": "code",
   "execution_count": 2,
   "id": "ac06f5c5",
   "metadata": {},
   "outputs": [],
   "source": [
    "path=r'C:\\Users\\mmazzolini\\OneDrive - Scientific Network South Tyrol\\Documents\\conda\\daily_input\\\\'\n",
    "# ## Feature selection\n",
    "daily_input = pd.read_csv(path+'HEDravograd_Drava_1952_2019.txt', index_col=0, parse_dates=True)\n",
    "\n",
    "daily_input_TPE = spatial_avg_daily_input(daily_input)\n",
    "\n",
    "daily_input_stat = spatial_stats_daily_input(daily_input)"
   ]
  },
  {
   "cell_type": "markdown",
   "id": "0b7efaf0",
   "metadata": {},
   "source": [
    "import sys, importlib\n",
    "importlib.reload(sys.modules['test'])\n"
   ]
  },
  {
   "cell_type": "code",
   "execution_count": 4,
   "id": "20945f67",
   "metadata": {},
   "outputs": [
    {
     "data": {
      "text/html": [
       "<div>\n",
       "<style scoped>\n",
       "    .dataframe tbody tr th:only-of-type {\n",
       "        vertical-align: middle;\n",
       "    }\n",
       "\n",
       "    .dataframe tbody tr th {\n",
       "        vertical-align: top;\n",
       "    }\n",
       "\n",
       "    .dataframe thead th {\n",
       "        text-align: right;\n",
       "    }\n",
       "</style>\n",
       "<table border=\"1\" class=\"dataframe\">\n",
       "  <thead>\n",
       "    <tr style=\"text-align: right;\">\n",
       "      <th></th>\n",
       "      <th>Q</th>\n",
       "      <th>T20</th>\n",
       "      <th>T65</th>\n",
       "      <th>T66</th>\n",
       "      <th>T67</th>\n",
       "      <th>T112</th>\n",
       "      <th>T113</th>\n",
       "      <th>T114</th>\n",
       "      <th>T115</th>\n",
       "      <th>T121</th>\n",
       "      <th>...</th>\n",
       "      <th>E767</th>\n",
       "      <th>E768</th>\n",
       "      <th>E769</th>\n",
       "      <th>E770</th>\n",
       "      <th>E772</th>\n",
       "      <th>E773</th>\n",
       "      <th>E813</th>\n",
       "      <th>E814</th>\n",
       "      <th>E815</th>\n",
       "      <th>T</th>\n",
       "    </tr>\n",
       "  </thead>\n",
       "  <tbody>\n",
       "    <tr>\n",
       "      <th>1979-01-01</th>\n",
       "      <td>134.000</td>\n",
       "      <td>270.337855</td>\n",
       "      <td>269.533831</td>\n",
       "      <td>269.643257</td>\n",
       "      <td>270.126677</td>\n",
       "      <td>268.652269</td>\n",
       "      <td>269.486290</td>\n",
       "      <td>269.317240</td>\n",
       "      <td>269.105815</td>\n",
       "      <td>269.971374</td>\n",
       "      <td>...</td>\n",
       "      <td>0.076270</td>\n",
       "      <td>0.098717</td>\n",
       "      <td>0.184784</td>\n",
       "      <td>0.165689</td>\n",
       "      <td>0.095762</td>\n",
       "      <td>0.241477</td>\n",
       "      <td>0.034289</td>\n",
       "      <td>0.105241</td>\n",
       "      <td>0.191938</td>\n",
       "      <td>266.851748</td>\n",
       "    </tr>\n",
       "    <tr>\n",
       "      <th>1979-01-02</th>\n",
       "      <td>209.000</td>\n",
       "      <td>259.806460</td>\n",
       "      <td>257.556831</td>\n",
       "      <td>257.838809</td>\n",
       "      <td>259.198829</td>\n",
       "      <td>257.777470</td>\n",
       "      <td>257.979267</td>\n",
       "      <td>257.140730</td>\n",
       "      <td>257.285447</td>\n",
       "      <td>259.517771</td>\n",
       "      <td>...</td>\n",
       "      <td>0.047949</td>\n",
       "      <td>0.054136</td>\n",
       "      <td>0.097055</td>\n",
       "      <td>0.158136</td>\n",
       "      <td>0.061804</td>\n",
       "      <td>0.217116</td>\n",
       "      <td>-0.004516</td>\n",
       "      <td>0.031896</td>\n",
       "      <td>0.112937</td>\n",
       "      <td>256.017777</td>\n",
       "    </tr>\n",
       "    <tr>\n",
       "      <th>1979-01-03</th>\n",
       "      <td>142.000</td>\n",
       "      <td>255.524174</td>\n",
       "      <td>253.791413</td>\n",
       "      <td>253.451285</td>\n",
       "      <td>253.861836</td>\n",
       "      <td>253.181048</td>\n",
       "      <td>252.824501</td>\n",
       "      <td>252.143729</td>\n",
       "      <td>251.699574</td>\n",
       "      <td>254.879205</td>\n",
       "      <td>...</td>\n",
       "      <td>-0.007272</td>\n",
       "      <td>0.009058</td>\n",
       "      <td>0.044851</td>\n",
       "      <td>0.072568</td>\n",
       "      <td>0.037061</td>\n",
       "      <td>0.071960</td>\n",
       "      <td>-0.062477</td>\n",
       "      <td>-0.045287</td>\n",
       "      <td>0.002136</td>\n",
       "      <td>253.567698</td>\n",
       "    </tr>\n",
       "    <tr>\n",
       "      <th>1979-01-04</th>\n",
       "      <td>281.000</td>\n",
       "      <td>255.423059</td>\n",
       "      <td>253.186664</td>\n",
       "      <td>253.195047</td>\n",
       "      <td>254.407030</td>\n",
       "      <td>252.095631</td>\n",
       "      <td>252.483002</td>\n",
       "      <td>252.526668</td>\n",
       "      <td>252.278509</td>\n",
       "      <td>256.901037</td>\n",
       "      <td>...</td>\n",
       "      <td>-0.141226</td>\n",
       "      <td>-0.140258</td>\n",
       "      <td>-0.094206</td>\n",
       "      <td>-0.092128</td>\n",
       "      <td>-0.109595</td>\n",
       "      <td>-0.094535</td>\n",
       "      <td>-0.198484</td>\n",
       "      <td>-0.165326</td>\n",
       "      <td>-0.099964</td>\n",
       "      <td>253.346479</td>\n",
       "    </tr>\n",
       "    <tr>\n",
       "      <th>1979-01-05</th>\n",
       "      <td>287.000</td>\n",
       "      <td>258.856168</td>\n",
       "      <td>255.140877</td>\n",
       "      <td>256.244287</td>\n",
       "      <td>258.958967</td>\n",
       "      <td>254.906258</td>\n",
       "      <td>256.676104</td>\n",
       "      <td>257.198253</td>\n",
       "      <td>257.186725</td>\n",
       "      <td>260.520089</td>\n",
       "      <td>...</td>\n",
       "      <td>-0.089553</td>\n",
       "      <td>-0.109411</td>\n",
       "      <td>-0.031876</td>\n",
       "      <td>-0.040326</td>\n",
       "      <td>-0.115176</td>\n",
       "      <td>-0.059815</td>\n",
       "      <td>-0.119176</td>\n",
       "      <td>-0.111551</td>\n",
       "      <td>-0.037148</td>\n",
       "      <td>254.808773</td>\n",
       "    </tr>\n",
       "    <tr>\n",
       "      <th>...</th>\n",
       "      <td>...</td>\n",
       "      <td>...</td>\n",
       "      <td>...</td>\n",
       "      <td>...</td>\n",
       "      <td>...</td>\n",
       "      <td>...</td>\n",
       "      <td>...</td>\n",
       "      <td>...</td>\n",
       "      <td>...</td>\n",
       "      <td>...</td>\n",
       "      <td>...</td>\n",
       "      <td>...</td>\n",
       "      <td>...</td>\n",
       "      <td>...</td>\n",
       "      <td>...</td>\n",
       "      <td>...</td>\n",
       "      <td>...</td>\n",
       "      <td>...</td>\n",
       "      <td>...</td>\n",
       "      <td>...</td>\n",
       "      <td>...</td>\n",
       "    </tr>\n",
       "    <tr>\n",
       "      <th>2018-12-27</th>\n",
       "      <td>187.875</td>\n",
       "      <td>272.024544</td>\n",
       "      <td>272.229307</td>\n",
       "      <td>272.078609</td>\n",
       "      <td>271.985740</td>\n",
       "      <td>271.207220</td>\n",
       "      <td>271.671196</td>\n",
       "      <td>271.505197</td>\n",
       "      <td>271.404282</td>\n",
       "      <td>271.204857</td>\n",
       "      <td>...</td>\n",
       "      <td>-0.034306</td>\n",
       "      <td>-0.040950</td>\n",
       "      <td>0.156138</td>\n",
       "      <td>0.142231</td>\n",
       "      <td>0.078009</td>\n",
       "      <td>0.099049</td>\n",
       "      <td>-0.103848</td>\n",
       "      <td>-0.038043</td>\n",
       "      <td>0.196894</td>\n",
       "      <td>269.764535</td>\n",
       "    </tr>\n",
       "    <tr>\n",
       "      <th>2018-12-28</th>\n",
       "      <td>161.900</td>\n",
       "      <td>272.674316</td>\n",
       "      <td>273.125816</td>\n",
       "      <td>273.058470</td>\n",
       "      <td>272.962667</td>\n",
       "      <td>272.298094</td>\n",
       "      <td>272.900685</td>\n",
       "      <td>273.002551</td>\n",
       "      <td>272.759013</td>\n",
       "      <td>271.892894</td>\n",
       "      <td>...</td>\n",
       "      <td>-0.002034</td>\n",
       "      <td>-0.017229</td>\n",
       "      <td>0.110131</td>\n",
       "      <td>0.075766</td>\n",
       "      <td>-0.031935</td>\n",
       "      <td>-0.036371</td>\n",
       "      <td>-0.049602</td>\n",
       "      <td>0.007567</td>\n",
       "      <td>0.167646</td>\n",
       "      <td>271.553684</td>\n",
       "    </tr>\n",
       "    <tr>\n",
       "      <th>2018-12-29</th>\n",
       "      <td>113.217</td>\n",
       "      <td>272.957765</td>\n",
       "      <td>273.255041</td>\n",
       "      <td>273.311374</td>\n",
       "      <td>273.127642</td>\n",
       "      <td>272.316846</td>\n",
       "      <td>272.934672</td>\n",
       "      <td>272.968187</td>\n",
       "      <td>272.678587</td>\n",
       "      <td>271.573124</td>\n",
       "      <td>...</td>\n",
       "      <td>-0.129721</td>\n",
       "      <td>-0.164444</td>\n",
       "      <td>-0.223987</td>\n",
       "      <td>-0.217528</td>\n",
       "      <td>-0.224338</td>\n",
       "      <td>-0.024739</td>\n",
       "      <td>-0.183187</td>\n",
       "      <td>-0.187151</td>\n",
       "      <td>-0.228011</td>\n",
       "      <td>270.671979</td>\n",
       "    </tr>\n",
       "    <tr>\n",
       "      <th>2018-12-30</th>\n",
       "      <td>121.758</td>\n",
       "      <td>272.662447</td>\n",
       "      <td>272.893864</td>\n",
       "      <td>272.875668</td>\n",
       "      <td>272.631180</td>\n",
       "      <td>271.747378</td>\n",
       "      <td>272.404854</td>\n",
       "      <td>272.216439</td>\n",
       "      <td>272.101550</td>\n",
       "      <td>271.734617</td>\n",
       "      <td>...</td>\n",
       "      <td>0.123074</td>\n",
       "      <td>0.145322</td>\n",
       "      <td>0.467134</td>\n",
       "      <td>0.428947</td>\n",
       "      <td>0.163033</td>\n",
       "      <td>0.469522</td>\n",
       "      <td>0.054215</td>\n",
       "      <td>0.141186</td>\n",
       "      <td>0.387892</td>\n",
       "      <td>270.781108</td>\n",
       "    </tr>\n",
       "    <tr>\n",
       "      <th>2018-12-31</th>\n",
       "      <td>133.358</td>\n",
       "      <td>272.690364</td>\n",
       "      <td>272.644848</td>\n",
       "      <td>272.678614</td>\n",
       "      <td>272.577703</td>\n",
       "      <td>271.690835</td>\n",
       "      <td>272.374810</td>\n",
       "      <td>272.258678</td>\n",
       "      <td>272.142325</td>\n",
       "      <td>272.971704</td>\n",
       "      <td>...</td>\n",
       "      <td>0.054623</td>\n",
       "      <td>0.050858</td>\n",
       "      <td>0.365765</td>\n",
       "      <td>0.326824</td>\n",
       "      <td>-0.102772</td>\n",
       "      <td>0.427378</td>\n",
       "      <td>0.009097</td>\n",
       "      <td>0.071425</td>\n",
       "      <td>0.255817</td>\n",
       "      <td>271.889907</td>\n",
       "    </tr>\n",
       "  </tbody>\n",
       "</table>\n",
       "<p>14610 rows × 1517 columns</p>\n",
       "</div>"
      ],
      "text/plain": [
       "                  Q         T20         T65         T66         T67  \\\n",
       "1979-01-01  134.000  270.337855  269.533831  269.643257  270.126677   \n",
       "1979-01-02  209.000  259.806460  257.556831  257.838809  259.198829   \n",
       "1979-01-03  142.000  255.524174  253.791413  253.451285  253.861836   \n",
       "1979-01-04  281.000  255.423059  253.186664  253.195047  254.407030   \n",
       "1979-01-05  287.000  258.856168  255.140877  256.244287  258.958967   \n",
       "...             ...         ...         ...         ...         ...   \n",
       "2018-12-27  187.875  272.024544  272.229307  272.078609  271.985740   \n",
       "2018-12-28  161.900  272.674316  273.125816  273.058470  272.962667   \n",
       "2018-12-29  113.217  272.957765  273.255041  273.311374  273.127642   \n",
       "2018-12-30  121.758  272.662447  272.893864  272.875668  272.631180   \n",
       "2018-12-31  133.358  272.690364  272.644848  272.678614  272.577703   \n",
       "\n",
       "                  T112        T113        T114        T115        T121  ...  \\\n",
       "1979-01-01  268.652269  269.486290  269.317240  269.105815  269.971374  ...   \n",
       "1979-01-02  257.777470  257.979267  257.140730  257.285447  259.517771  ...   \n",
       "1979-01-03  253.181048  252.824501  252.143729  251.699574  254.879205  ...   \n",
       "1979-01-04  252.095631  252.483002  252.526668  252.278509  256.901037  ...   \n",
       "1979-01-05  254.906258  256.676104  257.198253  257.186725  260.520089  ...   \n",
       "...                ...         ...         ...         ...         ...  ...   \n",
       "2018-12-27  271.207220  271.671196  271.505197  271.404282  271.204857  ...   \n",
       "2018-12-28  272.298094  272.900685  273.002551  272.759013  271.892894  ...   \n",
       "2018-12-29  272.316846  272.934672  272.968187  272.678587  271.573124  ...   \n",
       "2018-12-30  271.747378  272.404854  272.216439  272.101550  271.734617  ...   \n",
       "2018-12-31  271.690835  272.374810  272.258678  272.142325  272.971704  ...   \n",
       "\n",
       "                E767      E768      E769      E770      E772      E773  \\\n",
       "1979-01-01  0.076270  0.098717  0.184784  0.165689  0.095762  0.241477   \n",
       "1979-01-02  0.047949  0.054136  0.097055  0.158136  0.061804  0.217116   \n",
       "1979-01-03 -0.007272  0.009058  0.044851  0.072568  0.037061  0.071960   \n",
       "1979-01-04 -0.141226 -0.140258 -0.094206 -0.092128 -0.109595 -0.094535   \n",
       "1979-01-05 -0.089553 -0.109411 -0.031876 -0.040326 -0.115176 -0.059815   \n",
       "...              ...       ...       ...       ...       ...       ...   \n",
       "2018-12-27 -0.034306 -0.040950  0.156138  0.142231  0.078009  0.099049   \n",
       "2018-12-28 -0.002034 -0.017229  0.110131  0.075766 -0.031935 -0.036371   \n",
       "2018-12-29 -0.129721 -0.164444 -0.223987 -0.217528 -0.224338 -0.024739   \n",
       "2018-12-30  0.123074  0.145322  0.467134  0.428947  0.163033  0.469522   \n",
       "2018-12-31  0.054623  0.050858  0.365765  0.326824 -0.102772  0.427378   \n",
       "\n",
       "                E813      E814      E815           T  \n",
       "1979-01-01  0.034289  0.105241  0.191938  266.851748  \n",
       "1979-01-02 -0.004516  0.031896  0.112937  256.017777  \n",
       "1979-01-03 -0.062477 -0.045287  0.002136  253.567698  \n",
       "1979-01-04 -0.198484 -0.165326 -0.099964  253.346479  \n",
       "1979-01-05 -0.119176 -0.111551 -0.037148  254.808773  \n",
       "...              ...       ...       ...         ...  \n",
       "2018-12-27 -0.103848 -0.038043  0.196894  269.764535  \n",
       "2018-12-28 -0.049602  0.007567  0.167646  271.553684  \n",
       "2018-12-29 -0.183187 -0.187151 -0.228011  270.671979  \n",
       "2018-12-30  0.054215  0.141186  0.387892  270.781108  \n",
       "2018-12-31  0.009097  0.071425  0.255817  271.889907  \n",
       "\n",
       "[14610 rows x 1517 columns]"
      ]
     },
     "execution_count": 4,
     "metadata": {},
     "output_type": "execute_result"
    }
   ],
   "source": [
    "daily_input"
   ]
  },
  {
   "cell_type": "code",
   "execution_count": 5,
   "id": "a024e5fe",
   "metadata": {},
   "outputs": [],
   "source": [
    "#define the possible parameters value (where Gridsearch is applied)\n",
    "\n",
    "C_range=np.logspace(-2, 2, 10)\n",
    "epsilon_range=np.logspace(-6, -1, 5)\n",
    "#n_range = [17, 50, 200]\n",
    "components_range = [5*3*12]\n",
    "#do not enlarge t_range for now\n",
    "t_range=[12]\n",
    "n_splits=10\n",
    "test_size=365"
   ]
  },
  {
   "cell_type": "markdown",
   "id": "e7d5c48a",
   "metadata": {},
   "source": [
    "# A) PCA+SVR"
   ]
  },
  {
   "cell_type": "markdown",
   "id": "18861993",
   "metadata": {},
   "source": [
    "### TRAIN A PCA+SVR MODEL "
   ]
  },
  {
   "cell_type": "code",
   "execution_count": 6,
   "id": "aacb3a01",
   "metadata": {
    "scrolled": true
   },
   "outputs": [
    {
     "ename": "TypeError",
     "evalue": "SVR_PCA_nested_CV_gridsearch() missing 1 required positional argument: 'test_size'",
     "output_type": "error",
     "traceback": [
      "\u001b[1;31m---------------------------------------------------------------------------\u001b[0m",
      "\u001b[1;31mTypeError\u001b[0m                                 Traceback (most recent call last)",
      "\u001b[1;32mC:\\Users\\MMAZZO~1\\AppData\\Local\\Temp/ipykernel_4688/2649787440.py\u001b[0m in \u001b[0;36m<module>\u001b[1;34m\u001b[0m\n\u001b[1;32m----> 1\u001b[1;33m \u001b[0mC\u001b[0m\u001b[1;33m,\u001b[0m\u001b[0meps\u001b[0m\u001b[1;33m,\u001b[0m\u001b[0mn\u001b[0m\u001b[1;33m=\u001b[0m\u001b[0mSVR_PCA_nested_CV_gridsearch\u001b[0m\u001b[1;33m(\u001b[0m\u001b[0mdaily_input\u001b[0m\u001b[1;33m,\u001b[0m \u001b[0mC_range\u001b[0m\u001b[1;33m,\u001b[0m  \u001b[0mepsilon_range\u001b[0m\u001b[1;33m,\u001b[0m \u001b[0mcomponents_range\u001b[0m\u001b[1;33m,\u001b[0m \u001b[0mt_range\u001b[0m\u001b[1;33m,\u001b[0m\u001b[0mn_splits\u001b[0m\u001b[1;33m,\u001b[0m\u001b[0mtest_size\u001b[0m\u001b[1;33m)\u001b[0m\u001b[1;33m\u001b[0m\u001b[1;33m\u001b[0m\u001b[0m\n\u001b[0m\u001b[0;32m      2\u001b[0m \u001b[0mprint\u001b[0m\u001b[1;33m(\u001b[0m\u001b[1;34mf'C={C}'\u001b[0m\u001b[1;33m)\u001b[0m\u001b[1;33m\u001b[0m\u001b[1;33m\u001b[0m\u001b[0m\n\u001b[0;32m      3\u001b[0m \u001b[0mprint\u001b[0m\u001b[1;33m(\u001b[0m\u001b[1;34mf'eps={eps}'\u001b[0m\u001b[1;33m)\u001b[0m\u001b[1;33m\u001b[0m\u001b[1;33m\u001b[0m\u001b[0m\n\u001b[0;32m      4\u001b[0m \u001b[0mprint\u001b[0m\u001b[1;33m(\u001b[0m\u001b[1;34mf'n={n}'\u001b[0m\u001b[1;33m)\u001b[0m\u001b[1;33m\u001b[0m\u001b[1;33m\u001b[0m\u001b[0m\n",
      "\u001b[1;31mTypeError\u001b[0m: SVR_PCA_nested_CV_gridsearch() missing 1 required positional argument: 'test_size'"
     ]
    }
   ],
   "source": [
    "C,eps,n=SVR_PCA_nested_CV_gridsearch(daily_input, C_range,  epsilon_range, components_range, t_range,n_splits,test_size)\n",
    "print(f'C={C}')\n",
    "print(f'eps={eps}')\n",
    "print(f'n={n}')"
   ]
  },
  {
   "cell_type": "markdown",
   "id": "9e7bfb3b",
   "metadata": {},
   "source": [
    "C=0.21544346900318834\n",
    "epsilon=0.003593813663804626\n",
    "n=180\n"
   ]
  },
  {
   "cell_type": "markdown",
   "id": "c4d61ea5",
   "metadata": {},
   "source": [
    "### PREDICT RUNOFF ON TEST SET AND QUANTIFY THE PERFORMANCE"
   ]
  },
  {
   "cell_type": "code",
   "execution_count": null,
   "id": "db450a92",
   "metadata": {
    "scrolled": true
   },
   "outputs": [],
   "source": [
    "radius_for_ensemble = 1\n",
    "predictions = nested_CV_PCA_SVR_predict(daily_input, C, eps, n, 12, n_splits, test_size, radius_for_ensemble)\n",
    "plot_prediction(predictions)"
   ]
  },
  {
   "cell_type": "code",
   "execution_count": null,
   "id": "5302ec81",
   "metadata": {
    "scrolled": true
   },
   "outputs": [],
   "source": [
    "r2_PCA180 = evaluate_prediction(predictions)\n",
    "#r2_PCA = evaluate_prediction(predictions.iloc[:,1:])"
   ]
  },
  {
   "cell_type": "markdown",
   "id": "fad3f100",
   "metadata": {},
   "source": [
    "### ANALYSE RESULTS AS ANOMALIES"
   ]
  },
  {
   "cell_type": "markdown",
   "id": "f8c1bbc4",
   "metadata": {},
   "source": [
    "### 1) PREDICT THE WHOLE SERIES WITH CLASSIC CV"
   ]
  },
  {
   "cell_type": "code",
   "execution_count": null,
   "id": "efb89688",
   "metadata": {},
   "outputs": [],
   "source": [
    "predictions_for_clim = classic_CV_PCA_SVR_predict(daily_input, C, eps, n, 12, n_splits)\n",
    "climatologies =predictions_for_clim.groupby(by=predictions_for_clim.index.day_of_year).mean().loc[:,['prediction','true_runoff']]\n",
    "climatologies['doty']=climatologies.index\n"
   ]
  },
  {
   "cell_type": "code",
   "execution_count": null,
   "id": "acf4e400",
   "metadata": {
    "scrolled": true
   },
   "outputs": [],
   "source": [
    "sns.set_theme(style=\"whitegrid\")\n",
    "ax,fig=plt.subplots(figsize=(20,10))\n",
    "sns.lineplot(data=climatologies,x='doty',y='prediction',label='prediction climatology')\n",
    "sns.lineplot(data=climatologies,x='doty',y='true_runoff',label='real climatology')\n",
    "plt.legend()"
   ]
  },
  {
   "cell_type": "markdown",
   "id": "288e06d0",
   "metadata": {},
   "source": [
    "### 2) COMPUTE THE ANOMALIES AND PLOT THEM"
   ]
  },
  {
   "cell_type": "code",
   "execution_count": null,
   "id": "59b6fec9",
   "metadata": {
    "scrolled": true
   },
   "outputs": [],
   "source": [
    "a=compute_anomalies(climatologies, predictions)\n",
    "a['split']=predictions.split\n",
    "plot_anomalies(a)"
   ]
  },
  {
   "cell_type": "markdown",
   "id": "d2010fb8",
   "metadata": {},
   "source": [
    "## B) PCA+SVR "
   ]
  },
  {
   "cell_type": "markdown",
   "id": "ca99ffdd",
   "metadata": {},
   "source": [
    "### TRAIN A PCA+SVR MODEL "
   ]
  },
  {
   "cell_type": "code",
   "execution_count": null,
   "id": "9dfb2e78",
   "metadata": {
    "scrolled": true
   },
   "outputs": [],
   "source": [
    "components_range2=[12*3]\n",
    "C2,eps2,n2=SVR_PCA_nested_CV_gridsearch(daily_input, C_range,  epsilon_range, components_range2, t_range,n_splits,test_size)\n",
    "print(f'C={C2}')\n",
    "print(f'epsilon={eps2}')\n",
    "print(f'n={n2}')"
   ]
  },
  {
   "cell_type": "markdown",
   "id": "9c3703f0",
   "metadata": {},
   "source": [
    "C2  =0.5994842503189409\n",
    "eps2=10e-06\n",
    "n2  =36"
   ]
  },
  {
   "cell_type": "markdown",
   "id": "73abca82",
   "metadata": {},
   "source": [
    "### PREDICT RUNOFF ON TEST SET AND QUANTIFY THE PERFORMANCE"
   ]
  },
  {
   "cell_type": "code",
   "execution_count": null,
   "id": "952414ce",
   "metadata": {
    "scrolled": true
   },
   "outputs": [],
   "source": [
    "radius_for_ensemble = 1\n",
    "predictions2 = nested_CV_PCA_SVR_predict(daily_input, C2, eps2, n2, 12, n_splits, test_size, radius_for_ensemble)\n",
    "plot_prediction(predictions2)"
   ]
  },
  {
   "cell_type": "markdown",
   "id": "b48d327e",
   "metadata": {},
   "source": [
    "predictions=pd.read_csv('tial.csv',date_parser=True)"
   ]
  },
  {
   "cell_type": "code",
   "execution_count": null,
   "id": "40451941",
   "metadata": {
    "scrolled": true
   },
   "outputs": [],
   "source": [
    "r2_PCA36 = evaluate_prediction(predictions2)\n",
    "#r2_PCA = evaluate_prediction(predictions.iloc[:,1:])"
   ]
  },
  {
   "cell_type": "markdown",
   "id": "2a649917",
   "metadata": {},
   "source": [
    "### ANALYSE RESULTS AS ANOMALIES"
   ]
  },
  {
   "cell_type": "markdown",
   "id": "6743d6e8",
   "metadata": {},
   "source": [
    "### 1) PREDICT THE WHOLE SERIES WITH CLASSIC CV"
   ]
  },
  {
   "cell_type": "code",
   "execution_count": null,
   "id": "9740603c",
   "metadata": {},
   "outputs": [],
   "source": [
    "predictions_for_clim2 = classic_CV_PCA_SVR_predict(daily_input, C2, eps2, n2, 12, n_splits)\n",
    "climatologies2 =predictions_for_clim2.groupby(by=predictions_for_clim2.index.day_of_year).mean().loc[:,['prediction','true_runoff']]\n",
    "climatologies2['doty']=climatologies2.index\n"
   ]
  },
  {
   "cell_type": "code",
   "execution_count": null,
   "id": "9b999433",
   "metadata": {
    "scrolled": true
   },
   "outputs": [],
   "source": [
    "sns.set_theme(style=\"whitegrid\")\n",
    "ax,fig=plt.subplots(figsize=(20,10))\n",
    "sns.lineplot(data=climatologies2,x='doty',y='prediction',label='prediction climatology')\n",
    "sns.lineplot(data=climatologies2,x='doty',y='true_runoff',label='real climatology')\n",
    "plt.legend()"
   ]
  },
  {
   "cell_type": "markdown",
   "id": "9052ba3a",
   "metadata": {},
   "source": [
    "### 2) COMPUTE THE ANOMALIES AND PLOT THEM"
   ]
  },
  {
   "cell_type": "code",
   "execution_count": null,
   "id": "d8f33316",
   "metadata": {},
   "outputs": [],
   "source": [
    "a2=compute_anomalies(climatologies2, predictions2)\n",
    "a2['split']=predictions2.split\n",
    "plot_anomalies(a2)"
   ]
  },
  {
   "cell_type": "markdown",
   "id": "b95dfd1e",
   "metadata": {},
   "source": [
    "# C) SVR \n",
    "## WITH SPATIAL STATISTICS AS INPUT"
   ]
  },
  {
   "cell_type": "code",
   "execution_count": null,
   "id": "6bf784d0",
   "metadata": {},
   "outputs": [],
   "source": [
    "C3, eps3 = SVR_nested_CV_gridsearch(daily_input_stat, C_range,epsilon_range, t_range,n_splits,test_size)\n",
    "print(f'C3={C3}')\n",
    "print(f'eps3={eps3}')"
   ]
  },
  {
   "cell_type": "markdown",
   "id": "c2ff44a9",
   "metadata": {},
   "source": [
    "### PREDICT RUNOFF ON TEST SET AND QUANTIFY THE PERFORMANCE"
   ]
  },
  {
   "cell_type": "code",
   "execution_count": null,
   "id": "7868a11c",
   "metadata": {
    "scrolled": true
   },
   "outputs": [],
   "source": [
    "radius_for_ensemble = 1\n",
    "predictions3 = nested_CV_SVR_predict(daily_input_stat, C3, eps3, 12, n_splits, test_size, radius_for_ensemble)"
   ]
  },
  {
   "cell_type": "code",
   "execution_count": null,
   "id": "12333e95",
   "metadata": {
    "scrolled": true
   },
   "outputs": [],
   "source": [
    "#predictions=pd.read_csv('tial.csv',date_parser=True)\n",
    "plot_prediction(predictions3)"
   ]
  },
  {
   "cell_type": "code",
   "execution_count": null,
   "id": "136457d5",
   "metadata": {
    "scrolled": false
   },
   "outputs": [],
   "source": [
    "r2_STATS= evaluate_prediction(predictions3)"
   ]
  },
  {
   "cell_type": "markdown",
   "id": "228f771a",
   "metadata": {},
   "source": [
    "### ANALYSE RESULTS AS ANOMALIES"
   ]
  },
  {
   "cell_type": "markdown",
   "id": "ae5e6ce8",
   "metadata": {},
   "source": [
    "### 1) PREDICT THE WHOLE SERIES WITH CLASSIC CV"
   ]
  },
  {
   "cell_type": "code",
   "execution_count": null,
   "id": "e2b07ef7",
   "metadata": {},
   "outputs": [],
   "source": [
    "predictions_for_clim3 = classic_CV_SVR_predict(daily_input_stat, C3, eps3, 12, n_splits)"
   ]
  },
  {
   "cell_type": "code",
   "execution_count": null,
   "id": "82fd50a5",
   "metadata": {},
   "outputs": [],
   "source": [
    "climatologies3 =predictions_for_clim3.groupby(by=predictions_for_clim3.index.day_of_year).mean().loc[:,['prediction','true_runoff']]\n",
    "climatologies3['doty']=climatologies3.index\n"
   ]
  },
  {
   "cell_type": "code",
   "execution_count": null,
   "id": "419702a5",
   "metadata": {
    "scrolled": true
   },
   "outputs": [],
   "source": [
    "sns.set_theme(style=\"whitegrid\")\n",
    "ax,fig=plt.subplots(figsize=(20,10))\n",
    "sns.lineplot(data=climatologies3,x='doty',y='prediction',label='prediction climatology')\n",
    "sns.lineplot(data=climatologies3,x='doty',y='true_runoff',label='real climatology')\n",
    "plt.legend()"
   ]
  },
  {
   "cell_type": "markdown",
   "id": "f6fe45d0",
   "metadata": {},
   "source": [
    "### 2) COMPUTE THE ANOMALIES AND PLOT THEM"
   ]
  },
  {
   "cell_type": "code",
   "execution_count": null,
   "id": "b09f1c65",
   "metadata": {},
   "outputs": [],
   "source": [
    "a3=compute_anomalies(climatologies3, predictions3)\n",
    "a3['split']=predictions3.split\n",
    "plot_anomalies(a3)"
   ]
  },
  {
   "cell_type": "markdown",
   "id": "09620a81",
   "metadata": {},
   "source": [
    "# D) SVR \n",
    "## WITH SPATIAL AVERAGE AS INPUT"
   ]
  },
  {
   "cell_type": "code",
   "execution_count": null,
   "id": "88f9717b",
   "metadata": {},
   "outputs": [],
   "source": [
    "C4, eps4 = SVR_nested_CV_gridsearch(daily_input_TPE, C_range,epsilon_range, t_range,n_splits,test_size)\n",
    "print(f'C4={C4}')\n",
    "print(f'eps4={eps4}')"
   ]
  },
  {
   "cell_type": "markdown",
   "id": "02ac0761",
   "metadata": {},
   "source": [
    "### PREDICT RUNOFF ON TEST SET AND QUANTIFY THE PERFORMANCE"
   ]
  },
  {
   "cell_type": "code",
   "execution_count": null,
   "id": "7023341f",
   "metadata": {
    "scrolled": true
   },
   "outputs": [],
   "source": [
    "radius_for_ensemble = 1\n",
    "predictions4 = nested_CV_SVR_predict(daily_input_stat, C4, eps4, 12, n_splits, test_size, radius_for_ensemble)"
   ]
  },
  {
   "cell_type": "code",
   "execution_count": null,
   "id": "61a84773",
   "metadata": {
    "scrolled": true
   },
   "outputs": [],
   "source": [
    "#predictions=pd.read_csv('tial.csv',date_parser=True)\n",
    "plot_prediction(predictions4)"
   ]
  },
  {
   "cell_type": "code",
   "execution_count": null,
   "id": "af30824e",
   "metadata": {
    "scrolled": false
   },
   "outputs": [],
   "source": [
    "r2_TPE = evaluate_prediction(predictions4)"
   ]
  },
  {
   "cell_type": "markdown",
   "id": "0004c82c",
   "metadata": {},
   "source": [
    "### ANALYSE RESULTS AS ANOMALIES"
   ]
  },
  {
   "cell_type": "markdown",
   "id": "d7b3d635",
   "metadata": {},
   "source": [
    "### 1) PREDICT THE WHOLE SERIES WITH CLASSIC CV"
   ]
  },
  {
   "cell_type": "code",
   "execution_count": null,
   "id": "bcdad921",
   "metadata": {},
   "outputs": [],
   "source": [
    "predictions_for_clim4 = classic_CV_SVR_predict(daily_input_stat, C4, eps4, 12, n_splits)"
   ]
  },
  {
   "cell_type": "code",
   "execution_count": null,
   "id": "ea57f052",
   "metadata": {},
   "outputs": [],
   "source": [
    "climatologies4 =predictions_for_clim4.groupby(by=predictions_for_clim4.index.day_of_year).mean().loc[:,['prediction','true_runoff']]\n",
    "climatologies4['doty']=climatologies4.index\n"
   ]
  },
  {
   "cell_type": "code",
   "execution_count": null,
   "id": "57add82d",
   "metadata": {
    "scrolled": true
   },
   "outputs": [],
   "source": [
    "sns.set_theme(style=\"whitegrid\")\n",
    "ax,fig=plt.subplots(figsize=(20,10))\n",
    "sns.lineplot(data=climatologies4,x='doty',y='prediction',label='prediction climatology')\n",
    "sns.lineplot(data=climatologies4,x='doty',y='true_runoff',label='real climatology')\n",
    "plt.legend()"
   ]
  },
  {
   "cell_type": "markdown",
   "id": "c2da6417",
   "metadata": {},
   "source": [
    "### 2) COMPUTE THE ANOMALIES AND PLOT THEM"
   ]
  },
  {
   "cell_type": "code",
   "execution_count": null,
   "id": "752574e2",
   "metadata": {},
   "outputs": [],
   "source": [
    "a4=compute_anomalies(climatologies4, predictions4)\n",
    "a4['split']=predictions4.split\n",
    "plot_anomalies(a4)"
   ]
  },
  {
   "cell_type": "markdown",
   "id": "4869891d",
   "metadata": {},
   "source": [
    "# COMPARE RESULTS"
   ]
  },
  {
   "cell_type": "code",
   "execution_count": null,
   "id": "9bf593c1",
   "metadata": {},
   "outputs": [],
   "source": [
    "results = pd.concat([r2_PCA180,r2_PCA36,r2_STATS,r2_TPE],axis=1)\n",
    "results.columns=['A) PCA(180)','B) PCA(180)','C) TPE_STATS','D) TPE_AVG']\n",
    "results.iloc[2:].plot.bar()\n",
    "plt.title('R^2 RESULTS COMPARISON')\n",
    "plt.ylabel('r^2 [/]')"
   ]
  },
  {
   "cell_type": "code",
   "execution_count": null,
   "id": "7574cbca",
   "metadata": {},
   "outputs": [],
   "source": []
  }
 ],
 "metadata": {
  "kernelspec": {
   "display_name": "Python 3 (ipykernel)",
   "language": "python",
   "name": "python3"
  },
  "language_info": {
   "codemirror_mode": {
    "name": "ipython",
    "version": 3
   },
   "file_extension": ".py",
   "mimetype": "text/x-python",
   "name": "python",
   "nbconvert_exporter": "python",
   "pygments_lexer": "ipython3",
   "version": "3.9.6"
  }
 },
 "nbformat": 4,
 "nbformat_minor": 5
}
